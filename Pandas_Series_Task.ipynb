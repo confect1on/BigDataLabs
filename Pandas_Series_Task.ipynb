{
 "nbformat": 4,
 "nbformat_minor": 0,
 "metadata": {
  "colab": {
   "provenance": []
  },
  "kernelspec": {
   "name": "python3",
   "display_name": "Python 3 (ipykernel)",
   "language": "python"
  },
  "language_info": {
   "name": "python"
  }
 },
 "cells": [
  {
   "cell_type": "markdown",
   "source": [
    "0. Импортируйте библитоеки ```Pandas``` и ```NumPy``` с псевдонимами **```pd```** и **```np```** соответственно."
   ],
   "metadata": {
    "id": "w_910n4R9TBy"
   }
  },
  {
   "cell_type": "code",
   "source": [
    "import numpy as np\n",
    "import pandas as pd"
   ],
   "metadata": {
    "id": "sHmVbM6V9iZO",
    "ExecuteTime": {
     "end_time": "2024-05-27T22:08:48.823812Z",
     "start_time": "2024-05-27T22:08:48.248754Z"
    }
   },
   "outputs": [],
   "execution_count": 1
  },
  {
   "cell_type": "markdown",
   "source": [
    "1. Напишите программу с использованием ```Pandas``` для создания массивоподобной структуры, из обычного списка ```Python```.\n",
    "Например ```[2,4,6,8,10]```."
   ],
   "metadata": {
    "id": "xzC3LynV4Ad8"
   }
  },
  {
   "cell_type": "code",
   "source": "pd.array([2,4,6,8,10])",
   "metadata": {
    "id": "ZhwkHC8u5kH9",
    "ExecuteTime": {
     "end_time": "2024-05-27T22:09:10.804082Z",
     "start_time": "2024-05-27T22:09:10.798308Z"
    }
   },
   "outputs": [
    {
     "data": {
      "text/plain": [
       "<IntegerArray>\n",
       "[2, 4, 6, 8, 10]\n",
       "Length: 5, dtype: Int64"
      ]
     },
     "execution_count": 2,
     "metadata": {},
     "output_type": "execute_result"
    }
   ],
   "execution_count": 2
  },
  {
   "cell_type": "markdown",
   "source": [
    "2. Напишите программу с использованием ```Pandas```, которая конвертирует созданный в задаче 1 объект в обычный список ```Python```. Отобразите типы этих двух объектов."
   ],
   "metadata": {
    "id": "pWoZk_l_5RXr"
   }
  },
  {
   "cell_type": "code",
   "source": [
    "pd_array = pd.array([2,4,6,8,10])\n",
    "python_array = pd_array.tolist()\n",
    "print(type(pd_array))\n",
    "print(type(python_array))"
   ],
   "metadata": {
    "id": "gtGzGUh75Ow6",
    "ExecuteTime": {
     "end_time": "2024-05-27T22:10:54.797561Z",
     "start_time": "2024-05-27T22:10:54.794024Z"
    }
   },
   "outputs": [
    {
     "name": "stdout",
     "output_type": "stream",
     "text": [
      "<class 'pandas.core.arrays.integer.IntegerArray'>\n",
      "<class 'list'>\n"
     ]
    }
   ],
   "execution_count": 4
  },
  {
   "cell_type": "markdown",
   "source": [
    "3. Напишите программу с использованием ```Pandas```, которая суммирует, вычитает, умножает и делит два объекта типа ```Series``` поэлементно.\n",
    "Например ```[1,3,5,7,9]``` и ```[2,4,6,8,10]```."
   ],
   "metadata": {
    "id": "PXKEg-iW5neK"
   }
  },
  {
   "cell_type": "code",
   "metadata": {
    "id": "3M13olmF3zyP",
    "ExecuteTime": {
     "end_time": "2024-05-27T22:13:38.406560Z",
     "start_time": "2024-05-27T22:13:38.400730Z"
    }
   },
   "source": [
    "first = pd.Series([1, 3, 5, 7, 9])\n",
    "second = pd.Series([2, 4, 6, 8, 10])\n",
    "print(first + second)\n",
    "print(first - second)\n",
    "print(first * second)\n",
    "print(first / second)"
   ],
   "outputs": [
    {
     "name": "stdout",
     "output_type": "stream",
     "text": [
      "0     3\n",
      "1     7\n",
      "2    11\n",
      "3    15\n",
      "4    19\n",
      "dtype: int64\n",
      "0   -1\n",
      "1   -1\n",
      "2   -1\n",
      "3   -1\n",
      "4   -1\n",
      "dtype: int64\n",
      "0     2\n",
      "1    12\n",
      "2    30\n",
      "3    56\n",
      "4    90\n",
      "dtype: int64\n",
      "0    0.500000\n",
      "1    0.750000\n",
      "2    0.833333\n",
      "3    0.875000\n",
      "4    0.900000\n",
      "dtype: float64\n"
     ]
    }
   ],
   "execution_count": 5
  },
  {
   "cell_type": "markdown",
   "source": [
    "4. Напишите программу с использованием ```Pandas```, которая сравнивает два объекта ```Series``` поэлементно. С помощью операторов ```<```, ```>```, ```=```."
   ],
   "metadata": {
    "id": "Ourt2Cps6AZA"
   }
  },
  {
   "cell_type": "code",
   "source": [
    "first = pd.Series([1, 3, 5, 7, 9])\n",
    "second = pd.Series([1, 3, 6, 8, 10])\n",
    "print(first > second)\n",
    "print(first < second)\n",
    "print(first == second)"
   ],
   "metadata": {
    "id": "v8lFNTw16Wc_",
    "ExecuteTime": {
     "end_time": "2024-05-27T22:15:35.238122Z",
     "start_time": "2024-05-27T22:15:35.232891Z"
    }
   },
   "outputs": [
    {
     "name": "stdout",
     "output_type": "stream",
     "text": [
      "0    False\n",
      "1    False\n",
      "2    False\n",
      "3    False\n",
      "4    False\n",
      "dtype: bool\n",
      "0    False\n",
      "1    False\n",
      "2     True\n",
      "3     True\n",
      "4     True\n",
      "dtype: bool\n",
      "0     True\n",
      "1     True\n",
      "2    False\n",
      "3    False\n",
      "4    False\n",
      "dtype: bool\n"
     ]
    }
   ],
   "execution_count": 8
  },
  {
   "cell_type": "markdown",
   "source": [
    "5. Напишите программу с использованием ```Pandas```, которая преобразует словарь ```{'a': 100, 'b': 200, 'c': 300, 'd': 400, 'e': 800}``` в объект ```Series```."
   ],
   "metadata": {
    "id": "03erMdRb6XHm"
   }
  },
  {
   "cell_type": "code",
   "source": "pd.Series({'a': 100, 'b': 200, 'c': 300, 'd': 400, 'e': 800})",
   "metadata": {
    "id": "ASd7Lul97P6N",
    "ExecuteTime": {
     "end_time": "2024-05-27T22:16:04.886413Z",
     "start_time": "2024-05-27T22:16:04.881436Z"
    }
   },
   "outputs": [
    {
     "data": {
      "text/plain": [
       "a    100\n",
       "b    200\n",
       "c    300\n",
       "d    400\n",
       "e    800\n",
       "dtype: int64"
      ]
     },
     "execution_count": 9,
     "metadata": {},
     "output_type": "execute_result"
    }
   ],
   "execution_count": 9
  },
  {
   "cell_type": "markdown",
   "source": [
    "6. Напишите программу с использованием ```Pandas```, которая конвертирует ```NumPy``` массив ```[10 20 30 40 50]``` в объект ```Series```."
   ],
   "metadata": {
    "id": "iAFVJdnX7QRp"
   }
  },
  {
   "cell_type": "code",
   "source": "pd.Series([10, 20, 30, 40, 50])",
   "metadata": {
    "id": "2CPdx9CS7cKu",
    "ExecuteTime": {
     "end_time": "2024-05-27T22:17:09.752757Z",
     "start_time": "2024-05-27T22:17:09.747758Z"
    }
   },
   "outputs": [
    {
     "data": {
      "text/plain": [
       "0    10\n",
       "1    20\n",
       "2    30\n",
       "3    40\n",
       "4    50\n",
       "dtype: int64"
      ]
     },
     "execution_count": 10,
     "metadata": {},
     "output_type": "execute_result"
    }
   ],
   "execution_count": 10
  },
  {
   "cell_type": "markdown",
   "source": [
    "7. Напишите программу с использованием ```Pandas```, которая преобразует тип данных объекта ```Series``` в тип ```float64```.\n",
    "\n",
    "Входной объект:\n",
    "\n",
    "| ind | value  |\n",
    "|---\t|--------|\n",
    "| 0 \t| 100    |\n",
    "| 1 \t| 200    |\n",
    "| 2 \t| python |\n",
    "| 3 \t| 300.12 |\n",
    "| 4 \t| 400    |"
   ],
   "metadata": {
    "id": "lewO7iKR7ctZ"
   }
  },
  {
   "cell_type": "code",
   "source": [
    "t = pd.Series([100, 200, \"python\", 300.12, 400])\n",
    "pd.to_numeric(t, errors='coerce')"
   ],
   "metadata": {
    "id": "xWvPMn9n7ujf",
    "ExecuteTime": {
     "end_time": "2024-05-28T05:15:43.287869Z",
     "start_time": "2024-05-28T05:15:43.283571Z"
    }
   },
   "outputs": [
    {
     "data": {
      "text/plain": [
       "0    100.00\n",
       "1    200.00\n",
       "2       NaN\n",
       "3    300.12\n",
       "4    400.00\n",
       "dtype: float64"
      ]
     },
     "execution_count": 15,
     "metadata": {},
     "output_type": "execute_result"
    }
   ],
   "execution_count": 15
  },
  {
   "cell_type": "markdown",
   "source": [
    "8. Напишите программу с использованием ```Pandas```, которая преобразует первый столбец объекта ```DataFrame``` в объект ```Series```."
   ],
   "metadata": {
    "id": "9WnFyxQF9CAg"
   }
  },
  {
   "cell_type": "code",
   "source": [
    "dataframe = pd.DataFrame(data={'col1': [1, 2, 3, 4, 7, 11], 'col2': [4, 5, 6, 9, 5, 0], 'col3': [7, 5, 8, 12, 1,11]})\n",
    "print(\"Original DataFrame\")\n",
    "dataframe['col1']"
   ],
   "metadata": {
    "colab": {
     "base_uri": "https://localhost:8080/",
     "height": 255
    },
    "id": "cpqbX9_295sU",
    "outputId": "b0f3a983-b188-4a0f-de8b-f306f4fb3e7f",
    "ExecuteTime": {
     "end_time": "2024-05-28T05:17:40.708971Z",
     "start_time": "2024-05-28T05:17:40.702889Z"
    }
   },
   "outputs": [
    {
     "name": "stdout",
     "output_type": "stream",
     "text": [
      "Original DataFrame\n"
     ]
    },
    {
     "data": {
      "text/plain": [
       "0     1\n",
       "1     2\n",
       "2     3\n",
       "3     4\n",
       "4     7\n",
       "5    11\n",
       "Name: col1, dtype: int64"
      ]
     },
     "execution_count": 18,
     "metadata": {},
     "output_type": "execute_result"
    }
   ],
   "execution_count": 18
  },
  {
   "cell_type": "markdown",
   "source": [
    "9. Напишите программу с использованием ```Pandas```, которая преобразует указанный ```Series``` в массив ```NumPy```.\n",
    "\n",
    "Входной объект:\n",
    "\n",
    "| ind | value  |\n",
    "|---\t|--------|\n",
    "| 0 \t| 100    |\n",
    "| 1 \t| 200    |\n",
    "| 2 \t| python |\n",
    "| 3 \t| 300.12 |\n",
    "| 4 \t| 400    |"
   ],
   "metadata": {
    "id": "uqsk9ELv-pJl"
   }
  },
  {
   "metadata": {
    "ExecuteTime": {
     "end_time": "2024-05-28T05:24:41.287660Z",
     "start_time": "2024-05-28T05:24:41.282893Z"
    }
   },
   "cell_type": "code",
   "source": "pd.to_numeric(pd.Series([100, 200, \"python\", 300.12, 400]), errors='coerce').to_numpy(dtype=np.float32)",
   "outputs": [
    {
     "data": {
      "text/plain": [
       "array([100.  , 200.  ,    nan, 300.12, 400.  ], dtype=float32)"
      ]
     },
     "execution_count": 23,
     "metadata": {},
     "output_type": "execute_result"
    }
   ],
   "execution_count": 23
  },
  {
   "cell_type": "markdown",
   "source": [
    "10. Напишите программу с использованием ```Pandas```, которая преобразует ```Series``` списков в обычный объект ```Series```.\n",
    "\n",
    "Вход:\n",
    "\n",
    "|   |   |\n",
    "|---|---|\n",
    "| ```0``` | ```[Red, Green, White]```  |\n",
    "| ```1``` | ```[Red, Black]``` |\n",
    "| ```2``` | ```[Yellow]``` |\n",
    "\n",
    "Выход:\n",
    "\n",
    "|   |   |\n",
    "|---|---|\n",
    "|```0```|```Red```|\n",
    "|```1```|```Green```|\n",
    "|```2```|```White```|\n",
    "|```3```|```Red```|\n",
    "|```4```|```Black```|\n",
    "|```5```|```Yellow```|\n"
   ],
   "metadata": {
    "id": "7D3K5fYu__VZ"
   }
  },
  {
   "cell_type": "code",
   "source": "pd.Series([[\"Red\", \"Green\", \"White\"], [\"Red\", \"Black\"], [\"Yellow\"]]).explode(ignore_index=True)",
   "metadata": {
    "id": "R8sPV1Ef-IaK",
    "ExecuteTime": {
     "end_time": "2024-05-28T05:30:59.819423Z",
     "start_time": "2024-05-28T05:30:59.814665Z"
    }
   },
   "outputs": [
    {
     "data": {
      "text/plain": [
       "0       Red\n",
       "1     Green\n",
       "2     White\n",
       "3       Red\n",
       "4     Black\n",
       "5    Yellow\n",
       "dtype: object"
      ]
     },
     "execution_count": 25,
     "metadata": {},
     "output_type": "execute_result"
    }
   ],
   "execution_count": 25
  },
  {
   "cell_type": "markdown",
   "source": [
    "11. Напишите программу с использованием ```Pandas```, которая сортирует указанный ```Series```\n",
    "\n",
    "| ind | value  |\n",
    "|---\t|--------|\n",
    "| 0 \t| 100    |\n",
    "| 1 \t| 200    |\n",
    "| 2 \t| python |\n",
    "| 3 \t| 300.12 |\n",
    "| 4 \t| 400    |"
   ],
   "metadata": {
    "id": "RROFz2-jDmKZ"
   }
  },
  {
   "cell_type": "code",
   "source": "pd.to_numeric(pd.Series([100, 200, \"python\", 300.12, 400]), errors='coerce').sort_values()",
   "metadata": {
    "id": "_4PhPDckD1p2",
    "ExecuteTime": {
     "end_time": "2024-05-28T05:33:30.838108Z",
     "start_time": "2024-05-28T05:33:30.832924Z"
    }
   },
   "outputs": [
    {
     "data": {
      "text/plain": [
       "0    100.00\n",
       "1    200.00\n",
       "3    300.12\n",
       "4    400.00\n",
       "2       NaN\n",
       "dtype: float64"
      ]
     },
     "execution_count": 29,
     "metadata": {},
     "output_type": "execute_result"
    }
   ],
   "execution_count": 29
  },
  {
   "cell_type": "markdown",
   "source": [
    "12. Напишите программу с использованием ```Pandas```, которая добавляет какие-нибудь данные в указанный ```Series```.\n",
    "\n",
    "| ind | value  |\n",
    "|---\t|--------|\n",
    "| 0 \t| 100    |\n",
    "| 1 \t| 200    |\n",
    "| 2 \t| python |\n",
    "| 3 \t| 300.12 |\n",
    "| 4 \t| 400    |"
   ],
   "metadata": {
    "id": "Ga8B7n0ZD2By"
   }
  },
  {
   "cell_type": "code",
   "source": [
    "t = pd.Series([100, 200, \"python\", 300.12, 400])\n",
    "t[5] = 'Z'\n",
    "t"
   ],
   "metadata": {
    "id": "VluXfjc5EC10",
    "ExecuteTime": {
     "end_time": "2024-05-28T05:36:25.577394Z",
     "start_time": "2024-05-28T05:36:25.572396Z"
    }
   },
   "outputs": [
    {
     "data": {
      "text/plain": [
       "0       100\n",
       "1       200\n",
       "2    python\n",
       "3    300.12\n",
       "4       400\n",
       "5         Z\n",
       "dtype: object"
      ]
     },
     "execution_count": 32,
     "metadata": {},
     "output_type": "execute_result"
    }
   ],
   "execution_count": 32
  },
  {
   "cell_type": "markdown",
   "source": [
    "13. Напишите программу с использованием ```Pandas```, которая создает подмножество данного ```Series``` по некоторому условию (неравенству).\n"
   ],
   "metadata": {
    "id": "ayEwUtZJEEyB"
   }
  },
  {
   "cell_type": "code",
   "source": [
    "data = pd.Series([1, 100, 1000, 228])\n",
    "data[data > 100]"
   ],
   "metadata": {
    "id": "PCLgYVaLEbSR",
    "ExecuteTime": {
     "end_time": "2024-05-28T05:37:42.719849Z",
     "start_time": "2024-05-28T05:37:42.715832Z"
    }
   },
   "outputs": [
    {
     "data": {
      "text/plain": [
       "2    1000\n",
       "3     228\n",
       "dtype: int64"
      ]
     },
     "execution_count": 33,
     "metadata": {},
     "output_type": "execute_result"
    }
   ],
   "execution_count": 33
  },
  {
   "cell_type": "markdown",
   "source": [
    "14. Напишите программу с использованием ```Pandas```, которая изменяет порядок индексов указанного объекта ```Series```.\n",
    "\n",
    "Например\n",
    "\n",
    "|   |   |\n",
    "|---|---|\n",
    "|```A```|```1```|\n",
    "|```B```|```2```|\n",
    "|```C```|```3```|\n",
    "|```D```|```4```|\n",
    "|```E```|```5```|\n",
    "\n",
    "преобразуется в\n",
    "\n",
    "|   |   |\n",
    "|---|---|\n",
    "|```B```|```2```|\n",
    "|```A```|```1```|\n",
    "|```C```|```3```|\n",
    "|```D```|```4```|\n",
    "|```E```|```5```|"
   ],
   "metadata": {
    "id": "5Wn4g5FSEdn-"
   }
  },
  {
   "cell_type": "code",
   "source": "pd.Series(index=['a', 'b', 'c', 'd', 'e'], data=[1, 2, 3, 4, 5]).sample(frac=1)",
   "metadata": {
    "id": "65Dw-G-UE9-i",
    "ExecuteTime": {
     "end_time": "2024-05-28T05:40:13.172862Z",
     "start_time": "2024-05-28T05:40:13.167012Z"
    }
   },
   "outputs": [
    {
     "data": {
      "text/plain": [
       "a    1\n",
       "c    3\n",
       "d    4\n",
       "b    2\n",
       "e    5\n",
       "dtype: int64"
      ]
     },
     "execution_count": 34,
     "metadata": {},
     "output_type": "execute_result"
    }
   ],
   "execution_count": 34
  },
  {
   "cell_type": "markdown",
   "source": [
    "15.  Напишите программу с использованием ```Pandas```, которая вычисляет среднее значение и стандартное отклонение указанного объекта ```Series```."
   ],
   "metadata": {
    "id": "5mDaHcBUFB_z"
   }
  },
  {
   "cell_type": "code",
   "source": [
    "data = pd.Series([1, 2, 3, 4, 5])\n",
    "print(\"mean: \", data.mean())\n",
    "print(\"std\", data.std())"
   ],
   "metadata": {
    "id": "NrbLsxWCE-Xc",
    "ExecuteTime": {
     "end_time": "2024-05-28T05:42:14.637897Z",
     "start_time": "2024-05-28T05:42:14.632900Z"
    }
   },
   "outputs": [
    {
     "name": "stdout",
     "output_type": "stream",
     "text": [
      "mean:  3.0\n",
      "std 1.5811388300841898\n"
     ]
    }
   ],
   "execution_count": 37
  },
  {
   "cell_type": "markdown",
   "source": [
    "16. Напишите программу с использованием ```Pandas```, которая выводит те элементы первого объекта ```Series```, которые не встречаются во втором объекте ```Series```."
   ],
   "metadata": {
    "id": "2DZGJjsiFMct"
   }
  },
  {
   "cell_type": "code",
   "source": [
    "series1 = pd.Series(['a', 'b', 'c', 'd', 'e'])\n",
    "series2 = pd.Series(['c', 'd', 'f', 'g'])\n",
    "series1[~series1.isin(series2)]"
   ],
   "metadata": {
    "id": "IrgyXr39FgF9",
    "ExecuteTime": {
     "end_time": "2024-05-28T05:43:18.418222Z",
     "start_time": "2024-05-28T05:43:18.413222Z"
    }
   },
   "outputs": [
    {
     "data": {
      "text/plain": [
       "0    a\n",
       "1    b\n",
       "4    e\n",
       "dtype: object"
      ]
     },
     "execution_count": 40,
     "metadata": {},
     "output_type": "execute_result"
    }
   ],
   "execution_count": 40
  },
  {
   "cell_type": "markdown",
   "source": [
    "17. Напишите программу с использованием ```Pandas```, которая выводит те элементы двух ```Series```, которые не являются общими для обоих."
   ],
   "metadata": {
    "id": "8ZQKwSEAFgaa"
   }
  },
  {
   "cell_type": "code",
   "source": [
    "series1 = pd.Series(['a', 'b', 'c', 'd', 'e'])\n",
    "series2 = pd.Series(['c', 'd', 'f', 'g'])\n",
    "pd.concat([series1, series2]).drop_duplicates(keep=False)"
   ],
   "metadata": {
    "id": "hhKGLRWQFrY9",
    "ExecuteTime": {
     "end_time": "2024-05-28T05:50:38.209609Z",
     "start_time": "2024-05-28T05:50:38.203610Z"
    }
   },
   "outputs": [
    {
     "data": {
      "text/plain": [
       "0    a\n",
       "1    b\n",
       "4    e\n",
       "2    f\n",
       "3    g\n",
       "dtype: object"
      ]
     },
     "execution_count": 46,
     "metadata": {},
     "output_type": "execute_result"
    }
   ],
   "execution_count": 46
  },
  {
   "cell_type": "markdown",
   "source": [
    "18. Напишите программу с использованием ```Pandas```, которая вычисляет минимум, 25-й процентиль, медиану, 75-й процентиль и максимум указанного объекта ```Series```."
   ],
   "metadata": {
    "id": "9bZK3S6SFsyg"
   }
  },
  {
   "cell_type": "code",
   "source": [
    "data = pd.Series([10, 15, 8, 21, 14, 18, 9, 24, 17, 19])\n",
    "print(data.min())\n",
    "print(data.quantile(0.25))\n",
    "print(data.median())\n",
    "print(data.quantile(0.75))\n",
    "print(data.max())"
   ],
   "metadata": {
    "id": "RBgiz6J0GB3x",
    "ExecuteTime": {
     "end_time": "2024-05-28T05:51:55.339923Z",
     "start_time": "2024-05-28T05:51:55.333924Z"
    }
   },
   "outputs": [
    {
     "name": "stdout",
     "output_type": "stream",
     "text": [
      "8\n",
      "11.0\n",
      "16.0\n",
      "18.75\n",
      "24\n"
     ]
    }
   ],
   "execution_count": 48
  },
  {
   "cell_type": "markdown",
   "source": [
    "19. Напишите программу с использованием ```Pandas```, которая вычисляет частоту для каждого уникального элемента указанного объекта ```Series```."
   ],
   "metadata": {
    "id": "m89oL7eVGCQi"
   }
  },
  {
   "cell_type": "code",
   "source": [
    "data = pd.Series([1, 1, 1, 2, 3, 3]).value_counts()\n",
    "data"
   ],
   "metadata": {
    "id": "J3nRz1X2GQCy",
    "ExecuteTime": {
     "end_time": "2024-05-28T05:53:37.045606Z",
     "start_time": "2024-05-28T05:53:37.041236Z"
    }
   },
   "outputs": [
    {
     "data": {
      "text/plain": [
       "1    3\n",
       "3    2\n",
       "2    1\n",
       "Name: count, dtype: int64"
      ]
     },
     "execution_count": 53,
     "metadata": {},
     "output_type": "execute_result"
    }
   ],
   "execution_count": 53
  },
  {
   "cell_type": "markdown",
   "source": [
    "20. Напишите программу с использованием ```Pandas```, которая отображает самое частое значение в заданном ```Series```, а все остальные значения заменяет на ```Other```."
   ],
   "metadata": {
    "id": "z8pJECV4GQqb"
   }
  },
  {
   "cell_type": "code",
   "source": [
    "data = pd.Series(['apple', 'banana', 'apple', 'orange', 'banana', 'apple'])\n",
    "value_counts = data.value_counts()\n",
    "data.replace(value_counts.index[value_counts != value_counts.max()], 'Other')"
   ],
   "metadata": {
    "id": "j1INq18XGmpr",
    "ExecuteTime": {
     "end_time": "2024-05-28T05:58:15.348553Z",
     "start_time": "2024-05-28T05:58:15.343082Z"
    }
   },
   "outputs": [
    {
     "data": {
      "text/plain": [
       "0    apple\n",
       "1    Other\n",
       "2    apple\n",
       "3    Other\n",
       "4    Other\n",
       "5    apple\n",
       "dtype: object"
      ]
     },
     "execution_count": 58,
     "metadata": {},
     "output_type": "execute_result"
    }
   ],
   "execution_count": 58
  },
  {
   "cell_type": "markdown",
   "source": "",
   "metadata": {
    "id": "h3Shkf7KGQuU"
   }
  },
  {
   "cell_type": "code",
   "source": "pd.Series(['apple', 'banana', 'cherry', 'date', 'elderberry']).iloc[[1, 3]]",
   "metadata": {
    "id": "DhbKrLJOKURK",
    "ExecuteTime": {
     "end_time": "2024-05-28T06:15:21.144674Z",
     "start_time": "2024-05-28T06:15:21.140131Z"
    }
   },
   "outputs": [
    {
     "data": {
      "text/plain": [
       "1    banana\n",
       "3      date\n",
       "dtype: object"
      ]
     },
     "execution_count": 67,
     "metadata": {},
     "output_type": "execute_result"
    }
   ],
   "execution_count": 67
  },
  {
   "cell_type": "markdown",
   "source": [
    "22. Напишите программу с использованием ```Pandas```, которая извлекает из заданного ```Series``` элементы, стоящие на указанных местах."
   ],
   "metadata": {
    "id": "auN3aEKRKUuD"
   }
  },
  {
   "cell_type": "code",
   "source": [
    "series1 = pd.Series(['apple', 'banana', 'cherry', 'date', 'elderberry'])\n",
    "series2 = pd.Series(['banana', 'cherry', 'elderberry', 'fig', 'grape'])\n",
    "series2[np.nonzero(np.isin(series2, series1))[0]]"
   ],
   "metadata": {
    "id": "du9vLOFlKi-u",
    "ExecuteTime": {
     "end_time": "2024-05-28T06:25:57.764327Z",
     "start_time": "2024-05-28T06:25:57.758766Z"
    }
   },
   "outputs": [
    {
     "data": {
      "text/plain": [
       "0        banana\n",
       "1        cherry\n",
       "2    elderberry\n",
       "dtype: object"
      ]
     },
     "execution_count": 79,
     "metadata": {},
     "output_type": "execute_result"
    }
   ],
   "execution_count": 79
  },
  {
   "cell_type": "markdown",
   "source": [
    "23. Напишите программу с использованием ```Pandas```, которая находит позиции элементов заданного ```Series``` в другом заданном ```Series```."
   ],
   "metadata": {
    "id": "bMXJYeniKjgk"
   }
  },
  {
   "cell_type": "code",
   "source": [
    "data = pd.Series(['hello world', 'pandas is great', 'python programming'])\n",
    "data.apply()\n",
    "data = data.str.capitalize()\n",
    "data.apply(lambda x: x[:-1] + x[-1].upper())"
   ],
   "metadata": {
    "id": "etSHU7vgKwLZ",
    "ExecuteTime": {
     "end_time": "2024-05-28T06:45:20.124560Z",
     "start_time": "2024-05-28T06:45:20.119394Z"
    }
   },
   "outputs": [
    {
     "data": {
      "text/plain": [
       "0           Hello worlD\n",
       "1       Pandas is greaT\n",
       "2    Python programminG\n",
       "dtype: object"
      ]
     },
     "execution_count": 90,
     "metadata": {},
     "output_type": "execute_result"
    }
   ],
   "execution_count": 90
  },
  {
   "cell_type": "markdown",
   "source": [
    "24. Напишите программу с использованием ```Pandas```, которая преобразует первый и последний символ каждого слова в заданном ```Series``` в верхний регистр."
   ],
   "metadata": {
    "id": "ddg7YeGmKxFy"
   }
  },
  {
   "cell_type": "code",
   "source": "pd.Series(['hello world', 'pandas is great', 'python programming']).str.len()",
   "metadata": {
    "id": "r6bQggPkLDwK",
    "ExecuteTime": {
     "end_time": "2024-05-28T06:55:10.860204Z",
     "start_time": "2024-05-28T06:55:10.855263Z"
    }
   },
   "outputs": [
    {
     "data": {
      "text/plain": [
       "0    11\n",
       "1    15\n",
       "2    18\n",
       "dtype: int64"
      ]
     },
     "execution_count": 91,
     "metadata": {},
     "output_type": "execute_result"
    }
   ],
   "execution_count": 91
  },
  {
   "cell_type": "markdown",
   "source": [
    "25. Напишите программу с использованием ```Pandas```, которая вычисляет количество символов в каждом слове в заданном ```Series```"
   ],
   "metadata": {
    "id": "ZRJltKnCLEOM"
   }
  },
  {
   "cell_type": "code",
   "source": [],
   "metadata": {
    "id": "ZQZNZw_9LNlN"
   },
   "execution_count": null,
   "outputs": []
  },
  {
   "cell_type": "markdown",
   "source": [
    "26. Напишите программу с использованием ```Pandas```, которая вычисляет разницу между разницами последовательных чисел в заданном ```Series```."
   ],
   "metadata": {
    "id": "KG7xKzimLN9I"
   }
  },
  {
   "cell_type": "code",
   "source": [],
   "metadata": {
    "id": "XyR4iFslLwow"
   },
   "execution_count": null,
   "outputs": []
  },
  {
   "cell_type": "markdown",
   "source": [
    "27. Напишите программу с использованием ```Pandas```, которая преобразует ```Series```, содержащий строковые представления дат в ```timeseries```."
   ],
   "metadata": {
    "id": "g2axIHwqLxCK"
   }
  },
  {
   "cell_type": "code",
   "source": [],
   "metadata": {
    "id": "P3Uo6NAwMBDh"
   },
   "execution_count": null,
   "outputs": []
  },
  {
   "cell_type": "markdown",
   "source": [
    "28. Напишите программу с использованием ```Pandas```, которая получает день месяца, день года, номер недели, и день недели для каждого элемента заданного ```Series```, содержащего строковые представления дат."
   ],
   "metadata": {
    "id": "BtH2SMKBMDfO"
   }
  },
  {
   "cell_type": "code",
   "source": [],
   "metadata": {
    "id": "e9B8tBnsMVYm"
   },
   "execution_count": null,
   "outputs": []
  },
  {
   "cell_type": "markdown",
   "source": [
    "29. Напишите программу с использованием ```Pandas```, которая преобразует ```Series``` содержащий строковые представления вида ```\"месяц-год\"``` в ```Series```, содержащий даты, подставляя в качестве дня указанное число."
   ],
   "metadata": {
    "id": "XGfA2WLwMV90"
   }
  },
  {
   "cell_type": "code",
   "source": [],
   "metadata": {
    "id": "jCpdEj17MYal"
   },
   "execution_count": null,
   "outputs": []
  },
  {
   "cell_type": "markdown",
   "source": [
    "30. Напишите программу с использованием ```Pandas```, которая выбирает из указанного ```Series``` все слова, в которых содержится хотя бы две гласных буквы."
   ],
   "metadata": {
    "id": "0eixA9nIMY1K"
   }
  },
  {
   "cell_type": "code",
   "source": [],
   "metadata": {
    "id": "OqjdFzL4MZ3J"
   },
   "execution_count": null,
   "outputs": []
  },
  {
   "cell_type": "markdown",
   "source": [
    "31. Напишите программу с использованием ```Pandas```, которая вычисляет евклидово расстояние между двумя заданными ```Series```."
   ],
   "metadata": {
    "id": "Hi6muaL8MaNa"
   }
  },
  {
   "cell_type": "code",
   "source": [],
   "metadata": {
    "id": "6h2R0PimMbVd"
   },
   "execution_count": null,
   "outputs": []
  },
  {
   "cell_type": "markdown",
   "source": [
    "32. Напишите программу с использованием ```Pandas```, которая находит позиции элементов заданного ```Series```, которые окружены меньшими значениями с обеих сторон."
   ],
   "metadata": {
    "id": "ULacr3CCMbsh"
   }
  },
  {
   "cell_type": "code",
   "source": [],
   "metadata": {
    "id": "4SnyC9TjMc3M"
   },
   "execution_count": null,
   "outputs": []
  },
  {
   "cell_type": "markdown",
   "source": [
    "33. Напишите программу с использованием ```Pandas```, которая заменяет в заданной строке все прбелы на самый частый символ."
   ],
   "metadata": {
    "id": "pKLHj6KjMdv9"
   }
  },
  {
   "cell_type": "code",
   "source": [],
   "metadata": {
    "id": "Cgyw4TfNMedX"
   },
   "execution_count": null,
   "outputs": []
  },
  {
   "cell_type": "markdown",
   "source": [
    "34. Напишите программу с использованием ```Pandas```, которая вычисляет автокорреляцию заданного числового ```Series```."
   ],
   "metadata": {
    "id": "Nnx7-NI5Me55"
   }
  },
  {
   "cell_type": "code",
   "source": [],
   "metadata": {
    "id": "637rjomcMfkJ"
   },
   "execution_count": null,
   "outputs": []
  },
  {
   "cell_type": "markdown",
   "source": [
    "35. Напишите программу с использованием ```Pandas```, которая создает ```TimeSeries``` содержащий все воскресенья текущего года."
   ],
   "metadata": {
    "id": "5g65E4sMMfxq"
   }
  },
  {
   "cell_type": "code",
   "source": [],
   "metadata": {
    "id": "gqBF0wozMgaL"
   },
   "execution_count": null,
   "outputs": []
  },
  {
   "cell_type": "markdown",
   "source": [
    "36. Напишите программу с использованием ```Pandas```, которая преобразует указанный ```Series``` в ```DataFrame``` в котором индексы будут являться другим столбцом."
   ],
   "metadata": {
    "id": "v7gvdm8qMgrP"
   }
  },
  {
   "cell_type": "code",
   "source": [],
   "metadata": {
    "id": "0wKWk4DsMhNj"
   },
   "execution_count": null,
   "outputs": []
  },
  {
   "cell_type": "markdown",
   "source": [
    "37. Напишите программу с использованием ```Pandas```, которая объединяет два заданных ```Series``` вертикально и горизонтально."
   ],
   "metadata": {
    "id": "--rb2OP0Mhg5"
   }
  },
  {
   "cell_type": "code",
   "source": [],
   "metadata": {
    "id": "ptjMfDDZMiMz"
   },
   "execution_count": null,
   "outputs": []
  },
  {
   "cell_type": "markdown",
   "source": [
    "38. Напишите программу с использованием ```Pandas```, которая проверяет равенство двух указанных ```Series```."
   ],
   "metadata": {
    "id": "XwNHdOmWMit1"
   }
  },
  {
   "cell_type": "code",
   "source": [],
   "metadata": {
    "id": "Dl7k219xMjYU"
   },
   "execution_count": null,
   "outputs": []
  },
  {
   "cell_type": "markdown",
   "source": [
    "39. Напишите программу с использованием ```Pandas```, которая находит индексы первых вхождений самого большого и самого маленького значений заданного Series."
   ],
   "metadata": {
    "id": "SVVTCCnTMjsW"
   }
  },
  {
   "cell_type": "code",
   "source": [],
   "metadata": {
    "id": "NdzxB8iiMkU9"
   },
   "execution_count": null,
   "outputs": []
  },
  {
   "cell_type": "markdown",
   "source": [
    "40. Напишите программу с использованием ```Pandas```, которая проверяет неравенство между всеми столбцами заданного ```DataFrame``` и заданного ```Series``` поэлементно."
   ],
   "metadata": {
    "id": "jGyny0O8MknT"
   }
  },
  {
   "cell_type": "code",
   "source": [],
   "metadata": {
    "id": "8xD2oHhLMlOs"
   },
   "execution_count": null,
   "outputs": []
  }
 ]
}
