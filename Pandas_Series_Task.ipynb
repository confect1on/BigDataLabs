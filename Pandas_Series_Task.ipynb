{
 "nbformat": 4,
 "nbformat_minor": 0,
 "metadata": {
  "colab": {
   "provenance": []
  },
  "kernelspec": {
   "name": "python3",
   "display_name": "Python 3 (ipykernel)",
   "language": "python"
  },
  "language_info": {
   "name": "python"
  }
 },
 "cells": [
  {
   "cell_type": "markdown",
   "source": [
    "0. Импортируйте библитоеки ```Pandas``` и ```NumPy``` с псевдонимами **```pd```** и **```np```** соответственно."
   ],
   "metadata": {
    "id": "w_910n4R9TBy"
   }
  },
  {
   "cell_type": "code",
   "source": [
    "import numpy as np\n",
    "import pandas as pd"
   ],
   "metadata": {
    "id": "sHmVbM6V9iZO",
    "ExecuteTime": {
     "end_time": "2024-05-28T09:16:12.123171Z",
     "start_time": "2024-05-28T09:16:10.925876Z"
    }
   },
   "outputs": [],
   "execution_count": 2
  },
  {
   "cell_type": "markdown",
   "source": [
    "1. Напишите программу с использованием ```Pandas``` для создания массивоподобной структуры, из обычного списка ```Python```.\n",
    "Например ```[2,4,6,8,10]```."
   ],
   "metadata": {
    "id": "xzC3LynV4Ad8"
   }
  },
  {
   "cell_type": "code",
   "source": "pd.array([2,4,6,8,10])",
   "metadata": {
    "id": "ZhwkHC8u5kH9",
    "ExecuteTime": {
     "end_time": "2024-05-28T09:16:12.131699Z",
     "start_time": "2024-05-28T09:16:12.125187Z"
    }
   },
   "outputs": [
    {
     "data": {
      "text/plain": [
       "<IntegerArray>\n",
       "[2, 4, 6, 8, 10]\n",
       "Length: 5, dtype: Int64"
      ]
     },
     "execution_count": 3,
     "metadata": {},
     "output_type": "execute_result"
    }
   ],
   "execution_count": 3
  },
  {
   "cell_type": "markdown",
   "source": [
    "2. Напишите программу с использованием ```Pandas```, которая конвертирует созданный в задаче 1 объект в обычный список ```Python```. Отобразите типы этих двух объектов."
   ],
   "metadata": {
    "id": "pWoZk_l_5RXr"
   }
  },
  {
   "cell_type": "code",
   "source": [
    "pd_array = pd.array([2,4,6,8,10])\n",
    "python_array = pd_array.tolist()\n",
    "print(type(pd_array))\n",
    "print(type(python_array))"
   ],
   "metadata": {
    "id": "gtGzGUh75Ow6",
    "ExecuteTime": {
     "end_time": "2024-05-28T09:16:12.137915Z",
     "start_time": "2024-05-28T09:16:12.132714Z"
    }
   },
   "outputs": [
    {
     "name": "stdout",
     "output_type": "stream",
     "text": [
      "<class 'pandas.core.arrays.integer.IntegerArray'>\n",
      "<class 'list'>\n"
     ]
    }
   ],
   "execution_count": 4
  },
  {
   "cell_type": "markdown",
   "source": [
    "3. Напишите программу с использованием ```Pandas```, которая суммирует, вычитает, умножает и делит два объекта типа ```Series``` поэлементно.\n",
    "Например ```[1,3,5,7,9]``` и ```[2,4,6,8,10]```."
   ],
   "metadata": {
    "id": "PXKEg-iW5neK"
   }
  },
  {
   "cell_type": "code",
   "metadata": {
    "id": "3M13olmF3zyP",
    "ExecuteTime": {
     "end_time": "2024-05-28T09:16:12.144875Z",
     "start_time": "2024-05-28T09:16:12.139439Z"
    }
   },
   "source": [
    "first = pd.Series([1, 3, 5, 7, 9])\n",
    "second = pd.Series([2, 4, 6, 8, 10])\n",
    "print(first + second)\n",
    "print(first - second)\n",
    "print(first * second)\n",
    "print(first / second)"
   ],
   "outputs": [
    {
     "name": "stdout",
     "output_type": "stream",
     "text": [
      "0     3\n",
      "1     7\n",
      "2    11\n",
      "3    15\n",
      "4    19\n",
      "dtype: int64\n",
      "0   -1\n",
      "1   -1\n",
      "2   -1\n",
      "3   -1\n",
      "4   -1\n",
      "dtype: int64\n",
      "0     2\n",
      "1    12\n",
      "2    30\n",
      "3    56\n",
      "4    90\n",
      "dtype: int64\n",
      "0    0.500000\n",
      "1    0.750000\n",
      "2    0.833333\n",
      "3    0.875000\n",
      "4    0.900000\n",
      "dtype: float64\n"
     ]
    }
   ],
   "execution_count": 5
  },
  {
   "cell_type": "markdown",
   "source": [
    "4. Напишите программу с использованием ```Pandas```, которая сравнивает два объекта ```Series``` поэлементно. С помощью операторов ```<```, ```>```, ```=```."
   ],
   "metadata": {
    "id": "Ourt2Cps6AZA"
   }
  },
  {
   "cell_type": "code",
   "source": [
    "first = pd.Series([1, 3, 5, 7, 9])\n",
    "second = pd.Series([1, 3, 6, 8, 10])\n",
    "print(first > second)\n",
    "print(first < second)\n",
    "print(first == second)"
   ],
   "metadata": {
    "id": "v8lFNTw16Wc_",
    "ExecuteTime": {
     "end_time": "2024-05-28T09:16:12.151724Z",
     "start_time": "2024-05-28T09:16:12.145887Z"
    }
   },
   "outputs": [
    {
     "name": "stdout",
     "output_type": "stream",
     "text": [
      "0    False\n",
      "1    False\n",
      "2    False\n",
      "3    False\n",
      "4    False\n",
      "dtype: bool\n",
      "0    False\n",
      "1    False\n",
      "2     True\n",
      "3     True\n",
      "4     True\n",
      "dtype: bool\n",
      "0     True\n",
      "1     True\n",
      "2    False\n",
      "3    False\n",
      "4    False\n",
      "dtype: bool\n"
     ]
    }
   ],
   "execution_count": 6
  },
  {
   "cell_type": "markdown",
   "source": [
    "5. Напишите программу с использованием ```Pandas```, которая преобразует словарь ```{'a': 100, 'b': 200, 'c': 300, 'd': 400, 'e': 800}``` в объект ```Series```."
   ],
   "metadata": {
    "id": "03erMdRb6XHm"
   }
  },
  {
   "cell_type": "code",
   "source": "pd.Series({'a': 100, 'b': 200, 'c': 300, 'd': 400, 'e': 800})",
   "metadata": {
    "id": "ASd7Lul97P6N",
    "ExecuteTime": {
     "end_time": "2024-05-28T09:16:12.159125Z",
     "start_time": "2024-05-28T09:16:12.152232Z"
    }
   },
   "outputs": [
    {
     "data": {
      "text/plain": [
       "a    100\n",
       "b    200\n",
       "c    300\n",
       "d    400\n",
       "e    800\n",
       "dtype: int64"
      ]
     },
     "execution_count": 7,
     "metadata": {},
     "output_type": "execute_result"
    }
   ],
   "execution_count": 7
  },
  {
   "cell_type": "markdown",
   "source": [
    "6. Напишите программу с использованием ```Pandas```, которая конвертирует ```NumPy``` массив ```[10 20 30 40 50]``` в объект ```Series```."
   ],
   "metadata": {
    "id": "iAFVJdnX7QRp"
   }
  },
  {
   "cell_type": "code",
   "source": "pd.Series(np.array([10, 20, 30, 40, 50]))",
   "metadata": {
    "id": "2CPdx9CS7cKu",
    "ExecuteTime": {
     "end_time": "2024-05-28T09:16:12.164398Z",
     "start_time": "2024-05-28T09:16:12.160221Z"
    }
   },
   "outputs": [
    {
     "data": {
      "text/plain": [
       "0    10\n",
       "1    20\n",
       "2    30\n",
       "3    40\n",
       "4    50\n",
       "dtype: int32"
      ]
     },
     "execution_count": 8,
     "metadata": {},
     "output_type": "execute_result"
    }
   ],
   "execution_count": 8
  },
  {
   "cell_type": "markdown",
   "source": [
    "7. Напишите программу с использованием ```Pandas```, которая преобразует тип данных объекта ```Series``` в тип ```float64```.\n",
    "\n",
    "Входной объект:\n",
    "\n",
    "| ind | value  |\n",
    "|---\t|--------|\n",
    "| 0 \t| 100    |\n",
    "| 1 \t| 200    |\n",
    "| 2 \t| python |\n",
    "| 3 \t| 300.12 |\n",
    "| 4 \t| 400    |"
   ],
   "metadata": {
    "id": "lewO7iKR7ctZ"
   }
  },
  {
   "cell_type": "code",
   "source": [
    "t = pd.Series([100, 200, \"python\", 300.12, 400])\n",
    "pd.to_numeric(t, errors='coerce')"
   ],
   "metadata": {
    "id": "xWvPMn9n7ujf",
    "ExecuteTime": {
     "end_time": "2024-05-28T09:16:12.169846Z",
     "start_time": "2024-05-28T09:16:12.164398Z"
    }
   },
   "outputs": [
    {
     "data": {
      "text/plain": [
       "0    100.00\n",
       "1    200.00\n",
       "2       NaN\n",
       "3    300.12\n",
       "4    400.00\n",
       "dtype: float64"
      ]
     },
     "execution_count": 9,
     "metadata": {},
     "output_type": "execute_result"
    }
   ],
   "execution_count": 9
  },
  {
   "cell_type": "markdown",
   "source": [
    "8. Напишите программу с использованием ```Pandas```, которая преобразует первый столбец объекта ```DataFrame``` в объект ```Series```."
   ],
   "metadata": {
    "id": "9WnFyxQF9CAg"
   }
  },
  {
   "cell_type": "code",
   "source": [
    "dataframe = pd.DataFrame(data={'col1': [1, 2, 3, 4, 7, 11], 'col2': [4, 5, 6, 9, 5, 0], 'col3': [7, 5, 8, 12, 1,11]})\n",
    "print(type(dataframe[['col1']]))\n",
    "dataframe['col1']"
   ],
   "metadata": {
    "colab": {
     "base_uri": "https://localhost:8080/",
     "height": 255
    },
    "id": "cpqbX9_295sU",
    "outputId": "b0f3a983-b188-4a0f-de8b-f306f4fb3e7f",
    "ExecuteTime": {
     "end_time": "2024-05-28T09:19:38.787642Z",
     "start_time": "2024-05-28T09:19:38.777860Z"
    }
   },
   "outputs": [
    {
     "name": "stdout",
     "output_type": "stream",
     "text": [
      "<class 'pandas.core.frame.DataFrame'>\n"
     ]
    },
    {
     "data": {
      "text/plain": [
       "0     1\n",
       "1     2\n",
       "2     3\n",
       "3     4\n",
       "4     7\n",
       "5    11\n",
       "Name: col1, dtype: int64"
      ]
     },
     "execution_count": 44,
     "metadata": {},
     "output_type": "execute_result"
    }
   ],
   "execution_count": 44
  },
  {
   "cell_type": "markdown",
   "source": [
    "9. Напишите программу с использованием ```Pandas```, которая преобразует указанный ```Series``` в массив ```NumPy```.\n",
    "\n",
    "Входной объект:\n",
    "\n",
    "| ind | value  |\n",
    "|---\t|--------|\n",
    "| 0 \t| 100    |\n",
    "| 1 \t| 200    |\n",
    "| 2 \t| python |\n",
    "| 3 \t| 300.12 |\n",
    "| 4 \t| 400    |"
   ],
   "metadata": {
    "id": "uqsk9ELv-pJl"
   }
  },
  {
   "metadata": {
    "ExecuteTime": {
     "end_time": "2024-05-28T09:16:12.190020Z",
     "start_time": "2024-05-28T09:16:12.181490Z"
    }
   },
   "cell_type": "code",
   "source": "pd.to_numeric(pd.Series([100, 200, \"python\", 300.12, 400]), errors='coerce').to_numpy(dtype=np.float32)",
   "outputs": [
    {
     "data": {
      "text/plain": [
       "array([100.  , 200.  ,    nan, 300.12, 400.  ], dtype=float32)"
      ]
     },
     "execution_count": 11,
     "metadata": {},
     "output_type": "execute_result"
    }
   ],
   "execution_count": 11
  },
  {
   "cell_type": "markdown",
   "source": [
    "10. Напишите программу с использованием ```Pandas```, которая преобразует ```Series``` списков в обычный объект ```Series```.\n",
    "\n",
    "Вход:\n",
    "\n",
    "|   |   |\n",
    "|---|---|\n",
    "| ```0``` | ```[Red, Green, White]```  |\n",
    "| ```1``` | ```[Red, Black]``` |\n",
    "| ```2``` | ```[Yellow]``` |\n",
    "\n",
    "Выход:\n",
    "\n",
    "|   |   |\n",
    "|---|---|\n",
    "|```0```|```Red```|\n",
    "|```1```|```Green```|\n",
    "|```2```|```White```|\n",
    "|```3```|```Red```|\n",
    "|```4```|```Black```|\n",
    "|```5```|```Yellow```|\n"
   ],
   "metadata": {
    "id": "7D3K5fYu__VZ"
   }
  },
  {
   "cell_type": "code",
   "source": "pd.Series([[\"Red\", \"Green\", \"White\"], [\"Red\", \"Black\"], [\"Yellow\"]]).explode(ignore_index=True)",
   "metadata": {
    "id": "R8sPV1Ef-IaK",
    "ExecuteTime": {
     "end_time": "2024-05-28T09:16:12.200187Z",
     "start_time": "2024-05-28T09:16:12.190020Z"
    }
   },
   "outputs": [
    {
     "data": {
      "text/plain": [
       "0       Red\n",
       "1     Green\n",
       "2     White\n",
       "3       Red\n",
       "4     Black\n",
       "5    Yellow\n",
       "dtype: object"
      ]
     },
     "execution_count": 12,
     "metadata": {},
     "output_type": "execute_result"
    }
   ],
   "execution_count": 12
  },
  {
   "cell_type": "markdown",
   "source": [
    "11. Напишите программу с использованием ```Pandas```, которая сортирует указанный ```Series```\n",
    "\n",
    "| ind | value  |\n",
    "|---\t|--------|\n",
    "| 0 \t| 100    |\n",
    "| 1 \t| 200    |\n",
    "| 2 \t| python |\n",
    "| 3 \t| 300.12 |\n",
    "| 4 \t| 400    |"
   ],
   "metadata": {
    "id": "RROFz2-jDmKZ"
   }
  },
  {
   "cell_type": "code",
   "source": "pd.to_numeric(pd.Series([100, 200, \"python\", 300.12, 400]), errors='coerce').sort_values()",
   "metadata": {
    "id": "_4PhPDckD1p2",
    "ExecuteTime": {
     "end_time": "2024-05-28T09:16:12.213017Z",
     "start_time": "2024-05-28T09:16:12.201204Z"
    }
   },
   "outputs": [
    {
     "data": {
      "text/plain": [
       "0    100.00\n",
       "1    200.00\n",
       "3    300.12\n",
       "4    400.00\n",
       "2       NaN\n",
       "dtype: float64"
      ]
     },
     "execution_count": 13,
     "metadata": {},
     "output_type": "execute_result"
    }
   ],
   "execution_count": 13
  },
  {
   "cell_type": "markdown",
   "source": [
    "12. Напишите программу с использованием ```Pandas```, которая добавляет какие-нибудь данные в указанный ```Series```.\n",
    "\n",
    "| ind | value  |\n",
    "|---\t|--------|\n",
    "| 0 \t| 100    |\n",
    "| 1 \t| 200    |\n",
    "| 2 \t| python |\n",
    "| 3 \t| 300.12 |\n",
    "| 4 \t| 400    |"
   ],
   "metadata": {
    "id": "Ga8B7n0ZD2By"
   }
  },
  {
   "cell_type": "code",
   "source": [
    "t = pd.Series([100, 200, \"python\", 300.12, 400])\n",
    "t[5] = 'Z'\n",
    "t"
   ],
   "metadata": {
    "id": "VluXfjc5EC10",
    "ExecuteTime": {
     "end_time": "2024-05-28T09:16:12.222850Z",
     "start_time": "2024-05-28T09:16:12.214026Z"
    }
   },
   "outputs": [
    {
     "data": {
      "text/plain": [
       "0       100\n",
       "1       200\n",
       "2    python\n",
       "3    300.12\n",
       "4       400\n",
       "5         Z\n",
       "dtype: object"
      ]
     },
     "execution_count": 14,
     "metadata": {},
     "output_type": "execute_result"
    }
   ],
   "execution_count": 14
  },
  {
   "cell_type": "markdown",
   "source": [
    "13. Напишите программу с использованием ```Pandas```, которая создает подмножество данного ```Series``` по некоторому условию (неравенству).\n"
   ],
   "metadata": {
    "id": "ayEwUtZJEEyB"
   }
  },
  {
   "cell_type": "code",
   "source": [
    "data = pd.Series([1, 100, 1000, 228])\n",
    "data[data > 100]"
   ],
   "metadata": {
    "id": "PCLgYVaLEbSR",
    "ExecuteTime": {
     "end_time": "2024-05-28T09:16:12.230237Z",
     "start_time": "2024-05-28T09:16:12.223859Z"
    }
   },
   "outputs": [
    {
     "data": {
      "text/plain": [
       "2    1000\n",
       "3     228\n",
       "dtype: int64"
      ]
     },
     "execution_count": 15,
     "metadata": {},
     "output_type": "execute_result"
    }
   ],
   "execution_count": 15
  },
  {
   "cell_type": "markdown",
   "source": [
    "14. Напишите программу с использованием ```Pandas```, которая изменяет порядок индексов указанного объекта ```Series```.\n",
    "\n",
    "Например\n",
    "\n",
    "|   |   |\n",
    "|---|---|\n",
    "|```A```|```1```|\n",
    "|```B```|```2```|\n",
    "|```C```|```3```|\n",
    "|```D```|```4```|\n",
    "|```E```|```5```|\n",
    "\n",
    "преобразуется в\n",
    "\n",
    "|   |   |\n",
    "|---|---|\n",
    "|```B```|```2```|\n",
    "|```A```|```1```|\n",
    "|```C```|```3```|\n",
    "|```D```|```4```|\n",
    "|```E```|```5```|"
   ],
   "metadata": {
    "id": "5Wn4g5FSEdn-"
   }
  },
  {
   "cell_type": "code",
   "source": [
    "t = pd.Series(index=['a', 'b', 'c', 'd', 'e'], data=[1, 2, 3, 4, 5])\n",
    "t.reindex(['b', 'a', 'c', 'd', 'e'])"
   ],
   "metadata": {
    "id": "65Dw-G-UE9-i",
    "ExecuteTime": {
     "end_time": "2024-05-28T09:25:06.257401Z",
     "start_time": "2024-05-28T09:25:06.250895Z"
    }
   },
   "outputs": [
    {
     "data": {
      "text/plain": [
       "b    2\n",
       "a    1\n",
       "c    3\n",
       "d    4\n",
       "e    5\n",
       "dtype: int64"
      ]
     },
     "execution_count": 46,
     "metadata": {},
     "output_type": "execute_result"
    }
   ],
   "execution_count": 46
  },
  {
   "cell_type": "markdown",
   "source": [
    "15.  Напишите программу с использованием ```Pandas```, которая вычисляет среднее значение и стандартное отклонение указанного объекта ```Series```."
   ],
   "metadata": {
    "id": "5mDaHcBUFB_z"
   }
  },
  {
   "cell_type": "code",
   "source": [
    "data = pd.Series([1, 2, 3, 4, 5])\n",
    "print(\"mean: \", data.mean())\n",
    "print(\"std\", data.std())"
   ],
   "metadata": {
    "id": "NrbLsxWCE-Xc",
    "ExecuteTime": {
     "end_time": "2024-05-28T09:16:12.250834Z",
     "start_time": "2024-05-28T09:16:12.242557Z"
    }
   },
   "outputs": [
    {
     "name": "stdout",
     "output_type": "stream",
     "text": [
      "mean:  3.0\n",
      "std 1.5811388300841898\n"
     ]
    }
   ],
   "execution_count": 17
  },
  {
   "cell_type": "markdown",
   "source": [
    "16. Напишите программу с использованием ```Pandas```, которая выводит те элементы первого объекта ```Series```, которые не встречаются во втором объекте ```Series```."
   ],
   "metadata": {
    "id": "2DZGJjsiFMct"
   }
  },
  {
   "cell_type": "code",
   "source": [
    "series1 = pd.Series(['a', 'b', 'c', 'd', 'e'])\n",
    "series2 = pd.Series(['c', 'd', 'f', 'g'])\n",
    "series1[~series1.isin(series2)]"
   ],
   "metadata": {
    "id": "IrgyXr39FgF9",
    "ExecuteTime": {
     "end_time": "2024-05-28T09:16:12.261522Z",
     "start_time": "2024-05-28T09:16:12.252843Z"
    }
   },
   "outputs": [
    {
     "data": {
      "text/plain": [
       "0    a\n",
       "1    b\n",
       "4    e\n",
       "dtype: object"
      ]
     },
     "execution_count": 18,
     "metadata": {},
     "output_type": "execute_result"
    }
   ],
   "execution_count": 18
  },
  {
   "cell_type": "markdown",
   "source": [
    "17. Напишите программу с использованием ```Pandas```, которая выводит те элементы двух ```Series```, которые не являются общими для обоих."
   ],
   "metadata": {
    "id": "8ZQKwSEAFgaa"
   }
  },
  {
   "cell_type": "code",
   "source": [
    "series1 = pd.Series(['a', 'b', 'c', 'd', 'e'])\n",
    "series2 = pd.Series(['c', 'd', 'f', 'g'])\n",
    "pd.concat([series1, series2]).drop_duplicates(keep=False)"
   ],
   "metadata": {
    "id": "hhKGLRWQFrY9",
    "ExecuteTime": {
     "end_time": "2024-05-28T09:16:12.271888Z",
     "start_time": "2024-05-28T09:16:12.263126Z"
    }
   },
   "outputs": [
    {
     "data": {
      "text/plain": [
       "0    a\n",
       "1    b\n",
       "4    e\n",
       "2    f\n",
       "3    g\n",
       "dtype: object"
      ]
     },
     "execution_count": 19,
     "metadata": {},
     "output_type": "execute_result"
    }
   ],
   "execution_count": 19
  },
  {
   "cell_type": "markdown",
   "source": [
    "18. Напишите программу с использованием ```Pandas```, которая вычисляет минимум, 25-й процентиль, медиану, 75-й процентиль и максимум указанного объекта ```Series```."
   ],
   "metadata": {
    "id": "9bZK3S6SFsyg"
   }
  },
  {
   "cell_type": "code",
   "source": [
    "data = pd.Series([10, 15, 8, 21, 14, 18, 9, 24, 17, 19])\n",
    "print(data.min())\n",
    "print(data.quantile(0.25))\n",
    "print(data.median())\n",
    "print(data.quantile(0.75))\n",
    "print(data.max())"
   ],
   "metadata": {
    "id": "RBgiz6J0GB3x",
    "ExecuteTime": {
     "end_time": "2024-05-28T09:16:12.281017Z",
     "start_time": "2024-05-28T09:16:12.272896Z"
    }
   },
   "outputs": [
    {
     "name": "stdout",
     "output_type": "stream",
     "text": [
      "8\n",
      "11.0\n",
      "16.0\n",
      "18.75\n",
      "24\n"
     ]
    }
   ],
   "execution_count": 20
  },
  {
   "cell_type": "markdown",
   "source": [
    "19. Напишите программу с использованием ```Pandas```, которая вычисляет частоту для каждого уникального элемента указанного объекта ```Series```."
   ],
   "metadata": {
    "id": "m89oL7eVGCQi"
   }
  },
  {
   "cell_type": "code",
   "source": [
    "data = pd.Series([1, 1, 1, 2, 3, 3]).value_counts()\n",
    "data"
   ],
   "metadata": {
    "id": "J3nRz1X2GQCy",
    "ExecuteTime": {
     "end_time": "2024-05-28T09:16:12.293902Z",
     "start_time": "2024-05-28T09:16:12.282029Z"
    }
   },
   "outputs": [
    {
     "data": {
      "text/plain": [
       "1    3\n",
       "3    2\n",
       "2    1\n",
       "Name: count, dtype: int64"
      ]
     },
     "execution_count": 21,
     "metadata": {},
     "output_type": "execute_result"
    }
   ],
   "execution_count": 21
  },
  {
   "cell_type": "markdown",
   "source": [
    "20. Напишите программу с использованием ```Pandas```, которая отображает самое частое значение в заданном ```Series```, а все остальные значения заменяет на ```Other```."
   ],
   "metadata": {
    "id": "z8pJECV4GQqb"
   }
  },
  {
   "cell_type": "code",
   "source": [
    "data = pd.Series(['apple', 'banana', 'apple', 'orange', 'banana', 'apple'])\n",
    "value_counts = data.value_counts()\n",
    "data.replace(value_counts.index[value_counts != value_counts.max()], 'Other')"
   ],
   "metadata": {
    "id": "j1INq18XGmpr",
    "ExecuteTime": {
     "end_time": "2024-05-28T09:16:12.302698Z",
     "start_time": "2024-05-28T09:16:12.294912Z"
    }
   },
   "outputs": [
    {
     "data": {
      "text/plain": [
       "0    apple\n",
       "1    Other\n",
       "2    apple\n",
       "3    Other\n",
       "4    Other\n",
       "5    apple\n",
       "dtype: object"
      ]
     },
     "execution_count": 22,
     "metadata": {},
     "output_type": "execute_result"
    }
   ],
   "execution_count": 22
  },
  {
   "cell_type": "markdown",
   "source": "",
   "metadata": {
    "id": "h3Shkf7KGQuU"
   }
  },
  {
   "cell_type": "code",
   "source": "pd.Series(['apple', 'banana', 'cherry', 'date', 'elderberry']).iloc[[1, 3]]",
   "metadata": {
    "id": "DhbKrLJOKURK",
    "ExecuteTime": {
     "end_time": "2024-05-28T09:16:12.313302Z",
     "start_time": "2024-05-28T09:16:12.303876Z"
    }
   },
   "outputs": [
    {
     "data": {
      "text/plain": [
       "1    banana\n",
       "3      date\n",
       "dtype: object"
      ]
     },
     "execution_count": 23,
     "metadata": {},
     "output_type": "execute_result"
    }
   ],
   "execution_count": 23
  },
  {
   "cell_type": "markdown",
   "source": [
    "22. Напишите программу с использованием ```Pandas```, которая извлекает из заданного ```Series``` элементы, стоящие на указанных местах."
   ],
   "metadata": {
    "id": "auN3aEKRKUuD"
   }
  },
  {
   "cell_type": "code",
   "source": [
    "series1 = pd.Series(['apple', 'banana', 'cherry', 'date', 'elderberry'])\n",
    "series2 = pd.Series(['banana', 'cherry', 'elderberry', 'fig', 'grape'])\n",
    "series2[np.nonzero(np.isin(series2, series1))[0]]"
   ],
   "metadata": {
    "id": "du9vLOFlKi-u",
    "ExecuteTime": {
     "end_time": "2024-05-28T09:16:12.324085Z",
     "start_time": "2024-05-28T09:16:12.314315Z"
    }
   },
   "outputs": [
    {
     "data": {
      "text/plain": [
       "0        banana\n",
       "1        cherry\n",
       "2    elderberry\n",
       "dtype: object"
      ]
     },
     "execution_count": 24,
     "metadata": {},
     "output_type": "execute_result"
    }
   ],
   "execution_count": 24
  },
  {
   "cell_type": "markdown",
   "source": [
    "23. Напишите программу с использованием ```Pandas```, которая находит позиции элементов заданного ```Series``` в другом заданном ```Series```."
   ],
   "metadata": {
    "id": "bMXJYeniKjgk"
   }
  },
  {
   "cell_type": "code",
   "source": [
    "data = pd.Series(['hello world', 'pandas is great', 'python programming'])\n",
    "data.apply()\n",
    "data = data.str.capitalize()\n",
    "data.apply(lambda x: x[:-1] + x[-1].upper())"
   ],
   "metadata": {
    "id": "etSHU7vgKwLZ",
    "ExecuteTime": {
     "end_time": "2024-05-28T09:16:12.412405Z",
     "start_time": "2024-05-28T09:16:12.326096Z"
    }
   },
   "outputs": [
    {
     "ename": "TypeError",
     "evalue": "Series.apply() missing 1 required positional argument: 'func'",
     "output_type": "error",
     "traceback": [
      "\u001B[1;31m---------------------------------------------------------------------------\u001B[0m",
      "\u001B[1;31mTypeError\u001B[0m                                 Traceback (most recent call last)",
      "Cell \u001B[1;32mIn[25], line 2\u001B[0m\n\u001B[0;32m      1\u001B[0m data \u001B[38;5;241m=\u001B[39m pd\u001B[38;5;241m.\u001B[39mSeries([\u001B[38;5;124m'\u001B[39m\u001B[38;5;124mhello world\u001B[39m\u001B[38;5;124m'\u001B[39m, \u001B[38;5;124m'\u001B[39m\u001B[38;5;124mpandas is great\u001B[39m\u001B[38;5;124m'\u001B[39m, \u001B[38;5;124m'\u001B[39m\u001B[38;5;124mpython programming\u001B[39m\u001B[38;5;124m'\u001B[39m])\n\u001B[1;32m----> 2\u001B[0m \u001B[43mdata\u001B[49m\u001B[38;5;241;43m.\u001B[39;49m\u001B[43mapply\u001B[49m\u001B[43m(\u001B[49m\u001B[43m)\u001B[49m\n\u001B[0;32m      3\u001B[0m data \u001B[38;5;241m=\u001B[39m data\u001B[38;5;241m.\u001B[39mstr\u001B[38;5;241m.\u001B[39mcapitalize()\n\u001B[0;32m      4\u001B[0m data\u001B[38;5;241m.\u001B[39mapply(\u001B[38;5;28;01mlambda\u001B[39;00m x: x[:\u001B[38;5;241m-\u001B[39m\u001B[38;5;241m1\u001B[39m] \u001B[38;5;241m+\u001B[39m x[\u001B[38;5;241m-\u001B[39m\u001B[38;5;241m1\u001B[39m]\u001B[38;5;241m.\u001B[39mupper())\n",
      "\u001B[1;31mTypeError\u001B[0m: Series.apply() missing 1 required positional argument: 'func'"
     ]
    }
   ],
   "execution_count": 25
  },
  {
   "cell_type": "markdown",
   "source": [
    "24. Напишите программу с использованием ```Pandas```, которая преобразует первый и последний символ каждого слова в заданном ```Series``` в верхний регистр."
   ],
   "metadata": {
    "id": "ddg7YeGmKxFy"
   }
  },
  {
   "cell_type": "code",
   "source": "pd.Series(['hello world', 'pandas is great', 'python programming']).str.len()",
   "metadata": {
    "id": "r6bQggPkLDwK",
    "ExecuteTime": {
     "end_time": "2024-05-28T09:16:12.413430Z",
     "start_time": "2024-05-28T09:16:12.413430Z"
    }
   },
   "outputs": [],
   "execution_count": null
  },
  {
   "cell_type": "markdown",
   "source": [
    "25. Напишите программу с использованием ```Pandas```, которая вычисляет количество символов в каждом слове в заданном ```Series```"
   ],
   "metadata": {
    "id": "ZRJltKnCLEOM"
   }
  },
  {
   "cell_type": "code",
   "source": [
    "data = pd.Series([10, 20, 30, 40, 50])\n",
    "\n",
    "diff1 = data.diff()\n",
    "diff2 = diff1.diff()\n",
    "\n",
    "print(data, diff1, diff2)"
   ],
   "metadata": {
    "id": "ZQZNZw_9LNlN",
    "ExecuteTime": {
     "end_time": "2024-05-28T09:16:12.771016Z",
     "start_time": "2024-05-28T09:16:12.765663Z"
    }
   },
   "outputs": [
    {
     "name": "stdout",
     "output_type": "stream",
     "text": [
      "0    10\n",
      "1    20\n",
      "2    30\n",
      "3    40\n",
      "4    50\n",
      "dtype: int64 0     NaN\n",
      "1    10.0\n",
      "2    10.0\n",
      "3    10.0\n",
      "4    10.0\n",
      "dtype: float64 0    NaN\n",
      "1    NaN\n",
      "2    0.0\n",
      "3    0.0\n",
      "4    0.0\n",
      "dtype: float64\n"
     ]
    }
   ],
   "execution_count": 26
  },
  {
   "cell_type": "markdown",
   "source": [
    "26. Напишите программу с использованием ```Pandas```, которая вычисляет разницу между разницами последовательных чисел в заданном ```Series```."
   ],
   "metadata": {
    "id": "KG7xKzimLN9I"
   }
  },
  {
   "cell_type": "code",
   "source": "pd.to_datetime(pd.Series(['2022-01-01', '2022-01-02', '2022-01-03', '2022-01-04']))",
   "metadata": {
    "id": "XyR4iFslLwow",
    "ExecuteTime": {
     "end_time": "2024-05-28T09:16:13.316191Z",
     "start_time": "2024-05-28T09:16:13.305146Z"
    }
   },
   "outputs": [
    {
     "data": {
      "text/plain": [
       "0   2022-01-01\n",
       "1   2022-01-02\n",
       "2   2022-01-03\n",
       "3   2022-01-04\n",
       "dtype: datetime64[ns]"
      ]
     },
     "execution_count": 27,
     "metadata": {},
     "output_type": "execute_result"
    }
   ],
   "execution_count": 27
  },
  {
   "cell_type": "markdown",
   "source": [
    "27. Напишите программу с использованием ```Pandas```, которая преобразует ```Series```, содержащий строковые представления дат в ```timeseries```."
   ],
   "metadata": {
    "id": "g2axIHwqLxCK"
   }
  },
  {
   "cell_type": "code",
   "source": [
    "dates = pd.Series(['2024-01-01', '2024-02-15', '2024-03-30'])\n",
    "dates = pd.to_datetime(dates)\n",
    "\n",
    "day_of_month = dates.dt.day\n",
    "day_of_year = dates.dt.dayofyear\n",
    "week_number = dates.dt.isocalendar().week\n",
    "day_of_week = dates.dt.day_name()\n",
    "\n",
    "result = pd.DataFrame({\n",
    "    'Date': dates,\n",
    "    'Day of Month': day_of_month,\n",
    "    'Day of Year': day_of_year,\n",
    "    'Week Number': week_number,\n",
    "    'Day of Week': day_of_week\n",
    "})\n",
    "\n",
    "print(result)"
   ],
   "metadata": {
    "id": "P3Uo6NAwMBDh",
    "ExecuteTime": {
     "end_time": "2024-05-28T09:16:13.637772Z",
     "start_time": "2024-05-28T09:16:13.623378Z"
    }
   },
   "outputs": [
    {
     "name": "stdout",
     "output_type": "stream",
     "text": [
      "        Date  Day of Month  Day of Year  Week Number Day of Week\n",
      "0 2024-01-01             1            1            1      Monday\n",
      "1 2024-02-15            15           46            7    Thursday\n",
      "2 2024-03-30            30           90           13    Saturday\n"
     ]
    }
   ],
   "execution_count": 28
  },
  {
   "cell_type": "markdown",
   "source": [
    "28. Напишите программу с использованием ```Pandas```, которая получает день месяца, день года, номер недели, и день недели для каждого элемента заданного ```Series```, содержащего строковые представления дат."
   ],
   "metadata": {
    "id": "BtH2SMKBMDfO"
   }
  },
  {
   "cell_type": "code",
   "source": [
    "data = pd.Series(['01-2022', '02-2022', '03-2022', '04-2022'])\n",
    "day = 1\n",
    "dates = pd.to_datetime(data + '-' + str(day), format='%m-%Y-%d')\n",
    "\n",
    "print(dates)"
   ],
   "metadata": {
    "id": "e9B8tBnsMVYm",
    "ExecuteTime": {
     "end_time": "2024-05-28T09:16:13.763233Z",
     "start_time": "2024-05-28T09:16:13.754198Z"
    }
   },
   "outputs": [
    {
     "name": "stdout",
     "output_type": "stream",
     "text": [
      "0   2022-01-01\n",
      "1   2022-02-01\n",
      "2   2022-03-01\n",
      "3   2022-04-01\n",
      "dtype: datetime64[ns]\n"
     ]
    }
   ],
   "execution_count": 29
  },
  {
   "cell_type": "markdown",
   "source": [
    "29. Напишите программу с использованием ```Pandas```, которая преобразует ```Series``` содержащий строковые представления вида ```\"месяц-год\"``` в ```Series```, содержащий даты, подставляя в качестве дня указанное число."
   ],
   "metadata": {
    "id": "XGfA2WLwMV90"
   }
  },
  {
   "cell_type": "code",
   "source": [
    "data = pd.Series(['01-2022', '02-2022', '03-2022', '04-2022'])\n",
    "day = 1\n",
    "dates = pd.to_datetime(data + '-' + str(day), format='%m-%Y-%d')\n",
    "dates"
   ],
   "metadata": {
    "id": "jCpdEj17MYal",
    "ExecuteTime": {
     "end_time": "2024-05-28T09:16:13.850065Z",
     "start_time": "2024-05-28T09:16:13.839352Z"
    }
   },
   "outputs": [
    {
     "data": {
      "text/plain": [
       "0   2022-01-01\n",
       "1   2022-02-01\n",
       "2   2022-03-01\n",
       "3   2022-04-01\n",
       "dtype: datetime64[ns]"
      ]
     },
     "execution_count": 30,
     "metadata": {},
     "output_type": "execute_result"
    }
   ],
   "execution_count": 30
  },
  {
   "cell_type": "markdown",
   "source": [
    "30. Напишите программу с использованием ```Pandas```, которая выбирает из указанного ```Series``` все слова, в которых содержится хотя бы две гласных буквы."
   ],
   "metadata": {
    "id": "0eixA9nIMY1K"
   }
  },
  {
   "cell_type": "code",
   "source": [
    "arr = pd.Series(['aba', 'zxc', 'eub'])\n",
    "\n",
    "def count_vowels(word):\n",
    "    vowels = set('aeiou')\n",
    "    return sum(1 for letter in word if letter.lower() in vowels)\n",
    "\n",
    "arr[arr.apply(lambda x: count_vowels(x) >= 2)]"
   ],
   "metadata": {
    "id": "OqjdFzL4MZ3J",
    "ExecuteTime": {
     "end_time": "2024-05-28T09:16:13.956875Z",
     "start_time": "2024-05-28T09:16:13.947949Z"
    }
   },
   "outputs": [
    {
     "data": {
      "text/plain": [
       "0    aba\n",
       "2    eub\n",
       "dtype: object"
      ]
     },
     "execution_count": 31,
     "metadata": {},
     "output_type": "execute_result"
    }
   ],
   "execution_count": 31
  },
  {
   "cell_type": "markdown",
   "source": [
    "31. Напишите программу с использованием ```Pandas```, которая вычисляет евклидово расстояние между двумя заданными ```Series```."
   ],
   "metadata": {
    "id": "Hi6muaL8MaNa"
   }
  },
  {
   "cell_type": "code",
   "source": [
    "s1 = pd.Series([1, 2, 3, 4, 5])\n",
    "s2 = pd.Series([5, 4, 3, 2, 1])\n",
    "\n",
    "dist = np.sqrt(((s1 - s2) ** 2).sum())\n",
    "dist"
   ],
   "metadata": {
    "id": "6h2R0PimMbVd",
    "ExecuteTime": {
     "end_time": "2024-05-28T09:16:14.012948Z",
     "start_time": "2024-05-28T09:16:14.004019Z"
    }
   },
   "outputs": [
    {
     "data": {
      "text/plain": [
       "6.324555320336759"
      ]
     },
     "execution_count": 32,
     "metadata": {},
     "output_type": "execute_result"
    }
   ],
   "execution_count": 32
  },
  {
   "cell_type": "markdown",
   "source": [
    "32. Напишите программу с использованием ```Pandas```, которая находит позиции элементов заданного ```Series```, которые окружены меньшими значениями с обеих сторон."
   ],
   "metadata": {
    "id": "ULacr3CCMbsh"
   }
  },
  {
   "cell_type": "code",
   "source": [
    "s = pd.Series([10, 90, 10, 90, 10, 6, 10])\n",
    "result = s[(s.shift(1) < s) & (s.shift(-1) < s)].index\n",
    "result"
   ],
   "metadata": {
    "id": "4SnyC9TjMc3M",
    "ExecuteTime": {
     "end_time": "2024-05-28T09:16:14.110030Z",
     "start_time": "2024-05-28T09:16:14.103761Z"
    }
   },
   "outputs": [
    {
     "data": {
      "text/plain": [
       "Index([1, 3], dtype='int64')"
      ]
     },
     "execution_count": 33,
     "metadata": {},
     "output_type": "execute_result"
    }
   ],
   "execution_count": 33
  },
  {
   "cell_type": "markdown",
   "source": [
    "33. Напишите программу с использованием ```Pandas```, которая заменяет в заданной строке все прбелы на самый частый символ."
   ],
   "metadata": {
    "id": "pKLHj6KjMdv9"
   }
  },
  {
   "cell_type": "code",
   "source": [
    "old = \"Hello world!\"\n",
    "s = old\n",
    "s = pd.Series(list(s))\n",
    "popular = s.mode()[0]\n",
    "s[s == ' '] = popular\n",
    "print(f\"old str: {old}\", f\"Popular: {popular}\", f\"New str: {''.join(s)}\")"
   ],
   "metadata": {
    "id": "Cgyw4TfNMedX",
    "ExecuteTime": {
     "end_time": "2024-05-28T09:16:14.154022Z",
     "start_time": "2024-05-28T09:16:14.147576Z"
    }
   },
   "outputs": [
    {
     "name": "stdout",
     "output_type": "stream",
     "text": [
      "old str: Hello world! Popular: l New str: Hellolworld!\n"
     ]
    }
   ],
   "execution_count": 34
  },
  {
   "cell_type": "markdown",
   "source": [
    "34. Напишите программу с использованием ```Pandas```, которая вычисляет автокорреляцию заданного числового ```Series```."
   ],
   "metadata": {
    "id": "Nnx7-NI5Me55"
   }
  },
  {
   "cell_type": "code",
   "source": [
    "arr = pd.Series([1, 2, 3, 4, 5, 6, 7, 8, 9])\n",
    "arr.autocorr()"
   ],
   "metadata": {
    "id": "637rjomcMfkJ",
    "ExecuteTime": {
     "end_time": "2024-05-28T09:16:14.263374Z",
     "start_time": "2024-05-28T09:16:14.255741Z"
    }
   },
   "outputs": [
    {
     "data": {
      "text/plain": [
       "1.0"
      ]
     },
     "execution_count": 35,
     "metadata": {},
     "output_type": "execute_result"
    }
   ],
   "execution_count": 35
  },
  {
   "cell_type": "markdown",
   "source": [
    "35. Напишите программу с использованием ```Pandas```, которая создает ```TimeSeries``` содержащий все воскресенья текущего года."
   ],
   "metadata": {
    "id": "5g65E4sMMfxq"
   }
  },
  {
   "cell_type": "code",
   "source": [
    "from datetime import date\n",
    "\n",
    "year = date.today().year\n",
    "\n",
    "dates = pd.date_range(start=f'01-01-{year}', end=f'12-31-{year}')\n",
    "sundays = dates[dates.dayofweek == 6]\n",
    "\n",
    "pd.Series(sundays)"
   ],
   "metadata": {
    "id": "gqBF0wozMgaL",
    "ExecuteTime": {
     "end_time": "2024-05-28T09:16:14.324910Z",
     "start_time": "2024-05-28T09:16:14.318590Z"
    }
   },
   "outputs": [
    {
     "data": {
      "text/plain": [
       "0    2024-01-07\n",
       "1    2024-01-14\n",
       "2    2024-01-21\n",
       "3    2024-01-28\n",
       "4    2024-02-04\n",
       "5    2024-02-11\n",
       "6    2024-02-18\n",
       "7    2024-02-25\n",
       "8    2024-03-03\n",
       "9    2024-03-10\n",
       "10   2024-03-17\n",
       "11   2024-03-24\n",
       "12   2024-03-31\n",
       "13   2024-04-07\n",
       "14   2024-04-14\n",
       "15   2024-04-21\n",
       "16   2024-04-28\n",
       "17   2024-05-05\n",
       "18   2024-05-12\n",
       "19   2024-05-19\n",
       "20   2024-05-26\n",
       "21   2024-06-02\n",
       "22   2024-06-09\n",
       "23   2024-06-16\n",
       "24   2024-06-23\n",
       "25   2024-06-30\n",
       "26   2024-07-07\n",
       "27   2024-07-14\n",
       "28   2024-07-21\n",
       "29   2024-07-28\n",
       "30   2024-08-04\n",
       "31   2024-08-11\n",
       "32   2024-08-18\n",
       "33   2024-08-25\n",
       "34   2024-09-01\n",
       "35   2024-09-08\n",
       "36   2024-09-15\n",
       "37   2024-09-22\n",
       "38   2024-09-29\n",
       "39   2024-10-06\n",
       "40   2024-10-13\n",
       "41   2024-10-20\n",
       "42   2024-10-27\n",
       "43   2024-11-03\n",
       "44   2024-11-10\n",
       "45   2024-11-17\n",
       "46   2024-11-24\n",
       "47   2024-12-01\n",
       "48   2024-12-08\n",
       "49   2024-12-15\n",
       "50   2024-12-22\n",
       "51   2024-12-29\n",
       "dtype: datetime64[ns]"
      ]
     },
     "execution_count": 36,
     "metadata": {},
     "output_type": "execute_result"
    }
   ],
   "execution_count": 36
  },
  {
   "cell_type": "markdown",
   "source": [
    "36. Напишите программу с использованием ```Pandas```, которая преобразует указанный ```Series``` в ```DataFrame``` в котором индексы будут являться другим столбцом."
   ],
   "metadata": {
    "id": "v7gvdm8qMgrP"
   }
  },
  {
   "cell_type": "code",
   "source": [
    "arr = pd.Series([10, 20, 30, 40], name='values')\n",
    "df = arr.reset_index()\n",
    "df.columns = ['index', 'values']\n",
    "df"
   ],
   "metadata": {
    "id": "0wKWk4DsMhNj",
    "ExecuteTime": {
     "end_time": "2024-05-28T09:16:14.436368Z",
     "start_time": "2024-05-28T09:16:14.422967Z"
    }
   },
   "outputs": [
    {
     "data": {
      "text/plain": [
       "   index  values\n",
       "0      0      10\n",
       "1      1      20\n",
       "2      2      30\n",
       "3      3      40"
      ],
      "text/html": [
       "<div>\n",
       "<style scoped>\n",
       "    .dataframe tbody tr th:only-of-type {\n",
       "        vertical-align: middle;\n",
       "    }\n",
       "\n",
       "    .dataframe tbody tr th {\n",
       "        vertical-align: top;\n",
       "    }\n",
       "\n",
       "    .dataframe thead th {\n",
       "        text-align: right;\n",
       "    }\n",
       "</style>\n",
       "<table border=\"1\" class=\"dataframe\">\n",
       "  <thead>\n",
       "    <tr style=\"text-align: right;\">\n",
       "      <th></th>\n",
       "      <th>index</th>\n",
       "      <th>values</th>\n",
       "    </tr>\n",
       "  </thead>\n",
       "  <tbody>\n",
       "    <tr>\n",
       "      <th>0</th>\n",
       "      <td>0</td>\n",
       "      <td>10</td>\n",
       "    </tr>\n",
       "    <tr>\n",
       "      <th>1</th>\n",
       "      <td>1</td>\n",
       "      <td>20</td>\n",
       "    </tr>\n",
       "    <tr>\n",
       "      <th>2</th>\n",
       "      <td>2</td>\n",
       "      <td>30</td>\n",
       "    </tr>\n",
       "    <tr>\n",
       "      <th>3</th>\n",
       "      <td>3</td>\n",
       "      <td>40</td>\n",
       "    </tr>\n",
       "  </tbody>\n",
       "</table>\n",
       "</div>"
      ]
     },
     "execution_count": 37,
     "metadata": {},
     "output_type": "execute_result"
    }
   ],
   "execution_count": 37
  },
  {
   "cell_type": "markdown",
   "source": [
    "37. Напишите программу с использованием ```Pandas```, которая объединяет два заданных ```Series``` вертикально и горизонтально."
   ],
   "metadata": {
    "id": "--rb2OP0Mhg5"
   }
  },
  {
   "cell_type": "code",
   "source": [
    "s1 = pd.Series([1, 2, 3, 4], name='s1')\n",
    "s2 = pd.Series([5, 6, 7, 8], name='s2')\n",
    "\n",
    "print(pd.concat([s1, s2], axis=0), pd.concat([s1, s2], axis=1))"
   ],
   "metadata": {
    "id": "ptjMfDDZMiMz",
    "ExecuteTime": {
     "end_time": "2024-05-28T09:16:14.484623Z",
     "start_time": "2024-05-28T09:16:14.476498Z"
    }
   },
   "outputs": [
    {
     "name": "stdout",
     "output_type": "stream",
     "text": [
      "0    1\n",
      "1    2\n",
      "2    3\n",
      "3    4\n",
      "0    5\n",
      "1    6\n",
      "2    7\n",
      "3    8\n",
      "dtype: int64    s1  s2\n",
      "0   1   5\n",
      "1   2   6\n",
      "2   3   7\n",
      "3   4   8\n"
     ]
    }
   ],
   "execution_count": 38
  },
  {
   "cell_type": "markdown",
   "source": "38. Напишите программу с использованием ```Pandas```, которая проверяет равенство двух указанных ```Series```.",
   "metadata": {
    "id": "XwNHdOmWMit1"
   }
  },
  {
   "cell_type": "code",
   "source": [
    "s1 = pd.Series([1, 2, 3, 4, 5])\n",
    "s2 = pd.Series([5, 4, 3, 2, 1])\n",
    "\n",
    "s1.equals(s2)"
   ],
   "metadata": {
    "id": "Dl7k219xMjYU",
    "ExecuteTime": {
     "end_time": "2024-05-28T09:16:14.630445Z",
     "start_time": "2024-05-28T09:16:14.622606Z"
    }
   },
   "outputs": [
    {
     "data": {
      "text/plain": [
       "False"
      ]
     },
     "execution_count": 39,
     "metadata": {},
     "output_type": "execute_result"
    }
   ],
   "execution_count": 39
  },
  {
   "cell_type": "markdown",
   "source": [
    "39. Напишите программу с использованием ```Pandas```, которая находит индексы первых вхождений самого большого и самого маленького значений заданного Series."
   ],
   "metadata": {
    "id": "SVVTCCnTMjsW"
   }
  },
  {
   "cell_type": "code",
   "source": [
    "s = pd.Series([3, 1, 2, 4])\n",
    "print(f\"Max: {s.idxmax()}\", f\"Min: {s.idxmin()}\")"
   ],
   "metadata": {
    "id": "NdzxB8iiMkU9",
    "ExecuteTime": {
     "end_time": "2024-05-28T09:16:14.715388Z",
     "start_time": "2024-05-28T09:16:14.709403Z"
    }
   },
   "outputs": [
    {
     "name": "stdout",
     "output_type": "stream",
     "text": [
      "Max: 3 Min: 1\n"
     ]
    }
   ],
   "execution_count": 40
  },
  {
   "cell_type": "markdown",
   "source": [
    "40. Напишите программу с использованием ```Pandas```, которая проверяет неравенство между всеми столбцами заданного ```DataFrame``` и заданного ```Series``` поэлементно."
   ],
   "metadata": {
    "id": "jGyny0O8MknT"
   }
  },
  {
   "cell_type": "code",
   "source": [
    "s = pd.Series([1, 2, 3])\n",
    "df = pd.DataFrame(([1, 6, 3],[7, 8, 8], [1, 2, 3]))\n",
    "\n",
    "df.ne(s, axis=0)"
   ],
   "metadata": {
    "id": "8xD2oHhLMlOs",
    "ExecuteTime": {
     "end_time": "2024-05-28T09:16:14.902165Z",
     "start_time": "2024-05-28T09:16:14.894002Z"
    }
   },
   "outputs": [
    {
     "data": {
      "text/plain": [
       "       0     1      2\n",
       "0  False  True   True\n",
       "1   True  True   True\n",
       "2   True  True  False"
      ],
      "text/html": [
       "<div>\n",
       "<style scoped>\n",
       "    .dataframe tbody tr th:only-of-type {\n",
       "        vertical-align: middle;\n",
       "    }\n",
       "\n",
       "    .dataframe tbody tr th {\n",
       "        vertical-align: top;\n",
       "    }\n",
       "\n",
       "    .dataframe thead th {\n",
       "        text-align: right;\n",
       "    }\n",
       "</style>\n",
       "<table border=\"1\" class=\"dataframe\">\n",
       "  <thead>\n",
       "    <tr style=\"text-align: right;\">\n",
       "      <th></th>\n",
       "      <th>0</th>\n",
       "      <th>1</th>\n",
       "      <th>2</th>\n",
       "    </tr>\n",
       "  </thead>\n",
       "  <tbody>\n",
       "    <tr>\n",
       "      <th>0</th>\n",
       "      <td>False</td>\n",
       "      <td>True</td>\n",
       "      <td>True</td>\n",
       "    </tr>\n",
       "    <tr>\n",
       "      <th>1</th>\n",
       "      <td>True</td>\n",
       "      <td>True</td>\n",
       "      <td>True</td>\n",
       "    </tr>\n",
       "    <tr>\n",
       "      <th>2</th>\n",
       "      <td>True</td>\n",
       "      <td>True</td>\n",
       "      <td>False</td>\n",
       "    </tr>\n",
       "  </tbody>\n",
       "</table>\n",
       "</div>"
      ]
     },
     "execution_count": 41,
     "metadata": {},
     "output_type": "execute_result"
    }
   ],
   "execution_count": 41
  },
  {
   "metadata": {
    "ExecuteTime": {
     "end_time": "2024-05-28T09:16:14.978756Z",
     "start_time": "2024-05-28T09:16:14.975837Z"
    }
   },
   "cell_type": "code",
   "source": "",
   "outputs": [],
   "execution_count": 41
  }
 ]
}
