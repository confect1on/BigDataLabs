{
 "cells": [
  {
   "cell_type": "markdown",
   "metadata": {
    "id": "kad65PaKLrR4"
   },
   "source": [
    "1. Напишите программу `NumPy`, чтобы получить версию `NumPy` и показать конфигурацию сборки `NumPy`."
   ]
  },
  {
   "cell_type": "code",
   "metadata": {
    "id": "Er1A02n9LrR7",
    "ExecuteTime": {
     "end_time": "2024-05-27T20:32:33.919653Z",
     "start_time": "2024-05-27T20:32:33.913874Z"
    }
   },
   "source": [
    "import numpy as np\n",
    "print(np.__version__)\n",
    "np.show_config()"
   ],
   "outputs": [
    {
     "name": "stdout",
     "output_type": "stream",
     "text": [
      "1.26.4\n",
      "Build Dependencies:\n",
      "  blas:\n",
      "    detection method: pkgconfig\n",
      "    found: true\n",
      "    include directory: /c/opt/64/include\n",
      "    lib directory: /c/opt/64/lib\n",
      "    name: openblas64\n",
      "    openblas configuration: USE_64BITINT=1 DYNAMIC_ARCH=1 DYNAMIC_OLDER= NO_CBLAS=\n",
      "      NO_LAPACK= NO_LAPACKE= NO_AFFINITY=1 USE_OPENMP= SKYLAKEX MAX_THREADS=2\n",
      "    pc file directory: C:/opt/64/lib/pkgconfig\n",
      "    version: 0.3.23.dev\n",
      "  lapack:\n",
      "    detection method: internal\n",
      "    found: true\n",
      "    include directory: unknown\n",
      "    lib directory: unknown\n",
      "    name: dep2270588361616\n",
      "    openblas configuration: unknown\n",
      "    pc file directory: unknown\n",
      "    version: 1.26.4\n",
      "Compilers:\n",
      "  c:\n",
      "    commands: cl\n",
      "    linker: link\n",
      "    name: msvc\n",
      "    version: 19.29.30153\n",
      "  c++:\n",
      "    commands: cl\n",
      "    linker: link\n",
      "    name: msvc\n",
      "    version: 19.29.30153\n",
      "  cython:\n",
      "    commands: cython\n",
      "    linker: cython\n",
      "    name: cython\n",
      "    version: 3.0.8\n",
      "Machine Information:\n",
      "  build:\n",
      "    cpu: x86_64\n",
      "    endian: little\n",
      "    family: x86_64\n",
      "    system: windows\n",
      "  host:\n",
      "    cpu: x86_64\n",
      "    endian: little\n",
      "    family: x86_64\n",
      "    system: windows\n",
      "Python Information:\n",
      "  path: C:\\Users\\runneradmin\\AppData\\Local\\Temp\\cibw-run-j442zwj6\\cp311-win_amd64\\build\\venv\\Scripts\\python.exe\n",
      "  version: '3.11'\n",
      "SIMD Extensions:\n",
      "  baseline:\n",
      "  - SSE\n",
      "  - SSE2\n",
      "  - SSE3\n",
      "  found:\n",
      "  - SSSE3\n",
      "  - SSE41\n",
      "  - POPCNT\n",
      "  - SSE42\n",
      "  - AVX\n",
      "  - F16C\n",
      "  - FMA3\n",
      "  - AVX2\n",
      "  not found:\n",
      "  - AVX512F\n",
      "  - AVX512CD\n",
      "  - AVX512_SKX\n",
      "  - AVX512_CLX\n",
      "  - AVX512_CNL\n",
      "  - AVX512_ICL\n",
      "\n"
     ]
    }
   ],
   "execution_count": 4
  },
  {
   "cell_type": "markdown",
   "metadata": {
    "id": "3LjJHxKnLrR8"
   },
   "source": [
    "2. Напишите программу `NumPy`, чтобы получить справку по функции `add`."
   ]
  },
  {
   "cell_type": "code",
   "metadata": {
    "id": "lDhA55d-LrR8",
    "ExecuteTime": {
     "end_time": "2024-05-27T22:03:06.547242Z",
     "start_time": "2024-05-27T22:03:06.544109Z"
    }
   },
   "source": "np.info(np.add)",
   "outputs": [
    {
     "name": "stdout",
     "output_type": "stream",
     "text": [
      "add(x1, x2, /, out=None, *, where=True, casting='same_kind', order='K', dtype=None, subok=True[, signature, extobj])\n",
      "\n",
      "Add arguments element-wise.\n",
      "\n",
      "Parameters\n",
      "----------\n",
      "x1, x2 : array_like\n",
      "    The arrays to be added.\n",
      "    If ``x1.shape != x2.shape``, they must be broadcastable to a common\n",
      "    shape (which becomes the shape of the output).\n",
      "out : ndarray, None, or tuple of ndarray and None, optional\n",
      "    A location into which the result is stored. If provided, it must have\n",
      "    a shape that the inputs broadcast to. If not provided or None,\n",
      "    a freshly-allocated array is returned. A tuple (possible only as a\n",
      "    keyword argument) must have length equal to the number of outputs.\n",
      "where : array_like, optional\n",
      "    This condition is broadcast over the input. At locations where the\n",
      "    condition is True, the `out` array will be set to the ufunc result.\n",
      "    Elsewhere, the `out` array will retain its original value.\n",
      "    Note that if an uninitialized `out` array is created via the default\n",
      "    ``out=None``, locations within it where the condition is False will\n",
      "    remain uninitialized.\n",
      "**kwargs\n",
      "    For other keyword-only arguments, see the\n",
      "    :ref:`ufunc docs <ufuncs.kwargs>`.\n",
      "\n",
      "Returns\n",
      "-------\n",
      "add : ndarray or scalar\n",
      "    The sum of `x1` and `x2`, element-wise.\n",
      "    This is a scalar if both `x1` and `x2` are scalars.\n",
      "\n",
      "Notes\n",
      "-----\n",
      "Equivalent to `x1` + `x2` in terms of array broadcasting.\n",
      "\n",
      "Examples\n",
      "--------\n",
      ">>> np.add(1.0, 4.0)\n",
      "5.0\n",
      ">>> x1 = np.arange(9.0).reshape((3, 3))\n",
      ">>> x2 = np.arange(3.0)\n",
      ">>> np.add(x1, x2)\n",
      "array([[  0.,   2.,   4.],\n",
      "       [  3.,   5.,   7.],\n",
      "       [  6.,   8.,  10.]])\n",
      "\n",
      "The ``+`` operator can be used as a shorthand for ``np.add`` on ndarrays.\n",
      "\n",
      ">>> x1 = np.arange(9.0).reshape((3, 3))\n",
      ">>> x2 = np.arange(3.0)\n",
      ">>> x1 + x2\n",
      "array([[ 0.,  2.,  4.],\n",
      "       [ 3.,  5.,  7.],\n",
      "       [ 6.,  8., 10.]])\n"
     ]
    }
   ],
   "execution_count": 87
  },
  {
   "cell_type": "markdown",
   "metadata": {
    "id": "Nm1GHbH4LrR9"
   },
   "source": [
    "3. Напишите программу `NumPy`, чтобы проверить, не равен ли ни один из элементов заданного массива нулю."
   ]
  },
  {
   "cell_type": "code",
   "metadata": {
    "id": "Clp92MIdLrR9",
    "ExecuteTime": {
     "end_time": "2024-05-27T21:08:24.455644Z",
     "start_time": "2024-05-27T21:08:24.451025Z"
    }
   },
   "source": "not np.any(np.isclose(np.array([1]), 0))",
   "outputs": [
    {
     "data": {
      "text/plain": [
       "True"
      ]
     },
     "execution_count": 21,
     "metadata": {},
     "output_type": "execute_result"
    }
   ],
   "execution_count": 21
  },
  {
   "cell_type": "markdown",
   "metadata": {
    "id": "-zUXbmUkLrR9"
   },
   "source": [
    "4. Напишите программу `NumPy` для проверки того, является ли какой-либо из элементов заданного массива ненулевым."
   ]
  },
  {
   "cell_type": "code",
   "metadata": {
    "id": "3Me7UZQyLrR9",
    "ExecuteTime": {
     "end_time": "2024-05-27T21:11:33.004600Z",
     "start_time": "2024-05-27T21:11:32.999602Z"
    }
   },
   "source": "not np.all(np.isclose(np.array([0]), 0))",
   "outputs": [
    {
     "data": {
      "text/plain": [
       "False"
      ]
     },
     "execution_count": 26,
     "metadata": {},
     "output_type": "execute_result"
    }
   ],
   "execution_count": 26
  },
  {
   "cell_type": "markdown",
   "metadata": {
    "id": "RzL6l6O2LrR-"
   },
   "source": "    5. Напишите программу `NumPy` для поэлементной проверки заданного массива на конечность (не бесконечность или не число)."
  },
  {
   "cell_type": "code",
   "metadata": {
    "id": "o06chQHvLrR-",
    "ExecuteTime": {
     "end_time": "2024-05-27T21:11:44.021866Z",
     "start_time": "2024-05-27T21:11:44.018490Z"
    }
   },
   "source": "np.isfinite(np.array([0]))",
   "outputs": [
    {
     "data": {
      "text/plain": [
       "array([ True])"
      ]
     },
     "execution_count": 27,
     "metadata": {},
     "output_type": "execute_result"
    }
   ],
   "execution_count": 27
  },
  {
   "cell_type": "markdown",
   "metadata": {
    "id": "MW4AId2nLrR-"
   },
   "source": [
    "6. Напишите программу `NumPy` для поэлементной проверки положительной или отрицательной бесконечности."
   ]
  },
  {
   "cell_type": "code",
   "execution_count": null,
   "metadata": {
    "id": "EShPYOKYLrR-"
   },
   "outputs": [],
   "source": "np.isnan(np.array([0]))"
  },
  {
   "cell_type": "markdown",
   "metadata": {
    "id": "G5HdstHXLrR_"
   },
   "source": [
    "7. Напишите программу `NumPy` для поэлементной проверкизаданного массива на значение NaN."
   ]
  },
  {
   "cell_type": "code",
   "metadata": {
    "id": "vxHKWIXYLrR_",
    "ExecuteTime": {
     "end_time": "2024-05-27T21:15:49.270394Z",
     "start_time": "2024-05-27T21:15:49.265901Z"
    }
   },
   "source": [
    "t = np.array([1, 2, 3+4j])\n",
    "print(np.iscomplex(t))\n",
    "print(np.isreal(t))\n",
    "# what is the scalar type"
   ],
   "outputs": [
    {
     "name": "stdout",
     "output_type": "stream",
     "text": [
      "[False False  True]\n",
      "[ True  True False]\n"
     ]
    }
   ],
   "execution_count": 30
  },
  {
   "cell_type": "markdown",
   "metadata": {
    "id": "KAnAO0oDLrR_"
   },
   "source": [
    "8. Напишите программу `NumPy` для поэлементной проверки комплексного числа, действительного числа данного массива. Также проверьте, является ли данное число скалярным типом или нет."
   ]
  },
  {
   "cell_type": "code",
   "metadata": {
    "id": "H3ClvgUdLrR_",
    "ExecuteTime": {
     "end_time": "2024-05-27T21:20:18.218307Z",
     "start_time": "2024-05-27T21:20:18.214516Z"
    }
   },
   "source": "np.allclose(np.array([1, 2, 3]), np.array([1 + 1e-2, 2 + 1e-16, 3]))",
   "outputs": [
    {
     "data": {
      "text/plain": [
       "False"
      ]
     },
     "execution_count": 34,
     "metadata": {},
     "output_type": "execute_result"
    }
   ],
   "execution_count": 34
  },
  {
   "cell_type": "markdown",
   "metadata": {
    "id": "tVAqBPETLrR_"
   },
   "source": [
    "9. Напишите программу `NumPy`, чтобы проверить, равны ли два массива по элементам в пределах допуска."
   ]
  },
  {
   "cell_type": "code",
   "metadata": {
    "id": "P7uK4joELrR_",
    "colab": {
     "base_uri": "https://localhost:8080/"
    },
    "outputId": "f7017244-4c23-4f74-e8f4-5198aeada312",
    "ExecuteTime": {
     "end_time": "2024-05-27T21:20:46.777044Z",
     "start_time": "2024-05-27T21:20:46.772655Z"
    }
   },
   "source": [
    "print(np.array([1, 2, 3]) > np.array([1, 2, 3]))\n",
    "print(np.array([1, 2, 3]) >= np.array([1, 2, 3]))\n",
    "print(np.array([1, 2, 3]) < np.array([1, 2, 3]))\n",
    "print(np.array([1, 2, 3]) <= np.array([1, 2, 3]))"
   ],
   "outputs": [
    {
     "data": {
      "text/plain": [
       "array([False, False, False])"
      ]
     },
     "execution_count": 35,
     "metadata": {},
     "output_type": "execute_result"
    }
   ],
   "execution_count": 35
  },
  {
   "cell_type": "markdown",
   "metadata": {
    "id": "9EOPoz68LrSA"
   },
   "source": [
    "10. Напишите программу `NumPy` для создания поэлементного сравнения (больше, больше_равно, меньше и меньше_равно) двух заданных массивов."
   ]
  },
  {
   "metadata": {},
   "cell_type": "markdown",
   "source": ""
  },
  {
   "cell_type": "code",
   "metadata": {
    "id": "LrhzyHYnLrSA",
    "ExecuteTime": {
     "end_time": "2024-05-27T21:27:25.706933Z",
     "start_time": "2024-05-27T21:27:25.703028Z"
    }
   },
   "source": "np.array_equal(np.array([1 + 1e-2, 2, 3]),  np.array([1, 2, 3]))",
   "outputs": [
    {
     "data": {
      "text/plain": [
       "False"
      ]
     },
     "execution_count": 38,
     "metadata": {},
     "output_type": "execute_result"
    }
   ],
   "execution_count": 38
  },
  {
   "cell_type": "markdown",
   "metadata": {
    "id": "HuvSrHitLrSA"
   },
   "source": [
    "11. Напишите программу `NumPy` для создания поэлементного сравнения (равно, равно в пределах допуска) двух заданных массивов."
   ]
  },
  {
   "cell_type": "code",
   "metadata": {
    "id": "5SeLP8cXLrSA",
    "ExecuteTime": {
     "end_time": "2024-05-27T21:29:41.792435Z",
     "start_time": "2024-05-27T21:29:41.787701Z"
    }
   },
   "source": "np.array([1, 7, 13, 105]).nbytes",
   "outputs": [
    {
     "data": {
      "text/plain": [
       "16"
      ]
     },
     "execution_count": 39,
     "metadata": {},
     "output_type": "execute_result"
    }
   ],
   "execution_count": 39
  },
  {
   "cell_type": "markdown",
   "metadata": {
    "id": "wDrxTDu0LrSA"
   },
   "source": [
    "12. Напишите программу `NumPy` для создания массива со значениями 1, 7, 13, 105 и определения размера памяти, занимаемой массивом."
   ]
  },
  {
   "cell_type": "code",
   "metadata": {
    "id": "E0UnVD5hLrSB",
    "ExecuteTime": {
     "end_time": "2024-05-27T21:34:25.392669Z",
     "start_time": "2024-05-27T21:34:25.388723Z"
    }
   },
   "source": "np.concatenate((np.zeros(10), np.ones(10), 5 * np.ones(10)))",
   "outputs": [
    {
     "data": {
      "text/plain": [
       "array([0., 0., 0., 0., 0., 0., 0., 0., 0., 0., 1., 1., 1., 1., 1., 1., 1.,\n",
       "       1., 1., 1., 5., 5., 5., 5., 5., 5., 5., 5., 5., 5.])"
      ]
     },
     "execution_count": 45,
     "metadata": {},
     "output_type": "execute_result"
    }
   ],
   "execution_count": 45
  },
  {
   "cell_type": "markdown",
   "metadata": {
    "id": "LfpXNYxbLrSB"
   },
   "source": [
    "13. Напишите программу `NumPy` для создания массива из `10` нулей, `10` единиц и `10` пятерок."
   ]
  },
  {
   "cell_type": "code",
   "metadata": {
    "id": "uWK9mPk2LrSB",
    "ExecuteTime": {
     "end_time": "2024-05-27T21:34:57.160698Z",
     "start_time": "2024-05-27T21:34:57.156176Z"
    }
   },
   "source": "np.arange(30, 70 + 1)",
   "outputs": [
    {
     "data": {
      "text/plain": [
       "array([30, 31, 32, 33, 34, 35, 36, 37, 38, 39, 40, 41, 42, 43, 44, 45, 46,\n",
       "       47, 48, 49, 50, 51, 52, 53, 54, 55, 56, 57, 58, 59, 60, 61, 62, 63,\n",
       "       64, 65, 66, 67, 68, 69, 70])"
      ]
     },
     "execution_count": 47,
     "metadata": {},
     "output_type": "execute_result"
    }
   ],
   "execution_count": 47
  },
  {
   "cell_type": "markdown",
   "metadata": {
    "id": "XFasIltYLrSB"
   },
   "source": [
    "14. Напишите программу `NumPy` для создания массива целых чисел от `30` до `70`."
   ]
  },
  {
   "cell_type": "code",
   "metadata": {
    "id": "MBtkqiYjLrSB",
    "ExecuteTime": {
     "end_time": "2024-05-27T21:35:34.421907Z",
     "start_time": "2024-05-27T21:35:34.418701Z"
    }
   },
   "source": "np.arange(30, 71, 2)",
   "outputs": [
    {
     "data": {
      "text/plain": [
       "array([30, 32, 34, 36, 38, 40, 42, 44, 46, 48, 50, 52, 54, 56, 58, 60, 62,\n",
       "       64, 66, 68, 70])"
      ]
     },
     "execution_count": 48,
     "metadata": {},
     "output_type": "execute_result"
    }
   ],
   "execution_count": 48
  },
  {
   "cell_type": "markdown",
   "metadata": {
    "id": "k1sVqxQJLrSB"
   },
   "source": [
    "15. Напишите программу `NumPy` для создания массива всех четных целых чисел от `30` до `70`."
   ]
  },
  {
   "metadata": {},
   "cell_type": "markdown",
   "source": ""
  },
  {
   "cell_type": "code",
   "metadata": {
    "id": "5QqpAjiQLrSB",
    "ExecuteTime": {
     "end_time": "2024-05-27T21:36:38.824049Z",
     "start_time": "2024-05-27T21:36:38.820032Z"
    }
   },
   "source": "np.eye(3, 3)",
   "outputs": [
    {
     "data": {
      "text/plain": [
       "array([[1., 0., 0.],\n",
       "       [0., 1., 0.],\n",
       "       [0., 0., 1.]])"
      ]
     },
     "execution_count": 49,
     "metadata": {},
     "output_type": "execute_result"
    }
   ],
   "execution_count": 49
  },
  {
   "cell_type": "markdown",
   "metadata": {
    "id": "YGDKsHHgLrSC"
   },
   "source": [
    "16. Напишите программу `NumPy` для создания идентификационной матрицы `3x3`."
   ]
  },
  {
   "cell_type": "code",
   "metadata": {
    "id": "gztJmu_yLrSC",
    "ExecuteTime": {
     "end_time": "2024-05-27T21:37:32.759040Z",
     "start_time": "2024-05-27T21:37:32.755098Z"
    }
   },
   "source": "np.random.rand()",
   "outputs": [
    {
     "data": {
      "text/plain": [
       "0.9820963033011999"
      ]
     },
     "execution_count": 53,
     "metadata": {},
     "output_type": "execute_result"
    }
   ],
   "execution_count": 53
  },
  {
   "cell_type": "markdown",
   "metadata": {
    "id": "Wpb9xudfLrSC"
   },
   "source": [
    "17. Напишите программу `NumPy` для генерации случайного числа от `0` до `1`."
   ]
  },
  {
   "cell_type": "code",
   "metadata": {
    "id": "24eQOUAeLrSC",
    "ExecuteTime": {
     "end_time": "2024-05-27T21:39:04.411751Z",
     "start_time": "2024-05-27T21:39:04.407365Z"
    }
   },
   "source": "np.random.normal(size=15)",
   "outputs": [
    {
     "data": {
      "text/plain": [
       "array([ 1.31227344,  0.42373349,  0.81280526,  0.44153497, -0.76740565,\n",
       "        0.03368   , -0.20487264, -0.97090774, -1.4868597 ,  0.87483603,\n",
       "       -1.62873073,  1.21789913,  1.93491239, -2.25412606, -1.78367656])"
      ]
     },
     "execution_count": 55,
     "metadata": {},
     "output_type": "execute_result"
    }
   ],
   "execution_count": 55
  },
  {
   "cell_type": "markdown",
   "metadata": {
    "id": "pSGds4jyLrSC"
   },
   "source": [
    "18. Напишите программу `NumPy` для создания массива из `15` случайных чисел из стандартного нормального распределения."
   ]
  },
  {
   "cell_type": "code",
   "metadata": {
    "id": "uQ-EFELoLrSC",
    "ExecuteTime": {
     "end_time": "2024-05-27T21:39:59.666135Z",
     "start_time": "2024-05-27T21:39:59.661675Z"
    }
   },
   "source": "np.arange(15, 56)[1:-1]",
   "outputs": [
    {
     "data": {
      "text/plain": [
       "array([16, 17, 18, 19, 20, 21, 22, 23, 24, 25, 26, 27, 28, 29, 30, 31, 32,\n",
       "       33, 34, 35, 36, 37, 38, 39, 40, 41, 42, 43, 44, 45, 46, 47, 48, 49,\n",
       "       50, 51, 52, 53, 54])"
      ]
     },
     "execution_count": 57,
     "metadata": {},
     "output_type": "execute_result"
    }
   ],
   "execution_count": 57
  },
  {
   "cell_type": "markdown",
   "metadata": {
    "id": "Pp4DeI-HLrSD"
   },
   "source": [
    "19. Напишите программу `NumPy` для создания вектора со значениями в диапазоне от `15` до `55` и печати всех значений, кроме первого и последнего."
   ]
  },
  {
   "cell_type": "code",
   "metadata": {
    "id": "2WI9M2bgLrSD",
    "ExecuteTime": {
     "end_time": "2024-05-27T21:53:59.392009Z",
     "start_time": "2024-05-27T21:53:59.387370Z"
    }
   },
   "source": "np.resize(np.arange(0, 13), (3, 4))",
   "outputs": [
    {
     "data": {
      "text/plain": [
       "array([[ 0,  1,  2,  3],\n",
       "       [ 4,  5,  6,  7],\n",
       "       [ 8,  9, 10, 11]])"
      ]
     },
     "execution_count": 78,
     "metadata": {},
     "output_type": "execute_result"
    }
   ],
   "execution_count": 78
  },
  {
   "cell_type": "markdown",
   "metadata": {
    "id": "Sh526ffOLrSD"
   },
   "source": [
    "20. Напишите программу `NumPy` для создания массива `3X4` с использованием и итерацией по нему."
   ]
  },
  {
   "cell_type": "code",
   "metadata": {
    "id": "LtkDAOdfLrSD",
    "ExecuteTime": {
     "end_time": "2024-05-27T21:44:24.862490Z",
     "start_time": "2024-05-27T21:44:24.858557Z"
    }
   },
   "source": "np.linspace(5, 50, 10)",
   "outputs": [
    {
     "data": {
      "text/plain": [
       "array([ 5., 10., 15., 20., 25., 30., 35., 40., 45., 50.])"
      ]
     },
     "execution_count": 65,
     "metadata": {},
     "output_type": "execute_result"
    }
   ],
   "execution_count": 65
  },
  {
   "cell_type": "markdown",
   "metadata": {
    "id": "pB1xOhfFLrSD"
   },
   "source": [
    "21. Напишите программу `NumPy` для создания вектора длины `10` со значениями, равномерно распределенными между `5` и `50`."
   ]
  },
  {
   "cell_type": "code",
   "metadata": {
    "id": "sMOSjDEyLrSE",
    "ExecuteTime": {
     "end_time": "2024-05-27T21:48:02.242700Z",
     "start_time": "2024-05-27T21:48:02.239543Z"
    }
   },
   "source": [
    "t = np.arange(0, 20)\n",
    "t[np.logical_and(t >= 9, t <= 15)] *= -1\n",
    "print(t)"
   ],
   "outputs": [
    {
     "name": "stdout",
     "output_type": "stream",
     "text": [
      "[  0   1   2   3   4   5   6   7   8  -9 -10 -11 -12 -13 -14 -15  16  17\n",
      "  18  19]\n"
     ]
    }
   ],
   "execution_count": 71
  },
  {
   "cell_type": "markdown",
   "metadata": {
    "id": "5TUPY8EhLrSE"
   },
   "source": [
    "22. Напишите программу `NumPy` для создания вектора со значениями от `0` до `20` и изменения знака чисел в диапазоне от `9` до `15`."
   ]
  },
  {
   "cell_type": "code",
   "metadata": {
    "id": "JHbcQ2t1LrSE",
    "ExecuteTime": {
     "end_time": "2024-05-27T21:48:46.735928Z",
     "start_time": "2024-05-27T21:48:46.731266Z"
    }
   },
   "source": "np.random.randint(0, 11, size=5)",
   "outputs": [
    {
     "data": {
      "text/plain": [
       "array([9, 9, 4, 5, 2])"
      ]
     },
     "execution_count": 72,
     "metadata": {},
     "output_type": "execute_result"
    }
   ],
   "execution_count": 72
  },
  {
   "cell_type": "markdown",
   "metadata": {
    "id": "dWcuAQXFLrSE"
   },
   "source": [
    "23. Напишите программу `NumPy` для создания вектора длины `5`, заполненного произвольными целыми числами от `0` до `10`."
   ]
  },
  {
   "cell_type": "code",
   "metadata": {
    "id": "FwUBtFkALrSE",
    "ExecuteTime": {
     "end_time": "2024-05-27T21:49:49.786191Z",
     "start_time": "2024-05-27T21:49:49.782148Z"
    }
   },
   "source": "np.array([1, 2, 3]) * np.array([1, 2, 3])",
   "outputs": [
    {
     "data": {
      "text/plain": [
       "array([1, 4, 9])"
      ]
     },
     "execution_count": 73,
     "metadata": {},
     "output_type": "execute_result"
    }
   ],
   "execution_count": 73
  },
  {
   "cell_type": "markdown",
   "metadata": {
    "id": "MvSV-KA1LrSE"
   },
   "source": [
    "24. Напишите программу `NumPy` для умножения значений двух заданных векторов."
   ]
  },
  {
   "cell_type": "code",
   "metadata": {
    "id": "SGbT420dLrSF",
    "ExecuteTime": {
     "end_time": "2024-05-27T21:51:54.470097Z",
     "start_time": "2024-05-27T21:51:54.465097Z"
    }
   },
   "source": "np.resize(np.arange(10, 22), (3, 4))",
   "outputs": [
    {
     "data": {
      "text/plain": [
       "array([[10, 11, 12, 13],\n",
       "       [14, 15, 16, 17],\n",
       "       [18, 19, 20, 21]])"
      ]
     },
     "execution_count": 76,
     "metadata": {},
     "output_type": "execute_result"
    }
   ],
   "execution_count": 76
  },
  {
   "cell_type": "markdown",
   "metadata": {
    "id": "UJdrJPZzLrSF"
   },
   "source": [
    "25. Напишите программу `NumPy` для создания матрицы `3x4`, заполненной значениями от `10` до `21`."
   ]
  },
  {
   "cell_type": "code",
   "metadata": {
    "id": "D6nU1fS0LrSF",
    "ExecuteTime": {
     "end_time": "2024-05-27T21:52:17.415185Z",
     "start_time": "2024-05-27T21:52:17.410420Z"
    }
   },
   "source": "np.array([[1, 2, 3], [4, 5, 6]]).shape",
   "outputs": [
    {
     "data": {
      "text/plain": [
       "(2, 3)"
      ]
     },
     "execution_count": 77,
     "metadata": {},
     "output_type": "execute_result"
    }
   ],
   "execution_count": 77
  },
  {
   "cell_type": "markdown",
   "metadata": {
    "id": "9lTLJGRrLrSG"
   },
   "source": [
    "26. Напишите программу `NumPy` для определения количества строк и столбцов заданной матрицы."
   ]
  },
  {
   "cell_type": "code",
   "metadata": {
    "id": "n8wIMOJOLrSG",
    "ExecuteTime": {
     "end_time": "2024-05-27T21:54:38.733625Z",
     "start_time": "2024-05-27T21:54:38.729107Z"
    }
   },
   "source": "np.eye(3)",
   "outputs": [
    {
     "data": {
      "text/plain": [
       "array([[1., 0., 0.],\n",
       "       [0., 1., 0.],\n",
       "       [0., 0., 1.]])"
      ]
     },
     "execution_count": 79,
     "metadata": {},
     "output_type": "execute_result"
    }
   ],
   "execution_count": 79
  },
  {
   "cell_type": "markdown",
   "metadata": {
    "id": "bnehbNwGLrSG"
   },
   "source": [
    "27. Напишите программу `NumPy` для создания единичной матрицы `3x3`, т.е. диагональные элементы равны `1`, остальные равны `0`."
   ]
  },
  {
   "cell_type": "code",
   "metadata": {
    "id": "rMSl-idfLrSG",
    "ExecuteTime": {
     "end_time": "2024-05-27T21:58:50.548284Z",
     "start_time": "2024-05-27T21:58:50.544219Z"
    }
   },
   "source": [
    "full_matrix = np.full((10, 10), 0)\n",
    "\n",
    "# Шаг 2: Создание маски для элементов на границах\n",
    "border_mask = np.ones((10, 10), dtype=bool)\n",
    "\n",
    "# Удаление внутренних элементов из маски\n",
    "border_mask[1:-1, 1:-1] = False\n",
    "full_matrix[border_mask] = 1\n",
    "print(full_matrix)\n"
   ],
   "outputs": [
    {
     "name": "stdout",
     "output_type": "stream",
     "text": [
      "[[1 1 1 1 1 1 1 1 1 1]\n",
      " [1 0 0 0 0 0 0 0 0 1]\n",
      " [1 0 0 0 0 0 0 0 0 1]\n",
      " [1 0 0 0 0 0 0 0 0 1]\n",
      " [1 0 0 0 0 0 0 0 0 1]\n",
      " [1 0 0 0 0 0 0 0 0 1]\n",
      " [1 0 0 0 0 0 0 0 0 1]\n",
      " [1 0 0 0 0 0 0 0 0 1]\n",
      " [1 0 0 0 0 0 0 0 0 1]\n",
      " [1 1 1 1 1 1 1 1 1 1]]\n"
     ]
    }
   ],
   "execution_count": 84
  },
  {
   "cell_type": "markdown",
   "metadata": {
    "id": "zYrLgUf3LrSG"
   },
   "source": [
    "28. Напишите программу `NumPy` для создания матрицы `10х10`, в которой элементы на границах будут равны `1`, а внутри `0`."
   ]
  },
  {
   "cell_type": "code",
   "metadata": {
    "id": "y6MvsUGLLrSG",
    "ExecuteTime": {
     "end_time": "2024-05-27T21:59:23.176064Z",
     "start_time": "2024-05-27T21:59:23.172083Z"
    }
   },
   "source": "np.diag(np.arange(1, 6))",
   "outputs": [
    {
     "data": {
      "text/plain": [
       "array([[1, 0, 0, 0, 0],\n",
       "       [0, 2, 0, 0, 0],\n",
       "       [0, 0, 3, 0, 0],\n",
       "       [0, 0, 0, 4, 0],\n",
       "       [0, 0, 0, 0, 5]])"
      ]
     },
     "execution_count": 86,
     "metadata": {},
     "output_type": "execute_result"
    }
   ],
   "execution_count": 86
  },
  {
   "cell_type": "markdown",
   "metadata": {
    "id": "pf4kNg6DLrSG"
   },
   "source": [
    "29. Напишите программу `NumPy` для создания нулевой матрицы `5x5` с элементами на главной диагонали, равными `1, 2, 3, 4, 5`."
   ]
  },
  {
   "cell_type": "code",
   "execution_count": null,
   "metadata": {
    "id": "qWfvY13WLrSH"
   },
   "outputs": [],
   "source": "np.diag(np.arange(1, 6))"
  },
  {
   "cell_type": "markdown",
   "metadata": {
    "id": "II-Wb7mmLrSH"
   },
   "source": [
    "30. Напишите программу `NumPy` для создания матрицы `4x4`, в которой `0` и `1` расположены в шахматном порядке, с нулями на главной диагонали."
   ]
  },
  {
   "cell_type": "code",
   "metadata": {
    "id": "MbTKLywdLrSH",
    "ExecuteTime": {
     "end_time": "2024-05-28T07:23:14.459870Z",
     "start_time": "2024-05-28T07:23:14.455818Z"
    }
   },
   "source": [
    "matrix = np.zeros((4, 4))\n",
    "matrix[::2, 1::2] = 1\n",
    "matrix[1::2, ::2] = 1\n",
    "matrix"
   ],
   "outputs": [
    {
     "data": {
      "text/plain": [
       "array([[0., 1., 0., 1.],\n",
       "       [1., 0., 1., 0.],\n",
       "       [0., 1., 0., 1.],\n",
       "       [1., 0., 1., 0.]])"
      ]
     },
     "execution_count": 122,
     "metadata": {},
     "output_type": "execute_result"
    }
   ],
   "execution_count": 122
  },
  {
   "cell_type": "markdown",
   "metadata": {
    "id": "E5UUF-4QLrSH"
   },
   "source": [
    "31. Напишите программу `NumPy` для создания массива `3x3x3`, заполненного произвольными значениями."
   ]
  },
  {
   "cell_type": "code",
   "execution_count": null,
   "metadata": {
    "id": "X_inamETLrSH"
   },
   "outputs": [],
   "source": [
    "matrix = np.random.random((3, 3, 3))\n",
    "matrix"
   ]
  },
  {
   "cell_type": "markdown",
   "metadata": {
    "id": "jzXYccaTLrSH"
   },
   "source": [
    "32. Напишите программу `NumPy` для вычисления суммы всех элементов, суммы каждого столбца и суммы каждой строки заданного массива."
   ]
  },
  {
   "cell_type": "code",
   "metadata": {
    "id": "3VMn3RvULrSH",
    "ExecuteTime": {
     "end_time": "2024-05-28T07:21:51.570916Z",
     "start_time": "2024-05-28T07:21:51.567164Z"
    }
   },
   "source": [
    "matrix = np.array([[1, 1, 1],\n",
    "                   [2, 2, 2],\n",
    "                   [3, 3, 3]])\n",
    "\n",
    "print(np.sum(matrix))\n",
    "print(np.sum(matrix, axis=0))\n",
    "print(np.sum(matrix, axis=1))"
   ],
   "outputs": [
    {
     "name": "stdout",
     "output_type": "stream",
     "text": [
      "18\n",
      "[6 6 6]\n",
      "[3 6 9]\n"
     ]
    }
   ],
   "execution_count": 120
  },
  {
   "cell_type": "markdown",
   "metadata": {
    "id": "oPmrSd3DLrSH"
   },
   "source": [
    "33. Напишите программу `NumPy` для вычисления скалярного произведения двух заданных векторов."
   ]
  },
  {
   "cell_type": "code",
   "metadata": {
    "id": "wzcn1TCpLrSI",
    "ExecuteTime": {
     "end_time": "2024-05-28T07:21:45.171063Z",
     "start_time": "2024-05-28T07:21:45.166063Z"
    }
   },
   "source": [
    "vector1 = np.array((1, 2, 3))\n",
    "vector2 = np.array((5, 5, 5))\n",
    "np.dot(vector1, vector2)"
   ],
   "outputs": [
    {
     "data": {
      "text/plain": [
       "30"
      ]
     },
     "execution_count": 119,
     "metadata": {},
     "output_type": "execute_result"
    }
   ],
   "execution_count": 119
  },
  {
   "cell_type": "markdown",
   "metadata": {
    "id": "UmNYdRvMLrSI"
   },
   "source": [
    "34. Напишите программу `NumPy` для добавления вектора в каждую строку заданной матрицы."
   ]
  },
  {
   "cell_type": "code",
   "metadata": {
    "id": "Dt44t4mWLrSI",
    "ExecuteTime": {
     "end_time": "2024-05-28T07:21:30.539419Z",
     "start_time": "2024-05-28T07:21:30.534734Z"
    }
   },
   "source": [
    "matrix = np.array([[1, 1, 1],\n",
    "                   [2, 2, 2],\n",
    "                   [3, 3, 3]])\n",
    "\n",
    "vector = np.array((5, 5, 5))\n",
    "\n",
    "matrix + vector"
   ],
   "outputs": [
    {
     "data": {
      "text/plain": [
       "array([[6, 6, 6],\n",
       "       [7, 7, 7],\n",
       "       [8, 8, 8]])"
      ]
     },
     "execution_count": 118,
     "metadata": {},
     "output_type": "execute_result"
    }
   ],
   "execution_count": 118
  },
  {
   "cell_type": "markdown",
   "metadata": {
    "id": "5o8ixWnqLrSI"
   },
   "source": [
    "35. Напишите программу `NumPy` для сохранения данного массива в двоичный файл."
   ]
  },
  {
   "cell_type": "code",
   "metadata": {
    "id": "1f9oSs4CLrSI",
    "ExecuteTime": {
     "end_time": "2024-05-28T07:21:19.577822Z",
     "start_time": "2024-05-28T07:21:19.575172Z"
    }
   },
   "source": [
    "arr = np.array([[1, 2, 3], [4, 5, 6]])\n",
    "np.save('array.npy', arr)"
   ],
   "outputs": [],
   "execution_count": 117
  },
  {
   "cell_type": "markdown",
   "metadata": {
    "id": "J8XHGVX9LrSI"
   },
   "source": [
    "36. Напишите программу `NumPy` для сохранения двух заданных массивов в один файл в сжатом формате (формат `.npz`) и загрузите его."
   ]
  },
  {
   "cell_type": "code",
   "metadata": {
    "id": "6v6p-S5lLrSI",
    "ExecuteTime": {
     "end_time": "2024-05-28T07:21:07.778308Z",
     "start_time": "2024-05-28T07:21:07.772231Z"
    }
   },
   "source": [
    "array1 = np.array([[1, 2, 3], [4, 5, 6]])\n",
    "array2 = np.array([[7, 8, 9], [10, 11, 12]])\n",
    "\n",
    "np.savez_compressed('arrays.npz', array1=array1, array2=array2)\n",
    "\n",
    "loaded_data = np.load('arrays.npz')\n",
    "loaded_array1 = loaded_data['array1']\n",
    "loaded_array2 = loaded_data['array2']\n",
    "print(loaded_array1)\n",
    "print(loaded_array2)"
   ],
   "outputs": [
    {
     "name": "stdout",
     "output_type": "stream",
     "text": [
      "[[1 2 3]\n",
      " [4 5 6]]\n",
      "[[ 7  8  9]\n",
      " [10 11 12]]\n"
     ]
    }
   ],
   "execution_count": 116
  },
  {
   "cell_type": "markdown",
   "metadata": {
    "id": "_GiCUDdXLrSI"
   },
   "source": [
    "37. Напишите программу `NumPy` для сохранения данного массива в текстовый файл и его загрузки."
   ]
  },
  {
   "cell_type": "code",
   "metadata": {
    "id": "KhHuJ7kkLrSI",
    "ExecuteTime": {
     "end_time": "2024-05-28T07:20:32.823454Z",
     "start_time": "2024-05-28T07:20:32.818017Z"
    }
   },
   "source": [
    "arr = np.array([[1, 2, 3], [4, 5, 6], [7, 8, 9]])\n",
    "np.savetxt('array.txt', arr)\n",
    "loaded_arr = np.loadtxt('array.txt')\n",
    "loaded_arr"
   ],
   "outputs": [
    {
     "data": {
      "text/plain": [
       "array([[1., 2., 3.],\n",
       "       [4., 5., 6.],\n",
       "       [7., 8., 9.]])"
      ]
     },
     "execution_count": 114,
     "metadata": {},
     "output_type": "execute_result"
    }
   ],
   "execution_count": 114
  },
  {
   "cell_type": "markdown",
   "metadata": {
    "id": "np8z835ELrSJ"
   },
   "source": [
    "38. Напишите программу `NumPy` для преобразования заданного массива в байты и загрузки его как массива."
   ]
  },
  {
   "cell_type": "code",
   "metadata": {
    "id": "Q3E0YwbTLrSJ",
    "ExecuteTime": {
     "end_time": "2024-05-28T07:20:13.859844Z",
     "start_time": "2024-05-28T07:20:13.856480Z"
    }
   },
   "source": [
    "arr = np.arange(5)\n",
    "arr_bytes = arr.tobytes()\n",
    "\n",
    "arr_loaded = np.frombuffer(arr_bytes, dtype=arr.dtype)\n",
    "\n",
    "print(arr)\n",
    "print(arr_bytes)\n",
    "print(arr_loaded)"
   ],
   "outputs": [
    {
     "name": "stdout",
     "output_type": "stream",
     "text": [
      "[0 1 2 3 4]\n",
      "b'\\x00\\x00\\x00\\x00\\x01\\x00\\x00\\x00\\x02\\x00\\x00\\x00\\x03\\x00\\x00\\x00\\x04\\x00\\x00\\x00'\n",
      "[0 1 2 3 4]\n"
     ]
    }
   ],
   "execution_count": 112
  },
  {
   "cell_type": "markdown",
   "metadata": {
    "id": "ijvUXguELrSJ"
   },
   "source": [
    "39. Напишите программу `NumPy` для преобразования данного списка в массив, а затем снова преобразуйте его в список. Проверьте, равны ли исходный список и окончательный список."
   ]
  },
  {
   "cell_type": "code",
   "execution_count": null,
   "metadata": {
    "id": "QiG8P3o5LrSJ"
   },
   "outputs": [],
   "source": [
    "my_list = [1, 2, 3, 4, 5]\n",
    "list2array = np.array(my_list)\n",
    "arr2list = list2array.tolist()\n",
    "\n",
    "print(my_list == arr2list)"
   ]
  },
  {
   "cell_type": "markdown",
   "metadata": {
    "id": "7qT1tOj3LrSJ"
   },
   "source": [
    "40. Напишите программу `NumPy` для вычисления координат `x` и `y` точек на синусоиде и построения точек с помощью `matplotlib`."
   ]
  },
  {
   "cell_type": "code",
   "metadata": {
    "id": "r3qd5t2OLrSJ",
    "ExecuteTime": {
     "end_time": "2024-05-28T07:22:32.390097Z",
     "start_time": "2024-05-28T07:22:31.221036Z"
    }
   },
   "source": [
    "import matplotlib.pyplot as plt\n",
    "x = np.linspace(0, 5 * np.pi, 250)\n",
    "y = np.sin(x)\n",
    "plt.plot(x, y, 'o')\n",
    "plt.show()"
   ],
   "outputs": [
    {
     "data": {
      "text/plain": [
       "<Figure size 640x480 with 1 Axes>"
      ],
      "image/png": "[encoded data removed]"
     },
     "metadata": {},
     "output_type": "display_data"
    }
   ],
   "execution_count": 121
  },
  {
   "cell_type": "markdown",
   "metadata": {
    "id": "xGqlTWbxLrSJ"
   },
   "source": [
    "41. Напишите программу `NumPy` для преобразования dtypes `NumPy` в собственные типы python."
   ]
  },
  {
   "cell_type": "code",
   "metadata": {
    "id": "HovBggDvLrSJ",
    "ExecuteTime": {
     "end_time": "2024-05-28T07:19:23.834410Z",
     "start_time": "2024-05-28T07:19:23.830590Z"
    }
   },
   "source": [
    "arr = np.array([1, 2, 3], dtype=np.int64)\n",
    "arr_list = arr.tolist()\n",
    "print(arr, \" \", type(arr))\n",
    "print(arr_list, \" \", type(arr_list))"
   ],
   "outputs": [
    {
     "name": "stdout",
     "output_type": "stream",
     "text": [
      "[1 2 3]   <class 'numpy.ndarray'>\n",
      "[1, 2, 3]   <class 'list'>\n"
     ]
    }
   ],
   "execution_count": 111
  },
  {
   "cell_type": "markdown",
   "metadata": {
    "id": "r9Z4ejnQLrSK"
   },
   "source": [
    "42. Напишите программу `NumPy` для суммирования элементов матрицы. Если элемент в матрице равен `0`, мы не будем добавлять элемент ниже этого элемента."
   ]
  },
  {
   "cell_type": "code",
   "metadata": {
    "id": "ZFTj7eG_LrSK",
    "colab": {
     "base_uri": "https://localhost:8080/"
    },
    "outputId": "1a342e27-b523-49e6-e59a-c9db57f856ee",
    "ExecuteTime": {
     "end_time": "2024-05-28T07:19:00.756946Z",
     "start_time": "2024-05-28T07:19:00.750569Z"
    }
   },
   "source": [
    "matrix = np.array([[1, 0, 0], [4, 5, 6], [7, 8, 9]])\n",
    "print(matrix)\n",
    "cumulative_sums = np.cumsum(matrix, axis=0)\n",
    "print(cumulative_sums)\n",
    "first_zero_indices = np.argmax(cumulative_sums == 0, axis=1)\n",
    "mask = np.zeros_like(matrix, dtype=bool)\n",
    "mask[np.arange(matrix.shape[0]), np.maximum(0, first_zero_indices)] = True\n",
    "result = np.sum(cumulative_sums * mask, axis=0)\n",
    "result"
   ],
   "outputs": [
    {
     "name": "stdout",
     "output_type": "stream",
     "text": [
      "[[1 0 0]\n",
      " [4 5 6]\n",
      " [7 8 9]]\n",
      "[[ 1  0  0]\n",
      " [ 5  5  6]\n",
      " [12 13 15]]\n"
     ]
    },
    {
     "data": {
      "text/plain": [
       "array([17,  0,  0])"
      ]
     },
     "execution_count": 110,
     "metadata": {},
     "output_type": "execute_result"
    }
   ],
   "execution_count": 110
  },
  {
   "cell_type": "markdown",
   "metadata": {
    "id": "wPKctbj0LrSK"
   },
   "source": [
    "43. Напишите программу `NumPy` для поиска недостающих (`NaN`) данных в заданном массиве."
   ]
  },
  {
   "cell_type": "code",
   "metadata": {
    "colab": {
     "base_uri": "https://localhost:8080/"
    },
    "id": "kOzpXne7LrSL",
    "outputId": "a2a70478-f5ee-4053-db13-846082dadae6",
    "ExecuteTime": {
     "end_time": "2024-05-28T07:14:13.742486Z",
     "start_time": "2024-05-28T07:14:13.738469Z"
    }
   },
   "source": [
    "import numpy as np\n",
    "a = np.array([1, 2, 3, np.nan, 4, 5, np.nan, 6, 7])\n",
    "np.isnan(a)"
   ],
   "outputs": [
    {
     "data": {
      "text/plain": [
       "array([False, False, False,  True, False, False,  True, False, False])"
      ]
     },
     "execution_count": 103,
     "metadata": {},
     "output_type": "execute_result"
    }
   ],
   "execution_count": 103
  },
  {
   "cell_type": "markdown",
   "metadata": {
    "id": "hjymTw8YLrSL"
   },
   "source": [
    "44. Напишите программу `NumPy`, чтобы проверить, равны ли два массива (поэлементно) или нет."
   ]
  },
  {
   "cell_type": "code",
   "metadata": {
    "id": "yOizNqKGLrSL",
    "ExecuteTime": {
     "end_time": "2024-05-28T07:13:41.289433Z",
     "start_time": "2024-05-28T07:13:41.285485Z"
    }
   },
   "source": [
    "arr1 = np.array([1, 2, 3])\n",
    "arr2 = np.array([1, 2, 5])\n",
    "arr3 = np.array([1, 2, 3])\n",
    "\n",
    "print(np.array_equal(arr1, arr2))\n",
    "print(np.array_equal(arr1, arr3))"
   ],
   "outputs": [
    {
     "name": "stdout",
     "output_type": "stream",
     "text": [
      "False\n",
      "True\n"
     ]
    }
   ],
   "execution_count": 102
  },
  {
   "cell_type": "markdown",
   "metadata": {
    "id": "dr1np9n_LrSL"
   },
   "source": [
    "45. Напишите программу `NumPy` для создания одномерного массива одно-, двух- и трехзначных чисел."
   ]
  },
  {
   "cell_type": "code",
   "metadata": {
    "id": "x2MlJxiaLrSL",
    "ExecuteTime": {
     "end_time": "2024-05-28T07:13:23.714897Z",
     "start_time": "2024-05-28T07:13:23.708956Z"
    }
   },
   "source": [
    "arr1 = np.arange(1, 10)\n",
    "arr2 = np.arange(10, 100)\n",
    "arr3 = np.arange(100, 1000)\n",
    "\n",
    "np.concatenate([arr1, arr2, arr3])"
   ],
   "outputs": [
    {
     "data": {
      "text/plain": [
       "array([  1,   2,   3,   4,   5,   6,   7,   8,   9,  10,  11,  12,  13,\n",
       "        14,  15,  16,  17,  18,  19,  20,  21,  22,  23,  24,  25,  26,\n",
       "        27,  28,  29,  30,  31,  32,  33,  34,  35,  36,  37,  38,  39,\n",
       "        40,  41,  42,  43,  44,  45,  46,  47,  48,  49,  50,  51,  52,\n",
       "        53,  54,  55,  56,  57,  58,  59,  60,  61,  62,  63,  64,  65,\n",
       "        66,  67,  68,  69,  70,  71,  72,  73,  74,  75,  76,  77,  78,\n",
       "        79,  80,  81,  82,  83,  84,  85,  86,  87,  88,  89,  90,  91,\n",
       "        92,  93,  94,  95,  96,  97,  98,  99, 100, 101, 102, 103, 104,\n",
       "       105, 106, 107, 108, 109, 110, 111, 112, 113, 114, 115, 116, 117,\n",
       "       118, 119, 120, 121, 122, 123, 124, 125, 126, 127, 128, 129, 130,\n",
       "       131, 132, 133, 134, 135, 136, 137, 138, 139, 140, 141, 142, 143,\n",
       "       144, 145, 146, 147, 148, 149, 150, 151, 152, 153, 154, 155, 156,\n",
       "       157, 158, 159, 160, 161, 162, 163, 164, 165, 166, 167, 168, 169,\n",
       "       170, 171, 172, 173, 174, 175, 176, 177, 178, 179, 180, 181, 182,\n",
       "       183, 184, 185, 186, 187, 188, 189, 190, 191, 192, 193, 194, 195,\n",
       "       196, 197, 198, 199, 200, 201, 202, 203, 204, 205, 206, 207, 208,\n",
       "       209, 210, 211, 212, 213, 214, 215, 216, 217, 218, 219, 220, 221,\n",
       "       222, 223, 224, 225, 226, 227, 228, 229, 230, 231, 232, 233, 234,\n",
       "       235, 236, 237, 238, 239, 240, 241, 242, 243, 244, 245, 246, 247,\n",
       "       248, 249, 250, 251, 252, 253, 254, 255, 256, 257, 258, 259, 260,\n",
       "       261, 262, 263, 264, 265, 266, 267, 268, 269, 270, 271, 272, 273,\n",
       "       274, 275, 276, 277, 278, 279, 280, 281, 282, 283, 284, 285, 286,\n",
       "       287, 288, 289, 290, 291, 292, 293, 294, 295, 296, 297, 298, 299,\n",
       "       300, 301, 302, 303, 304, 305, 306, 307, 308, 309, 310, 311, 312,\n",
       "       313, 314, 315, 316, 317, 318, 319, 320, 321, 322, 323, 324, 325,\n",
       "       326, 327, 328, 329, 330, 331, 332, 333, 334, 335, 336, 337, 338,\n",
       "       339, 340, 341, 342, 343, 344, 345, 346, 347, 348, 349, 350, 351,\n",
       "       352, 353, 354, 355, 356, 357, 358, 359, 360, 361, 362, 363, 364,\n",
       "       365, 366, 367, 368, 369, 370, 371, 372, 373, 374, 375, 376, 377,\n",
       "       378, 379, 380, 381, 382, 383, 384, 385, 386, 387, 388, 389, 390,\n",
       "       391, 392, 393, 394, 395, 396, 397, 398, 399, 400, 401, 402, 403,\n",
       "       404, 405, 406, 407, 408, 409, 410, 411, 412, 413, 414, 415, 416,\n",
       "       417, 418, 419, 420, 421, 422, 423, 424, 425, 426, 427, 428, 429,\n",
       "       430, 431, 432, 433, 434, 435, 436, 437, 438, 439, 440, 441, 442,\n",
       "       443, 444, 445, 446, 447, 448, 449, 450, 451, 452, 453, 454, 455,\n",
       "       456, 457, 458, 459, 460, 461, 462, 463, 464, 465, 466, 467, 468,\n",
       "       469, 470, 471, 472, 473, 474, 475, 476, 477, 478, 479, 480, 481,\n",
       "       482, 483, 484, 485, 486, 487, 488, 489, 490, 491, 492, 493, 494,\n",
       "       495, 496, 497, 498, 499, 500, 501, 502, 503, 504, 505, 506, 507,\n",
       "       508, 509, 510, 511, 512, 513, 514, 515, 516, 517, 518, 519, 520,\n",
       "       521, 522, 523, 524, 525, 526, 527, 528, 529, 530, 531, 532, 533,\n",
       "       534, 535, 536, 537, 538, 539, 540, 541, 542, 543, 544, 545, 546,\n",
       "       547, 548, 549, 550, 551, 552, 553, 554, 555, 556, 557, 558, 559,\n",
       "       560, 561, 562, 563, 564, 565, 566, 567, 568, 569, 570, 571, 572,\n",
       "       573, 574, 575, 576, 577, 578, 579, 580, 581, 582, 583, 584, 585,\n",
       "       586, 587, 588, 589, 590, 591, 592, 593, 594, 595, 596, 597, 598,\n",
       "       599, 600, 601, 602, 603, 604, 605, 606, 607, 608, 609, 610, 611,\n",
       "       612, 613, 614, 615, 616, 617, 618, 619, 620, 621, 622, 623, 624,\n",
       "       625, 626, 627, 628, 629, 630, 631, 632, 633, 634, 635, 636, 637,\n",
       "       638, 639, 640, 641, 642, 643, 644, 645, 646, 647, 648, 649, 650,\n",
       "       651, 652, 653, 654, 655, 656, 657, 658, 659, 660, 661, 662, 663,\n",
       "       664, 665, 666, 667, 668, 669, 670, 671, 672, 673, 674, 675, 676,\n",
       "       677, 678, 679, 680, 681, 682, 683, 684, 685, 686, 687, 688, 689,\n",
       "       690, 691, 692, 693, 694, 695, 696, 697, 698, 699, 700, 701, 702,\n",
       "       703, 704, 705, 706, 707, 708, 709, 710, 711, 712, 713, 714, 715,\n",
       "       716, 717, 718, 719, 720, 721, 722, 723, 724, 725, 726, 727, 728,\n",
       "       729, 730, 731, 732, 733, 734, 735, 736, 737, 738, 739, 740, 741,\n",
       "       742, 743, 744, 745, 746, 747, 748, 749, 750, 751, 752, 753, 754,\n",
       "       755, 756, 757, 758, 759, 760, 761, 762, 763, 764, 765, 766, 767,\n",
       "       768, 769, 770, 771, 772, 773, 774, 775, 776, 777, 778, 779, 780,\n",
       "       781, 782, 783, 784, 785, 786, 787, 788, 789, 790, 791, 792, 793,\n",
       "       794, 795, 796, 797, 798, 799, 800, 801, 802, 803, 804, 805, 806,\n",
       "       807, 808, 809, 810, 811, 812, 813, 814, 815, 816, 817, 818, 819,\n",
       "       820, 821, 822, 823, 824, 825, 826, 827, 828, 829, 830, 831, 832,\n",
       "       833, 834, 835, 836, 837, 838, 839, 840, 841, 842, 843, 844, 845,\n",
       "       846, 847, 848, 849, 850, 851, 852, 853, 854, 855, 856, 857, 858,\n",
       "       859, 860, 861, 862, 863, 864, 865, 866, 867, 868, 869, 870, 871,\n",
       "       872, 873, 874, 875, 876, 877, 878, 879, 880, 881, 882, 883, 884,\n",
       "       885, 886, 887, 888, 889, 890, 891, 892, 893, 894, 895, 896, 897,\n",
       "       898, 899, 900, 901, 902, 903, 904, 905, 906, 907, 908, 909, 910,\n",
       "       911, 912, 913, 914, 915, 916, 917, 918, 919, 920, 921, 922, 923,\n",
       "       924, 925, 926, 927, 928, 929, 930, 931, 932, 933, 934, 935, 936,\n",
       "       937, 938, 939, 940, 941, 942, 943, 944, 945, 946, 947, 948, 949,\n",
       "       950, 951, 952, 953, 954, 955, 956, 957, 958, 959, 960, 961, 962,\n",
       "       963, 964, 965, 966, 967, 968, 969, 970, 971, 972, 973, 974, 975,\n",
       "       976, 977, 978, 979, 980, 981, 982, 983, 984, 985, 986, 987, 988,\n",
       "       989, 990, 991, 992, 993, 994, 995, 996, 997, 998, 999])"
      ]
     },
     "execution_count": 101,
     "metadata": {},
     "output_type": "execute_result"
    }
   ],
   "execution_count": 101
  },
  {
   "cell_type": "markdown",
   "metadata": {
    "id": "-cJvQtdFLrSM"
   },
   "source": [
    "46. Напишите программу `NumPy` для создания двумерного массива указанного формата."
   ]
  },
  {
   "cell_type": "code",
   "metadata": {
    "id": "M0BVY0aoLrSM",
    "ExecuteTime": {
     "end_time": "2024-05-28T07:13:06.593122Z",
     "start_time": "2024-05-28T07:13:06.589252Z"
    }
   },
   "source": "np.ones((2, 2), dtype=str)",
   "outputs": [
    {
     "data": {
      "text/plain": [
       "array([['1', '1'],\n",
       "       ['1', '1']], dtype='<U1')"
      ]
     },
     "execution_count": 100,
     "metadata": {},
     "output_type": "execute_result"
    }
   ],
   "execution_count": 100
  },
  {
   "cell_type": "markdown",
   "metadata": {
    "id": "yV7JDimtLrSM"
   },
   "source": [
    "47. Напишите программу `NumPy` для создания одномерного массива из сорока псевдослучайно сгенерированных значений. Выберите случайные числа из равномерного распределения между 0 и 1."
   ]
  },
  {
   "cell_type": "code",
   "metadata": {
    "id": "2wpihfx3LrSM",
    "ExecuteTime": {
     "end_time": "2024-05-28T07:23:55.091054Z",
     "start_time": "2024-05-28T07:23:55.087049Z"
    }
   },
   "source": "np.random.rand(40)",
   "outputs": [
    {
     "data": {
      "text/plain": [
       "array([0.7092704 , 0.62471001, 0.04836544, 0.9192166 , 0.99156774,\n",
       "       0.07648322, 0.51840736, 0.23817923, 0.79856492, 0.57470916,\n",
       "       0.4908109 , 0.85469097, 0.24552759, 0.81717907, 0.56655371,\n",
       "       0.35070082, 0.53008186, 0.37414891, 0.3602538 , 0.99667377,\n",
       "       0.51119477, 0.58956202, 0.41827104, 0.17071343, 0.44855768,\n",
       "       0.99258641, 0.7906374 , 0.37032796, 0.95240505, 0.2107006 ,\n",
       "       0.06810221, 0.07049576, 0.55895181, 0.6975358 , 0.6064853 ,\n",
       "       0.69045415, 0.57104748, 0.9661005 , 0.86759135, 0.40081581])"
      ]
     },
     "execution_count": 123,
     "metadata": {},
     "output_type": "execute_result"
    }
   ],
   "execution_count": 123
  },
  {
   "cell_type": "markdown",
   "metadata": {
    "id": "3OZy4B-rLrSM"
   },
   "source": [
    "48. Напишите программу `NumPy` для создания двумерного массива случайных чисел формы `(8,5)`. Выберите случайные числа из нормального распределения `(200,7)`."
   ]
  },
  {
   "cell_type": "code",
   "metadata": {
    "id": "-g1JGwLTLrSN",
    "ExecuteTime": {
     "end_time": "2024-05-28T07:12:21.111455Z",
     "start_time": "2024-05-28T07:12:21.106454Z"
    }
   },
   "source": "np.random.normal(200, 7, (8, 5))",
   "outputs": [
    {
     "data": {
      "text/plain": [
       "array([[202.34123392, 203.46578454, 201.51767137, 198.73099986,\n",
       "        198.5968674 ],\n",
       "       [202.80108163, 211.91392757, 199.5082209 , 200.38477592,\n",
       "        189.93802553],\n",
       "       [197.35358247, 195.4230989 , 190.87521713, 193.35401711,\n",
       "        194.60915092],\n",
       "       [191.85471761, 192.26475286, 199.28277094, 199.97399948,\n",
       "        211.03484159],\n",
       "       [206.33330818, 197.60921512, 198.22823172, 200.97158413,\n",
       "        202.97600585],\n",
       "       [197.93995762, 201.88656059, 198.44727892, 204.20183816,\n",
       "        200.44205947],\n",
       "       [191.45385496, 208.3013626 , 195.86528094, 211.38912246,\n",
       "        194.9182625 ],\n",
       "       [203.23422761, 208.6447908 , 204.94977063, 196.69156831,\n",
       "        187.00206783]])"
      ]
     },
     "execution_count": 98,
     "metadata": {},
     "output_type": "execute_result"
    }
   ],
   "execution_count": 98
  },
  {
   "cell_type": "markdown",
   "metadata": {
    "id": "vO8x192LLrSN"
   },
   "source": [
    "49. Напишите программу `NumPy` для генерации униформы, nоднородная случайная выборка из заданного одномерного массива с замещением и без замещения."
   ]
  },
  {
   "cell_type": "code",
   "metadata": {
    "id": "P2Un6LSpLrSN",
    "ExecuteTime": {
     "end_time": "2024-05-28T07:12:01.676721Z",
     "start_time": "2024-05-28T07:12:01.673119Z"
    }
   },
   "source": [
    "arr = np.array([1, 2, 3, 4, 5, 6, 7, 8, 9])\n",
    "\n",
    "replacement = np.random.choice(arr, size=5, replace=True)\n",
    "print(replacement)\n",
    "\n",
    "no_replacement = np.random.choice(arr, size=5, replace=False)\n",
    "print(no_replacement)"
   ],
   "outputs": [
    {
     "name": "stdout",
     "output_type": "stream",
     "text": [
      "[8 9 3 5 4]\n",
      "[2 5 1 9 6]\n"
     ]
    }
   ],
   "execution_count": 97
  },
  {
   "cell_type": "markdown",
   "metadata": {
    "id": "agH4pKwfLrSN"
   },
   "source": [
    "50. Напишите программу `NumPy` для создания массива `4x4` со случайными значениями, теперь создайте новый массив из указанного массива, поменяв местами первую и последнюю строки."
   ]
  },
  {
   "cell_type": "code",
   "metadata": {
    "id": "3d4ToZfSLrSN",
    "ExecuteTime": {
     "end_time": "2024-05-28T07:11:52.862538Z",
     "start_time": "2024-05-28T07:11:52.858416Z"
    }
   },
   "source": [
    "arr = np.random.rand(4, 4)\n",
    "print(arr, \"\\n\")\n",
    "\n",
    "arr[0], arr[-1] = arr[-1], arr[0].copy()\n",
    "print(arr)"
   ],
   "outputs": [
    {
     "name": "stdout",
     "output_type": "stream",
     "text": [
      "[[0.57750217 0.50531823 0.38632279 0.69412511]\n",
      " [0.38590263 0.16477717 0.25476962 0.355362  ]\n",
      " [0.35200338 0.86628379 0.01240888 0.6347099 ]\n",
      " [0.441888   0.59163665 0.9541316  0.51112549]] \n",
      "\n",
      "[[0.441888   0.59163665 0.9541316  0.51112549]\n",
      " [0.38590263 0.16477717 0.25476962 0.355362  ]\n",
      " [0.35200338 0.86628379 0.01240888 0.6347099 ]\n",
      " [0.57750217 0.50531823 0.38632279 0.69412511]]\n"
     ]
    }
   ],
   "execution_count": 96
  },
  {
   "cell_type": "markdown",
   "metadata": {
    "id": "Sv5wQCwFLrSN"
   },
   "source": [
    "51. Напишите программу `NumPy` для создания нового массива заданной формы `(5,6)` и типа, заполненного нулями."
   ]
  },
  {
   "cell_type": "code",
   "metadata": {
    "id": "sclBqaJNLrSN",
    "ExecuteTime": {
     "end_time": "2024-05-28T07:11:38.546683Z",
     "start_time": "2024-05-28T07:11:38.543036Z"
    }
   },
   "source": "np.zeros((5, 6))",
   "outputs": [
    {
     "data": {
      "text/plain": [
       "array([[0., 0., 0., 0., 0., 0.],\n",
       "       [0., 0., 0., 0., 0., 0.],\n",
       "       [0., 0., 0., 0., 0., 0.],\n",
       "       [0., 0., 0., 0., 0., 0.],\n",
       "       [0., 0., 0., 0., 0., 0.]])"
      ]
     },
     "execution_count": 95,
     "metadata": {},
     "output_type": "execute_result"
    }
   ],
   "execution_count": 95
  },
  {
   "cell_type": "markdown",
   "metadata": {
    "id": "5zaUnIkdLrSN"
   },
   "source": [
    "52. Напишите программу `NumPy` для сортировки заданного массива по строкам и столбцам в порядке возрастания."
   ]
  },
  {
   "cell_type": "code",
   "metadata": {
    "id": "cZwKee6LLrSO",
    "ExecuteTime": {
     "end_time": "2024-05-28T07:10:39.957301Z",
     "start_time": "2024-05-28T07:10:39.953147Z"
    }
   },
   "source": [
    "arr = np.array([[9, 8, 7],\n",
    "                [6, 5, 4],\n",
    "                [3, 2, 1]])\n",
    "\n",
    "arr = np.sort(arr, axis=1)\n",
    "print(arr, \"\\n\")\n",
    "\n",
    "\n",
    "arr = np.sort(arr, axis=0) \n",
    "print(arr)"
   ],
   "outputs": [
    {
     "name": "stdout",
     "output_type": "stream",
     "text": [
      "[[7 8 9]\n",
      " [4 5 6]\n",
      " [1 2 3]] \n",
      "\n",
      "[[1 2 3]\n",
      " [4 5 6]\n",
      " [7 8 9]]\n"
     ]
    }
   ],
   "execution_count": 94
  },
  {
   "cell_type": "markdown",
   "metadata": {
    "id": "WQVFnJWRLrSO"
   },
   "source": [
    "53. Напишите программу `NumPy` для извлечения из заданного массива всех чисел, которые меньше и больше указанного числа."
   ]
  },
  {
   "cell_type": "code",
   "execution_count": null,
   "metadata": {
    "id": "CmBvFEFvLrSO"
   },
   "outputs": [],
   "source": [
    "arr = np.array([1, 5, 10, 15, 20])\n",
    "num = 10\n",
    "\n",
    "less = arr[arr < num]\n",
    "more = arr[arr > num]\n",
    "\n",
    "print(\"Меньше: \", less)\n",
    "print(\"Больше \", more)"
   ]
  },
  {
   "cell_type": "markdown",
   "metadata": {
    "id": "cpK4uZkRLrSO"
   },
   "source": [
    "54. Напишите программу `NumPy` для замены всех чисел в заданном массиве, которые равны, меньше и больше заданному числу."
   ]
  },
  {
   "cell_type": "code",
   "metadata": {
    "id": "oLlFnYrdLrSO",
    "ExecuteTime": {
     "end_time": "2024-05-28T07:09:55.679931Z",
     "start_time": "2024-05-28T07:09:55.675915Z"
    }
   },
   "source": [
    "arr = np.array([1, 2, 3, 4, 5])\n",
    "num = 3\n",
    "arr[arr == num] = 0\n",
    "arr[arr < num] = -1\n",
    "arr[arr > num] = 1"
   ],
   "outputs": [
    {
     "name": "stdout",
     "output_type": "stream",
     "text": [
      "Меньше:  [1 5]\n",
      "Больше  [15 20]\n"
     ]
    }
   ],
   "execution_count": 93
  },
  {
   "cell_type": "markdown",
   "metadata": {
    "id": "QGmaNuDXLrSO"
   },
   "source": [
    "55. Напишите программу `NumPy` для создания массива одинаковой формы и типа данных заданного массива."
   ]
  },
  {
   "cell_type": "code",
   "execution_count": null,
   "metadata": {
    "id": "xcDRGlUWLrSO"
   },
   "outputs": [],
   "source": [
    "arr = np.array([[1, 2, 3], [4, 5, 6]])\n",
    "new_arr = np.zeros_like(arr)\n",
    "print(arr)\n",
    "print(new_arr)"
   ]
  },
  {
   "cell_type": "markdown",
   "metadata": {
    "id": "gQUrTJ2HLrSO"
   },
   "source": [
    "56. Напишите программу `NumPy` для создания трехмерного массива формы `(3,5,4)` и установки переменной."
   ]
  },
  {
   "cell_type": "code",
   "metadata": {
    "id": "MBRIfUrvLrSO",
    "ExecuteTime": {
     "end_time": "2024-05-28T07:09:09.243631Z",
     "start_time": "2024-05-28T07:09:09.239942Z"
    }
   },
   "source": "np.full((3, 5, 4), 5)",
   "outputs": [
    {
     "data": {
      "text/plain": [
       "array([[[5, 5, 5, 5],\n",
       "        [5, 5, 5, 5],\n",
       "        [5, 5, 5, 5],\n",
       "        [5, 5, 5, 5],\n",
       "        [5, 5, 5, 5]],\n",
       "\n",
       "       [[5, 5, 5, 5],\n",
       "        [5, 5, 5, 5],\n",
       "        [5, 5, 5, 5],\n",
       "        [5, 5, 5, 5],\n",
       "        [5, 5, 5, 5]],\n",
       "\n",
       "       [[5, 5, 5, 5],\n",
       "        [5, 5, 5, 5],\n",
       "        [5, 5, 5, 5],\n",
       "        [5, 5, 5, 5],\n",
       "        [5, 5, 5, 5]]])"
      ]
     },
     "execution_count": 92,
     "metadata": {},
     "output_type": "execute_result"
    }
   ],
   "execution_count": 92
  },
  {
   "cell_type": "markdown",
   "metadata": {
    "id": "EXlVaeA6LrSP"
   },
   "source": [
    "57. Напишите программу `NumPy` для создания массива `4x4`, теперь создайте новый массив из указанного массива, поменяв местами первый и последний, второй и третий столбцы."
   ]
  },
  {
   "cell_type": "code",
   "metadata": {
    "id": "NFZdJbP9LrSP",
    "ExecuteTime": {
     "end_time": "2024-05-28T07:08:11.925499Z",
     "start_time": "2024-05-28T07:08:11.920182Z"
    }
   },
   "source": [
    "arr = np.array([[1, 2, 3, 4],\n",
    "                [5, 6, 7, 8],\n",
    "                [9, 10, 11, 12],\n",
    "                [13, 14, 15, 16]])\n",
    "\n",
    "new_arr = arr.copy()\n",
    "new_arr[:, [0, -1]] = new_arr[:, [-1, 0]]\n",
    "new_arr[:, [1, 2]] = new_arr[:, [2, 1]]\n",
    "new_arr"
   ],
   "outputs": [
    {
     "data": {
      "text/plain": [
       "array([[ 4,  3,  2,  1],\n",
       "       [ 8,  7,  6,  5],\n",
       "       [12, 11, 10,  9],\n",
       "       [16, 15, 14, 13]])"
      ]
     },
     "execution_count": 91,
     "metadata": {},
     "output_type": "execute_result"
    }
   ],
   "execution_count": 91
  },
  {
   "cell_type": "markdown",
   "metadata": {
    "id": "bEiyNTo_LrSP"
   },
   "source": [
    "58. Напишите программу `NumPy` для замены строк и столбцов заданного массива в обратном порядке."
   ]
  },
  {
   "cell_type": "code",
   "metadata": {
    "id": "510ZZG-kLrSP",
    "ExecuteTime": {
     "end_time": "2024-05-28T07:03:47.808538Z",
     "start_time": "2024-05-28T07:03:47.803834Z"
    }
   },
   "source": [
    "arr = np.array([[1, 2, 3],\n",
    "                [4, 5, 6],\n",
    "                [7, 8, 9]])\n",
    "print(np.flip(arr, axis=0))\n",
    "print(np.flip(arr, axis=1))"
   ],
   "outputs": [
    {
     "name": "stdout",
     "output_type": "stream",
     "text": [
      "[[7 8 9]\n",
      " [4 5 6]\n",
      " [1 2 3]]\n",
      "[[3 2 1]\n",
      " [6 5 4]\n",
      " [9 8 7]]\n"
     ]
    }
   ],
   "execution_count": 89
  },
  {
   "cell_type": "markdown",
   "metadata": {
    "id": "GCjWM7QhLrSP"
   },
   "source": [
    "59. Напишите программу `NumPy` для поэлементного умножения двух заданных массивов одинакового размера."
   ]
  },
  {
   "cell_type": "code",
   "metadata": {
    "id": "2JmisyWzLrSP",
    "ExecuteTime": {
     "end_time": "2024-05-28T07:00:49.898321Z",
     "start_time": "2024-05-28T07:00:49.882802Z"
    }
   },
   "source": "np.array([1, 2, 3]) * np.array([1, 2, 3])",
   "outputs": [
    {
     "data": {
      "text/plain": [
       "array([1, 4, 9])"
      ]
     },
     "execution_count": 88,
     "metadata": {},
     "output_type": "execute_result"
    }
   ],
   "execution_count": 88
  }
 ],
 "metadata": {
  "kernelspec": {
   "display_name": "venv",
   "language": "python",
   "name": "python3"
  },
  "language_info": {
   "name": "python",
   "version": "3.10.9 (main, Dec 19 2022, 17:35:49) [GCC 12.2.0]"
  },
  "orig_nbformat": 4,
  "vscode": {
   "interpreter": {
    "hash": "7be26e4ebda509dfbb13ab6a52ec64ebd2214f8c7086d07b65a11e04d307a817"
   }
  },
  "colab": {
   "provenance": []
  }
 },
 "nbformat": 4,
 "nbformat_minor": 0
}
