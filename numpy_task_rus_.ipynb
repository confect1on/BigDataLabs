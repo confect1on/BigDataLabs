{
 "cells": [
  {
   "cell_type": "markdown",
   "metadata": {
    "id": "kad65PaKLrR4"
   },
   "source": [
    "1. Напишите программу `NumPy`, чтобы получить версию `NumPy` и показать конфигурацию сборки `NumPy`."
   ]
  },
  {
   "cell_type": "code",
   "metadata": {
    "id": "Er1A02n9LrR7",
    "ExecuteTime": {
     "end_time": "2024-05-27T20:32:33.919653Z",
     "start_time": "2024-05-27T20:32:33.913874Z"
    }
   },
   "source": [
    "import numpy as np\n",
    "print(np.__version__)\n",
    "np.show_config()"
   ],
   "outputs": [
    {
     "name": "stdout",
     "output_type": "stream",
     "text": [
      "1.26.4\n",
      "Build Dependencies:\n",
      "  blas:\n",
      "    detection method: pkgconfig\n",
      "    found: true\n",
      "    include directory: /c/opt/64/include\n",
      "    lib directory: /c/opt/64/lib\n",
      "    name: openblas64\n",
      "    openblas configuration: USE_64BITINT=1 DYNAMIC_ARCH=1 DYNAMIC_OLDER= NO_CBLAS=\n",
      "      NO_LAPACK= NO_LAPACKE= NO_AFFINITY=1 USE_OPENMP= SKYLAKEX MAX_THREADS=2\n",
      "    pc file directory: C:/opt/64/lib/pkgconfig\n",
      "    version: 0.3.23.dev\n",
      "  lapack:\n",
      "    detection method: internal\n",
      "    found: true\n",
      "    include directory: unknown\n",
      "    lib directory: unknown\n",
      "    name: dep2270588361616\n",
      "    openblas configuration: unknown\n",
      "    pc file directory: unknown\n",
      "    version: 1.26.4\n",
      "Compilers:\n",
      "  c:\n",
      "    commands: cl\n",
      "    linker: link\n",
      "    name: msvc\n",
      "    version: 19.29.30153\n",
      "  c++:\n",
      "    commands: cl\n",
      "    linker: link\n",
      "    name: msvc\n",
      "    version: 19.29.30153\n",
      "  cython:\n",
      "    commands: cython\n",
      "    linker: cython\n",
      "    name: cython\n",
      "    version: 3.0.8\n",
      "Machine Information:\n",
      "  build:\n",
      "    cpu: x86_64\n",
      "    endian: little\n",
      "    family: x86_64\n",
      "    system: windows\n",
      "  host:\n",
      "    cpu: x86_64\n",
      "    endian: little\n",
      "    family: x86_64\n",
      "    system: windows\n",
      "Python Information:\n",
      "  path: C:\\Users\\runneradmin\\AppData\\Local\\Temp\\cibw-run-j442zwj6\\cp311-win_amd64\\build\\venv\\Scripts\\python.exe\n",
      "  version: '3.11'\n",
      "SIMD Extensions:\n",
      "  baseline:\n",
      "  - SSE\n",
      "  - SSE2\n",
      "  - SSE3\n",
      "  found:\n",
      "  - SSSE3\n",
      "  - SSE41\n",
      "  - POPCNT\n",
      "  - SSE42\n",
      "  - AVX\n",
      "  - F16C\n",
      "  - FMA3\n",
      "  - AVX2\n",
      "  not found:\n",
      "  - AVX512F\n",
      "  - AVX512CD\n",
      "  - AVX512_SKX\n",
      "  - AVX512_CLX\n",
      "  - AVX512_CNL\n",
      "  - AVX512_ICL\n",
      "\n"
     ]
    }
   ],
   "execution_count": 4
  },
  {
   "cell_type": "markdown",
   "metadata": {
    "id": "3LjJHxKnLrR8"
   },
   "source": [
    "2. Напишите программу `NumPy`, чтобы получить справку по функции `add`."
   ]
  },
  {
   "cell_type": "code",
   "metadata": {
    "id": "lDhA55d-LrR8",
    "ExecuteTime": {
     "end_time": "2024-05-27T22:03:06.547242Z",
     "start_time": "2024-05-27T22:03:06.544109Z"
    }
   },
   "source": "np.info(np.add)",
   "outputs": [
    {
     "name": "stdout",
     "output_type": "stream",
     "text": [
      "add(x1, x2, /, out=None, *, where=True, casting='same_kind', order='K', dtype=None, subok=True[, signature, extobj])\n",
      "\n",
      "Add arguments element-wise.\n",
      "\n",
      "Parameters\n",
      "----------\n",
      "x1, x2 : array_like\n",
      "    The arrays to be added.\n",
      "    If ``x1.shape != x2.shape``, they must be broadcastable to a common\n",
      "    shape (which becomes the shape of the output).\n",
      "out : ndarray, None, or tuple of ndarray and None, optional\n",
      "    A location into which the result is stored. If provided, it must have\n",
      "    a shape that the inputs broadcast to. If not provided or None,\n",
      "    a freshly-allocated array is returned. A tuple (possible only as a\n",
      "    keyword argument) must have length equal to the number of outputs.\n",
      "where : array_like, optional\n",
      "    This condition is broadcast over the input. At locations where the\n",
      "    condition is True, the `out` array will be set to the ufunc result.\n",
      "    Elsewhere, the `out` array will retain its original value.\n",
      "    Note that if an uninitialized `out` array is created via the default\n",
      "    ``out=None``, locations within it where the condition is False will\n",
      "    remain uninitialized.\n",
      "**kwargs\n",
      "    For other keyword-only arguments, see the\n",
      "    :ref:`ufunc docs <ufuncs.kwargs>`.\n",
      "\n",
      "Returns\n",
      "-------\n",
      "add : ndarray or scalar\n",
      "    The sum of `x1` and `x2`, element-wise.\n",
      "    This is a scalar if both `x1` and `x2` are scalars.\n",
      "\n",
      "Notes\n",
      "-----\n",
      "Equivalent to `x1` + `x2` in terms of array broadcasting.\n",
      "\n",
      "Examples\n",
      "--------\n",
      ">>> np.add(1.0, 4.0)\n",
      "5.0\n",
      ">>> x1 = np.arange(9.0).reshape((3, 3))\n",
      ">>> x2 = np.arange(3.0)\n",
      ">>> np.add(x1, x2)\n",
      "array([[  0.,   2.,   4.],\n",
      "       [  3.,   5.,   7.],\n",
      "       [  6.,   8.,  10.]])\n",
      "\n",
      "The ``+`` operator can be used as a shorthand for ``np.add`` on ndarrays.\n",
      "\n",
      ">>> x1 = np.arange(9.0).reshape((3, 3))\n",
      ">>> x2 = np.arange(3.0)\n",
      ">>> x1 + x2\n",
      "array([[ 0.,  2.,  4.],\n",
      "       [ 3.,  5.,  7.],\n",
      "       [ 6.,  8., 10.]])\n"
     ]
    }
   ],
   "execution_count": 87
  },
  {
   "cell_type": "markdown",
   "metadata": {
    "id": "Nm1GHbH4LrR9"
   },
   "source": [
    "3. Напишите программу `NumPy`, чтобы проверить, не равен ли ни один из элементов заданного массива нулю."
   ]
  },
  {
   "cell_type": "code",
   "metadata": {
    "id": "Clp92MIdLrR9",
    "ExecuteTime": {
     "end_time": "2024-05-27T21:08:24.455644Z",
     "start_time": "2024-05-27T21:08:24.451025Z"
    }
   },
   "source": "not np.any(np.isclose(np.array([1]), 0))",
   "outputs": [
    {
     "data": {
      "text/plain": [
       "True"
      ]
     },
     "execution_count": 21,
     "metadata": {},
     "output_type": "execute_result"
    }
   ],
   "execution_count": 21
  },
  {
   "cell_type": "markdown",
   "metadata": {
    "id": "-zUXbmUkLrR9"
   },
   "source": [
    "4. Напишите программу `NumPy` для проверки того, является ли какой-либо из элементов заданного массива ненулевым."
   ]
  },
  {
   "cell_type": "code",
   "metadata": {
    "id": "3Me7UZQyLrR9",
    "ExecuteTime": {
     "end_time": "2024-05-27T21:11:33.004600Z",
     "start_time": "2024-05-27T21:11:32.999602Z"
    }
   },
   "source": "not np.all(np.isclose(np.array([0]), 0))",
   "outputs": [
    {
     "data": {
      "text/plain": [
       "False"
      ]
     },
     "execution_count": 26,
     "metadata": {},
     "output_type": "execute_result"
    }
   ],
   "execution_count": 26
  },
  {
   "cell_type": "markdown",
   "metadata": {
    "id": "RzL6l6O2LrR-"
   },
   "source": "    5. Напишите программу `NumPy` для поэлементной проверки заданного массива на конечность (не бесконечность или не число)."
  },
  {
   "cell_type": "code",
   "metadata": {
    "id": "o06chQHvLrR-",
    "ExecuteTime": {
     "end_time": "2024-05-27T21:11:44.021866Z",
     "start_time": "2024-05-27T21:11:44.018490Z"
    }
   },
   "source": "np.isfinite(np.array([0]))",
   "outputs": [
    {
     "data": {
      "text/plain": [
       "array([ True])"
      ]
     },
     "execution_count": 27,
     "metadata": {},
     "output_type": "execute_result"
    }
   ],
   "execution_count": 27
  },
  {
   "cell_type": "markdown",
   "metadata": {
    "id": "MW4AId2nLrR-"
   },
   "source": [
    "6. Напишите программу `NumPy` для поэлементной проверки положительной или отрицательной бесконечности."
   ]
  },
  {
   "cell_type": "code",
   "execution_count": null,
   "metadata": {
    "id": "EShPYOKYLrR-"
   },
   "outputs": [],
   "source": "np.isnan(np.array([0]))"
  },
  {
   "cell_type": "markdown",
   "metadata": {
    "id": "G5HdstHXLrR_"
   },
   "source": [
    "7. Напишите программу `NumPy` для поэлементной проверкизаданного массива на значение NaN."
   ]
  },
  {
   "cell_type": "code",
   "metadata": {
    "id": "vxHKWIXYLrR_",
    "ExecuteTime": {
     "end_time": "2024-05-27T21:15:49.270394Z",
     "start_time": "2024-05-27T21:15:49.265901Z"
    }
   },
   "source": [
    "t = np.array([1, 2, 3+4j])\n",
    "print(np.iscomplex(t))\n",
    "print(np.isreal(t))\n",
    "# what is the scalar type"
   ],
   "outputs": [
    {
     "name": "stdout",
     "output_type": "stream",
     "text": [
      "[False False  True]\n",
      "[ True  True False]\n"
     ]
    }
   ],
   "execution_count": 30
  },
  {
   "cell_type": "markdown",
   "metadata": {
    "id": "KAnAO0oDLrR_"
   },
   "source": [
    "8. Напишите программу `NumPy` для поэлементной проверки комплексного числа, действительного числа данного массива. Также проверьте, является ли данное число скалярным типом или нет."
   ]
  },
  {
   "cell_type": "code",
   "metadata": {
    "id": "H3ClvgUdLrR_",
    "ExecuteTime": {
     "end_time": "2024-05-27T21:20:18.218307Z",
     "start_time": "2024-05-27T21:20:18.214516Z"
    }
   },
   "source": "np.allclose(np.array([1, 2, 3]), np.array([1 + 1e-2, 2 + 1e-16, 3]))",
   "outputs": [
    {
     "data": {
      "text/plain": [
       "False"
      ]
     },
     "execution_count": 34,
     "metadata": {},
     "output_type": "execute_result"
    }
   ],
   "execution_count": 34
  },
  {
   "cell_type": "markdown",
   "metadata": {
    "id": "tVAqBPETLrR_"
   },
   "source": [
    "9. Напишите программу `NumPy`, чтобы проверить, равны ли два массива по элементам в пределах допуска."
   ]
  },
  {
   "cell_type": "code",
   "metadata": {
    "id": "P7uK4joELrR_",
    "colab": {
     "base_uri": "https://localhost:8080/"
    },
    "outputId": "f7017244-4c23-4f74-e8f4-5198aeada312",
    "ExecuteTime": {
     "end_time": "2024-05-27T21:20:46.777044Z",
     "start_time": "2024-05-27T21:20:46.772655Z"
    }
   },
   "source": [
    "print(np.array([1, 2, 3]) > np.array([1, 2, 3]))\n",
    "print(np.array([1, 2, 3]) >= np.array([1, 2, 3]))\n",
    "print(np.array([1, 2, 3]) < np.array([1, 2, 3]))\n",
    "print(np.array([1, 2, 3]) <= np.array([1, 2, 3]))"
   ],
   "outputs": [
    {
     "data": {
      "text/plain": [
       "array([False, False, False])"
      ]
     },
     "execution_count": 35,
     "metadata": {},
     "output_type": "execute_result"
    }
   ],
   "execution_count": 35
  },
  {
   "cell_type": "markdown",
   "metadata": {
    "id": "9EOPoz68LrSA"
   },
   "source": [
    "10. Напишите программу `NumPy` для создания поэлементного сравнения (больше, больше_равно, меньше и меньше_равно) двух заданных массивов."
   ]
  },
  {
   "metadata": {},
   "cell_type": "markdown",
   "source": ""
  },
  {
   "cell_type": "code",
   "metadata": {
    "id": "LrhzyHYnLrSA",
    "ExecuteTime": {
     "end_time": "2024-05-27T21:27:25.706933Z",
     "start_time": "2024-05-27T21:27:25.703028Z"
    }
   },
   "source": "np.array_equal(np.array([1 + 1e-2, 2, 3]),  np.array([1, 2, 3]))",
   "outputs": [
    {
     "data": {
      "text/plain": [
       "False"
      ]
     },
     "execution_count": 38,
     "metadata": {},
     "output_type": "execute_result"
    }
   ],
   "execution_count": 38
  },
  {
   "cell_type": "markdown",
   "metadata": {
    "id": "HuvSrHitLrSA"
   },
   "source": [
    "11. Напишите программу `NumPy` для создания поэлементного сравнения (равно, равно в пределах допуска) двух заданных массивов."
   ]
  },
  {
   "cell_type": "code",
   "metadata": {
    "id": "5SeLP8cXLrSA",
    "ExecuteTime": {
     "end_time": "2024-05-27T21:29:41.792435Z",
     "start_time": "2024-05-27T21:29:41.787701Z"
    }
   },
   "source": "np.array([1, 7, 13, 105]).nbytes",
   "outputs": [
    {
     "data": {
      "text/plain": [
       "16"
      ]
     },
     "execution_count": 39,
     "metadata": {},
     "output_type": "execute_result"
    }
   ],
   "execution_count": 39
  },
  {
   "cell_type": "markdown",
   "metadata": {
    "id": "wDrxTDu0LrSA"
   },
   "source": [
    "12. Напишите программу `NumPy` для создания массива со значениями 1, 7, 13, 105 и определения размера памяти, занимаемой массивом."
   ]
  },
  {
   "cell_type": "code",
   "metadata": {
    "id": "E0UnVD5hLrSB",
    "ExecuteTime": {
     "end_time": "2024-05-27T21:34:25.392669Z",
     "start_time": "2024-05-27T21:34:25.388723Z"
    }
   },
   "source": "np.concatenate((np.zeros(10), np.ones(10), 5 * np.ones(10)))",
   "outputs": [
    {
     "data": {
      "text/plain": [
       "array([0., 0., 0., 0., 0., 0., 0., 0., 0., 0., 1., 1., 1., 1., 1., 1., 1.,\n",
       "       1., 1., 1., 5., 5., 5., 5., 5., 5., 5., 5., 5., 5.])"
      ]
     },
     "execution_count": 45,
     "metadata": {},
     "output_type": "execute_result"
    }
   ],
   "execution_count": 45
  },
  {
   "cell_type": "markdown",
   "metadata": {
    "id": "LfpXNYxbLrSB"
   },
   "source": [
    "13. Напишите программу `NumPy` для создания массива из `10` нулей, `10` единиц и `10` пятерок."
   ]
  },
  {
   "cell_type": "code",
   "metadata": {
    "id": "uWK9mPk2LrSB",
    "ExecuteTime": {
     "end_time": "2024-05-27T21:34:57.160698Z",
     "start_time": "2024-05-27T21:34:57.156176Z"
    }
   },
   "source": "np.arange(30, 70 + 1)",
   "outputs": [
    {
     "data": {
      "text/plain": [
       "array([30, 31, 32, 33, 34, 35, 36, 37, 38, 39, 40, 41, 42, 43, 44, 45, 46,\n",
       "       47, 48, 49, 50, 51, 52, 53, 54, 55, 56, 57, 58, 59, 60, 61, 62, 63,\n",
       "       64, 65, 66, 67, 68, 69, 70])"
      ]
     },
     "execution_count": 47,
     "metadata": {},
     "output_type": "execute_result"
    }
   ],
   "execution_count": 47
  },
  {
   "cell_type": "markdown",
   "metadata": {
    "id": "XFasIltYLrSB"
   },
   "source": [
    "14. Напишите программу `NumPy` для создания массива целых чисел от `30` до `70`."
   ]
  },
  {
   "cell_type": "code",
   "metadata": {
    "id": "MBtkqiYjLrSB",
    "ExecuteTime": {
     "end_time": "2024-05-27T21:35:34.421907Z",
     "start_time": "2024-05-27T21:35:34.418701Z"
    }
   },
   "source": "np.arange(30, 71, 2)",
   "outputs": [
    {
     "data": {
      "text/plain": [
       "array([30, 32, 34, 36, 38, 40, 42, 44, 46, 48, 50, 52, 54, 56, 58, 60, 62,\n",
       "       64, 66, 68, 70])"
      ]
     },
     "execution_count": 48,
     "metadata": {},
     "output_type": "execute_result"
    }
   ],
   "execution_count": 48
  },
  {
   "cell_type": "markdown",
   "metadata": {
    "id": "k1sVqxQJLrSB"
   },
   "source": [
    "15. Напишите программу `NumPy` для создания массива всех четных целых чисел от `30` до `70`."
   ]
  },
  {
   "metadata": {},
   "cell_type": "markdown",
   "source": ""
  },
  {
   "cell_type": "code",
   "metadata": {
    "id": "5QqpAjiQLrSB",
    "ExecuteTime": {
     "end_time": "2024-05-27T21:36:38.824049Z",
     "start_time": "2024-05-27T21:36:38.820032Z"
    }
   },
   "source": "np.eye(3, 3)",
   "outputs": [
    {
     "data": {
      "text/plain": [
       "array([[1., 0., 0.],\n",
       "       [0., 1., 0.],\n",
       "       [0., 0., 1.]])"
      ]
     },
     "execution_count": 49,
     "metadata": {},
     "output_type": "execute_result"
    }
   ],
   "execution_count": 49
  },
  {
   "cell_type": "markdown",
   "metadata": {
    "id": "YGDKsHHgLrSC"
   },
   "source": [
    "16. Напишите программу `NumPy` для создания идентификационной матрицы `3x3`."
   ]
  },
  {
   "cell_type": "code",
   "metadata": {
    "id": "gztJmu_yLrSC",
    "ExecuteTime": {
     "end_time": "2024-05-27T21:37:32.759040Z",
     "start_time": "2024-05-27T21:37:32.755098Z"
    }
   },
   "source": "np.random.rand()",
   "outputs": [
    {
     "data": {
      "text/plain": [
       "0.9820963033011999"
      ]
     },
     "execution_count": 53,
     "metadata": {},
     "output_type": "execute_result"
    }
   ],
   "execution_count": 53
  },
  {
   "cell_type": "markdown",
   "metadata": {
    "id": "Wpb9xudfLrSC"
   },
   "source": [
    "17. Напишите программу `NumPy` для генерации случайного числа от `0` до `1`."
   ]
  },
  {
   "cell_type": "code",
   "metadata": {
    "id": "24eQOUAeLrSC",
    "ExecuteTime": {
     "end_time": "2024-05-27T21:39:04.411751Z",
     "start_time": "2024-05-27T21:39:04.407365Z"
    }
   },
   "source": "np.random.normal(size=15)",
   "outputs": [
    {
     "data": {
      "text/plain": [
       "array([ 1.31227344,  0.42373349,  0.81280526,  0.44153497, -0.76740565,\n",
       "        0.03368   , -0.20487264, -0.97090774, -1.4868597 ,  0.87483603,\n",
       "       -1.62873073,  1.21789913,  1.93491239, -2.25412606, -1.78367656])"
      ]
     },
     "execution_count": 55,
     "metadata": {},
     "output_type": "execute_result"
    }
   ],
   "execution_count": 55
  },
  {
   "cell_type": "markdown",
   "metadata": {
    "id": "pSGds4jyLrSC"
   },
   "source": [
    "18. Напишите программу `NumPy` для создания массива из `15` случайных чисел из стандартного нормального распределения."
   ]
  },
  {
   "cell_type": "code",
   "metadata": {
    "id": "uQ-EFELoLrSC",
    "ExecuteTime": {
     "end_time": "2024-05-27T21:39:59.666135Z",
     "start_time": "2024-05-27T21:39:59.661675Z"
    }
   },
   "source": "np.arange(15, 56)[1:-1]",
   "outputs": [
    {
     "data": {
      "text/plain": [
       "array([16, 17, 18, 19, 20, 21, 22, 23, 24, 25, 26, 27, 28, 29, 30, 31, 32,\n",
       "       33, 34, 35, 36, 37, 38, 39, 40, 41, 42, 43, 44, 45, 46, 47, 48, 49,\n",
       "       50, 51, 52, 53, 54])"
      ]
     },
     "execution_count": 57,
     "metadata": {},
     "output_type": "execute_result"
    }
   ],
   "execution_count": 57
  },
  {
   "cell_type": "markdown",
   "metadata": {
    "id": "Pp4DeI-HLrSD"
   },
   "source": [
    "19. Напишите программу `NumPy` для создания вектора со значениями в диапазоне от `15` до `55` и печати всех значений, кроме первого и последнего."
   ]
  },
  {
   "cell_type": "code",
   "metadata": {
    "id": "2WI9M2bgLrSD",
    "ExecuteTime": {
     "end_time": "2024-05-27T21:53:59.392009Z",
     "start_time": "2024-05-27T21:53:59.387370Z"
    }
   },
   "source": "np.resize(np.arange(0, 13), (3, 4))",
   "outputs": [
    {
     "data": {
      "text/plain": [
       "array([[ 0,  1,  2,  3],\n",
       "       [ 4,  5,  6,  7],\n",
       "       [ 8,  9, 10, 11]])"
      ]
     },
     "execution_count": 78,
     "metadata": {},
     "output_type": "execute_result"
    }
   ],
   "execution_count": 78
  },
  {
   "cell_type": "markdown",
   "metadata": {
    "id": "Sh526ffOLrSD"
   },
   "source": [
    "20. Напишите программу `NumPy` для создания массива `3X4` с использованием и итерацией по нему."
   ]
  },
  {
   "cell_type": "code",
   "metadata": {
    "id": "LtkDAOdfLrSD",
    "ExecuteTime": {
     "end_time": "2024-05-27T21:44:24.862490Z",
     "start_time": "2024-05-27T21:44:24.858557Z"
    }
   },
   "source": "np.linspace(5, 50, 10)",
   "outputs": [
    {
     "data": {
      "text/plain": [
       "array([ 5., 10., 15., 20., 25., 30., 35., 40., 45., 50.])"
      ]
     },
     "execution_count": 65,
     "metadata": {},
     "output_type": "execute_result"
    }
   ],
   "execution_count": 65
  },
  {
   "cell_type": "markdown",
   "metadata": {
    "id": "pB1xOhfFLrSD"
   },
   "source": [
    "21. Напишите программу `NumPy` для создания вектора длины `10` со значениями, равномерно распределенными между `5` и `50`."
   ]
  },
  {
   "cell_type": "code",
   "metadata": {
    "id": "sMOSjDEyLrSE",
    "ExecuteTime": {
     "end_time": "2024-05-27T21:48:02.242700Z",
     "start_time": "2024-05-27T21:48:02.239543Z"
    }
   },
   "source": [
    "t = np.arange(0, 20)\n",
    "t[np.logical_and(t >= 9, t <= 15)] *= -1\n",
    "print(t)"
   ],
   "outputs": [
    {
     "name": "stdout",
     "output_type": "stream",
     "text": [
      "[  0   1   2   3   4   5   6   7   8  -9 -10 -11 -12 -13 -14 -15  16  17\n",
      "  18  19]\n"
     ]
    }
   ],
   "execution_count": 71
  },
  {
   "cell_type": "markdown",
   "metadata": {
    "id": "5TUPY8EhLrSE"
   },
   "source": [
    "22. Напишите программу `NumPy` для создания вектора со значениями от `0` до `20` и изменения знака чисел в диапазоне от `9` до `15`."
   ]
  },
  {
   "cell_type": "code",
   "metadata": {
    "id": "JHbcQ2t1LrSE",
    "ExecuteTime": {
     "end_time": "2024-05-27T21:48:46.735928Z",
     "start_time": "2024-05-27T21:48:46.731266Z"
    }
   },
   "source": "np.random.randint(0, 11, size=5)",
   "outputs": [
    {
     "data": {
      "text/plain": [
       "array([9, 9, 4, 5, 2])"
      ]
     },
     "execution_count": 72,
     "metadata": {},
     "output_type": "execute_result"
    }
   ],
   "execution_count": 72
  },
  {
   "cell_type": "markdown",
   "metadata": {
    "id": "dWcuAQXFLrSE"
   },
   "source": [
    "23. Напишите программу `NumPy` для создания вектора длины `5`, заполненного произвольными целыми числами от `0` до `10`."
   ]
  },
  {
   "cell_type": "code",
   "metadata": {
    "id": "FwUBtFkALrSE",
    "ExecuteTime": {
     "end_time": "2024-05-27T21:49:49.786191Z",
     "start_time": "2024-05-27T21:49:49.782148Z"
    }
   },
   "source": "np.array([1, 2, 3]) * np.array([1, 2, 3])",
   "outputs": [
    {
     "data": {
      "text/plain": [
       "array([1, 4, 9])"
      ]
     },
     "execution_count": 73,
     "metadata": {},
     "output_type": "execute_result"
    }
   ],
   "execution_count": 73
  },
  {
   "cell_type": "markdown",
   "metadata": {
    "id": "MvSV-KA1LrSE"
   },
   "source": [
    "24. Напишите программу `NumPy` для умножения значений двух заданных векторов."
   ]
  },
  {
   "cell_type": "code",
   "metadata": {
    "id": "SGbT420dLrSF",
    "ExecuteTime": {
     "end_time": "2024-05-27T21:51:54.470097Z",
     "start_time": "2024-05-27T21:51:54.465097Z"
    }
   },
   "source": "np.resize(np.arange(10, 22), (3, 4))",
   "outputs": [
    {
     "data": {
      "text/plain": [
       "array([[10, 11, 12, 13],\n",
       "       [14, 15, 16, 17],\n",
       "       [18, 19, 20, 21]])"
      ]
     },
     "execution_count": 76,
     "metadata": {},
     "output_type": "execute_result"
    }
   ],
   "execution_count": 76
  },
  {
   "cell_type": "markdown",
   "metadata": {
    "id": "UJdrJPZzLrSF"
   },
   "source": [
    "25. Напишите программу `NumPy` для создания матрицы `3x4`, заполненной значениями от `10` до `21`."
   ]
  },
  {
   "cell_type": "code",
   "metadata": {
    "id": "D6nU1fS0LrSF",
    "ExecuteTime": {
     "end_time": "2024-05-27T21:52:17.415185Z",
     "start_time": "2024-05-27T21:52:17.410420Z"
    }
   },
   "source": "np.array([[1, 2, 3], [4, 5, 6]]).shape",
   "outputs": [
    {
     "data": {
      "text/plain": [
       "(2, 3)"
      ]
     },
     "execution_count": 77,
     "metadata": {},
     "output_type": "execute_result"
    }
   ],
   "execution_count": 77
  },
  {
   "cell_type": "markdown",
   "metadata": {
    "id": "9lTLJGRrLrSG"
   },
   "source": [
    "26. Напишите программу `NumPy` для определения количества строк и столбцов заданной матрицы."
   ]
  },
  {
   "cell_type": "code",
   "metadata": {
    "id": "n8wIMOJOLrSG",
    "ExecuteTime": {
     "end_time": "2024-05-27T21:54:38.733625Z",
     "start_time": "2024-05-27T21:54:38.729107Z"
    }
   },
   "source": "np.eye(3)",
   "outputs": [
    {
     "data": {
      "text/plain": [
       "array([[1., 0., 0.],\n",
       "       [0., 1., 0.],\n",
       "       [0., 0., 1.]])"
      ]
     },
     "execution_count": 79,
     "metadata": {},
     "output_type": "execute_result"
    }
   ],
   "execution_count": 79
  },
  {
   "cell_type": "markdown",
   "metadata": {
    "id": "bnehbNwGLrSG"
   },
   "source": [
    "27. Напишите программу `NumPy` для создания единичной матрицы `3x3`, т.е. диагональные элементы равны `1`, остальные равны `0`."
   ]
  },
  {
   "cell_type": "code",
   "metadata": {
    "id": "rMSl-idfLrSG",
    "ExecuteTime": {
     "end_time": "2024-05-27T21:58:50.548284Z",
     "start_time": "2024-05-27T21:58:50.544219Z"
    }
   },
   "source": [
    "full_matrix = np.full((10, 10), 0)\n",
    "\n",
    "# Шаг 2: Создание маски для элементов на границах\n",
    "border_mask = np.ones((10, 10), dtype=bool)\n",
    "\n",
    "# Удаление внутренних элементов из маски\n",
    "border_mask[1:-1, 1:-1] = False\n",
    "full_matrix[border_mask] = 1\n",
    "print(full_matrix)\n"
   ],
   "outputs": [
    {
     "name": "stdout",
     "output_type": "stream",
     "text": [
      "[[1 1 1 1 1 1 1 1 1 1]\n",
      " [1 0 0 0 0 0 0 0 0 1]\n",
      " [1 0 0 0 0 0 0 0 0 1]\n",
      " [1 0 0 0 0 0 0 0 0 1]\n",
      " [1 0 0 0 0 0 0 0 0 1]\n",
      " [1 0 0 0 0 0 0 0 0 1]\n",
      " [1 0 0 0 0 0 0 0 0 1]\n",
      " [1 0 0 0 0 0 0 0 0 1]\n",
      " [1 0 0 0 0 0 0 0 0 1]\n",
      " [1 1 1 1 1 1 1 1 1 1]]\n"
     ]
    }
   ],
   "execution_count": 84
  },
  {
   "cell_type": "markdown",
   "metadata": {
    "id": "zYrLgUf3LrSG"
   },
   "source": [
    "28. Напишите программу `NumPy` для создания матрицы `10х10`, в которой элементы на границах будут равны `1`, а внутри `0`."
   ]
  },
  {
   "cell_type": "code",
   "metadata": {
    "id": "y6MvsUGLLrSG",
    "ExecuteTime": {
     "end_time": "2024-05-27T21:59:23.176064Z",
     "start_time": "2024-05-27T21:59:23.172083Z"
    }
   },
   "source": "np.diag(np.arange(1, 6))",
   "outputs": [
    {
     "data": {
      "text/plain": [
       "array([[1, 0, 0, 0, 0],\n",
       "       [0, 2, 0, 0, 0],\n",
       "       [0, 0, 3, 0, 0],\n",
       "       [0, 0, 0, 4, 0],\n",
       "       [0, 0, 0, 0, 5]])"
      ]
     },
     "execution_count": 86,
     "metadata": {},
     "output_type": "execute_result"
    }
   ],
   "execution_count": 86
  },
  {
   "cell_type": "markdown",
   "metadata": {
    "id": "pf4kNg6DLrSG"
   },
   "source": [
    "29. Напишите программу `NumPy` для создания нулевой матрицы `5x5` с элементами на главной диагонали, равными `1, 2, 3, 4, 5`."
   ]
  },
  {
   "cell_type": "code",
   "execution_count": null,
   "metadata": {
    "id": "qWfvY13WLrSH"
   },
   "outputs": [],
   "source": []
  },
  {
   "cell_type": "markdown",
   "metadata": {
    "id": "II-Wb7mmLrSH"
   },
   "source": [
    "30. Напишите программу `NumPy` для создания матрицы `4x4`, в которой `0` и `1` расположены в шахматном порядке, с нулями на главной диагонали."
   ]
  },
  {
   "cell_type": "code",
   "execution_count": null,
   "metadata": {
    "id": "MbTKLywdLrSH"
   },
   "outputs": [],
   "source": []
  },
  {
   "cell_type": "markdown",
   "metadata": {
    "id": "E5UUF-4QLrSH"
   },
   "source": [
    "31. Напишите программу `NumPy` для создания массива `3x3x3`, заполненного произвольными значениями."
   ]
  },
  {
   "cell_type": "code",
   "execution_count": null,
   "metadata": {
    "id": "X_inamETLrSH"
   },
   "outputs": [],
   "source": []
  },
  {
   "cell_type": "markdown",
   "metadata": {
    "id": "jzXYccaTLrSH"
   },
   "source": [
    "32. Напишите программу `NumPy` для вычисления суммы всех элементов, суммы каждого столбца и суммы каждой строки заданного массива."
   ]
  },
  {
   "cell_type": "code",
   "execution_count": null,
   "metadata": {
    "id": "3VMn3RvULrSH"
   },
   "outputs": [],
   "source": []
  },
  {
   "cell_type": "markdown",
   "metadata": {
    "id": "oPmrSd3DLrSH"
   },
   "source": [
    "33. Напишите программу `NumPy` для вычисления скалярного произведения двух заданных векторов."
   ]
  },
  {
   "cell_type": "code",
   "execution_count": null,
   "metadata": {
    "id": "wzcn1TCpLrSI"
   },
   "outputs": [],
   "source": []
  },
  {
   "cell_type": "markdown",
   "metadata": {
    "id": "UmNYdRvMLrSI"
   },
   "source": [
    "34. Напишите программу `NumPy` для добавления вектора в каждую строку заданной матрицы."
   ]
  },
  {
   "cell_type": "code",
   "execution_count": null,
   "metadata": {
    "id": "Dt44t4mWLrSI"
   },
   "outputs": [],
   "source": []
  },
  {
   "cell_type": "markdown",
   "metadata": {
    "id": "5o8ixWnqLrSI"
   },
   "source": [
    "35. Напишите программу `NumPy` для сохранения данного массива в двоичный файл."
   ]
  },
  {
   "cell_type": "code",
   "execution_count": null,
   "metadata": {
    "id": "1f9oSs4CLrSI"
   },
   "outputs": [],
   "source": []
  },
  {
   "cell_type": "markdown",
   "metadata": {
    "id": "J8XHGVX9LrSI"
   },
   "source": [
    "36. Напишите программу `NumPy` для сохранения двух заданных массивов в один файл в сжатом формате (формат `.npz`) и загрузите его."
   ]
  },
  {
   "cell_type": "code",
   "execution_count": null,
   "metadata": {
    "id": "6v6p-S5lLrSI"
   },
   "outputs": [],
   "source": []
  },
  {
   "cell_type": "markdown",
   "metadata": {
    "id": "_GiCUDdXLrSI"
   },
   "source": [
    "37. Напишите программу `NumPy` для сохранения данного массива в текстовый файл и его загрузки."
   ]
  },
  {
   "cell_type": "code",
   "execution_count": null,
   "metadata": {
    "id": "KhHuJ7kkLrSI"
   },
   "outputs": [],
   "source": []
  },
  {
   "cell_type": "markdown",
   "metadata": {
    "id": "np8z835ELrSJ"
   },
   "source": [
    "38. Напишите программу `NumPy` для преобразования заданного массива в байты и загрузки его как массива."
   ]
  },
  {
   "cell_type": "code",
   "execution_count": null,
   "metadata": {
    "id": "Q3E0YwbTLrSJ"
   },
   "outputs": [],
   "source": []
  },
  {
   "cell_type": "markdown",
   "metadata": {
    "id": "ijvUXguELrSJ"
   },
   "source": [
    "39. Напишите программу `NumPy` для преобразования данного списка в массив, а затем снова преобразуйте его в список. Проверьте, равны ли исходный список и окончательный список."
   ]
  },
  {
   "cell_type": "code",
   "execution_count": null,
   "metadata": {
    "id": "QiG8P3o5LrSJ"
   },
   "outputs": [],
   "source": []
  },
  {
   "cell_type": "markdown",
   "metadata": {
    "id": "7qT1tOj3LrSJ"
   },
   "source": [
    "40. Напишите программу `NumPy` для вычисления координат `x` и `y` точек на синусоиде и построения точек с помощью `matplotlib`."
   ]
  },
  {
   "cell_type": "code",
   "execution_count": null,
   "metadata": {
    "id": "r3qd5t2OLrSJ"
   },
   "outputs": [],
   "source": []
  },
  {
   "cell_type": "markdown",
   "metadata": {
    "id": "xGqlTWbxLrSJ"
   },
   "source": [
    "41. Напишите программу `NumPy` для преобразования dtypes `NumPy` в собственные типы python."
   ]
  },
  {
   "cell_type": "code",
   "execution_count": null,
   "metadata": {
    "id": "HovBggDvLrSJ"
   },
   "outputs": [],
   "source": []
  },
  {
   "cell_type": "markdown",
   "metadata": {
    "id": "r9Z4ejnQLrSK"
   },
   "source": [
    "42. Напишите программу `NumPy` для суммирования элементов матрицы. Если элемент в матрице равен `0`, мы не будем добавлять элемент ниже этого элемента."
   ]
  },
  {
   "cell_type": "code",
   "execution_count": null,
   "metadata": {
    "id": "ZFTj7eG_LrSK",
    "colab": {
     "base_uri": "https://localhost:8080/"
    },
    "outputId": "1a342e27-b523-49e6-e59a-c9db57f856ee"
   },
   "outputs": [
    {
     "output_type": "stream",
     "name": "stdout",
     "text": [
      "[[1 2 0 4]\n",
      " [5 6 7 8]\n",
      " [1 0 3 4]\n",
      " [5 0 7 8]]\n",
      "[[ True  True False  True]\n",
      " [ True  True  True  True]\n",
      " [ True False  True  True]\n",
      " [ True False  True  True]]\n",
      "[[ True  True  True  True]\n",
      " [ True  True False  True]\n",
      " [ True  True  True  True]\n",
      " [ True False  True  True]]\n",
      "54\n"
     ]
    }
   ],
   "source": [
    "matrix = np.array([[1,2,0,4],[5,6,7,8],[1,0,3,4],[5,0,7,8]])\n",
    "print(matrix)\n",
    "mask = matrix != 0\n",
    "print(mask)\n",
    "mask = np.pad(mask, ((1,0),(0,0)), constant_values=True)[:-1]\n",
    "print(mask)\n",
    "\n",
    "print((mask*matrix).sum())\n"
   ]
  },
  {
   "cell_type": "code",
   "source": [
    "np.pad(mask, ((1,0),(0,0)), constant_values=True)[:-1]"
   ],
   "metadata": {
    "colab": {
     "base_uri": "https://localhost:8080/"
    },
    "id": "-Arvb9CtuxQj",
    "outputId": "8404e2db-2998-4390-f7db-b76cf2950c92"
   },
   "execution_count": null,
   "outputs": [
    {
     "output_type": "execute_result",
     "data": {
      "text/plain": [
       "array([[ True,  True,  True,  True],\n",
       "       [ True,  True,  True,  True],\n",
       "       [ True,  True, False,  True],\n",
       "       [ True,  True,  True,  True]])"
      ]
     },
     "metadata": {},
     "execution_count": 33
    }
   ]
  },
  {
   "cell_type": "markdown",
   "metadata": {
    "id": "wPKctbj0LrSK"
   },
   "source": [
    "43. Напишите программу `NumPy` для поиска недостающих (`NaN`) данных в заданном массиве."
   ]
  },
  {
   "cell_type": "code",
   "execution_count": null,
   "metadata": {
    "colab": {
     "base_uri": "https://localhost:8080/"
    },
    "id": "kOzpXne7LrSL",
    "outputId": "a2a70478-f5ee-4053-db13-846082dadae6"
   },
   "outputs": [
    {
     "output_type": "execute_result",
     "data": {
      "text/plain": [
       "(array([3, 6]),)"
      ]
     },
     "metadata": {},
     "execution_count": 4
    }
   ],
   "source": [
    "import numpy as np\n",
    "a = np.array([1, 2, 3, np.nan, 4, 5, np.nan, 6, 7])\n"
   ]
  },
  {
   "cell_type": "markdown",
   "metadata": {
    "id": "hjymTw8YLrSL"
   },
   "source": [
    "44. Напишите программу `NumPy`, чтобы проверить, равны ли два массива (поэлементно) или нет."
   ]
  },
  {
   "cell_type": "code",
   "execution_count": null,
   "metadata": {
    "id": "yOizNqKGLrSL"
   },
   "outputs": [],
   "source": []
  },
  {
   "cell_type": "markdown",
   "metadata": {
    "id": "dr1np9n_LrSL"
   },
   "source": [
    "45. Напишите программу `NumPy` для создания одномерного массива одно-, двух- и трехзначных чисел."
   ]
  },
  {
   "cell_type": "code",
   "execution_count": null,
   "metadata": {
    "id": "x2MlJxiaLrSL"
   },
   "outputs": [],
   "source": [
    "import numpy as np\n",
    "arr1 =np.arange(40)\n"
   ]
  },
  {
   "cell_type": "markdown",
   "metadata": {
    "id": "-cJvQtdFLrSM"
   },
   "source": [
    "46. Напишите программу `NumPy` для создания двумерного массива указанного формата."
   ]
  },
  {
   "cell_type": "code",
   "execution_count": null,
   "metadata": {
    "id": "M0BVY0aoLrSM"
   },
   "outputs": [],
   "source": []
  },
  {
   "cell_type": "markdown",
   "metadata": {
    "id": "yV7JDimtLrSM"
   },
   "source": [
    "47. Напишите программу `NumPy` для создания одномерного массива из сорока псевдослучайно сгенерированных значений. Выберите случайные числа из равномерного распределения между 0 и 1."
   ]
  },
  {
   "cell_type": "code",
   "execution_count": null,
   "metadata": {
    "id": "2wpihfx3LrSM"
   },
   "outputs": [],
   "source": []
  },
  {
   "cell_type": "markdown",
   "metadata": {
    "id": "3OZy4B-rLrSM"
   },
   "source": [
    "48. Напишите программу `NumPy` для создания двумерного массива случайных чисел формы `(8,5)`. Выберите случайные числа из нормального распределения `(200,7)`."
   ]
  },
  {
   "cell_type": "code",
   "execution_count": null,
   "metadata": {
    "id": "-g1JGwLTLrSN"
   },
   "outputs": [],
   "source": []
  },
  {
   "cell_type": "markdown",
   "metadata": {
    "id": "vO8x192LLrSN"
   },
   "source": [
    "49. Напишите программу `NumPy` для генерации униформы, nоднородная случайная выборка из заданного одномерного массива с замещением и без замещения."
   ]
  },
  {
   "cell_type": "code",
   "execution_count": null,
   "metadata": {
    "id": "P2Un6LSpLrSN"
   },
   "outputs": [],
   "source": []
  },
  {
   "cell_type": "markdown",
   "metadata": {
    "id": "agH4pKwfLrSN"
   },
   "source": [
    "50. Напишите программу `NumPy` для создания массива `4x4` со случайными значениями, теперь создайте новый массив из указанного массива, поменяв местами первую и последнюю строки."
   ]
  },
  {
   "cell_type": "code",
   "execution_count": null,
   "metadata": {
    "id": "3d4ToZfSLrSN"
   },
   "outputs": [],
   "source": []
  },
  {
   "cell_type": "markdown",
   "metadata": {
    "id": "Sv5wQCwFLrSN"
   },
   "source": [
    "51. Напишите программу `NumPy` для создания нового массива заданной формы `(5,6)` и типа, заполненного нулями."
   ]
  },
  {
   "cell_type": "code",
   "execution_count": null,
   "metadata": {
    "id": "sclBqaJNLrSN"
   },
   "outputs": [],
   "source": []
  },
  {
   "cell_type": "markdown",
   "metadata": {
    "id": "5zaUnIkdLrSN"
   },
   "source": [
    "52. Напишите программу `NumPy` для сортировки заданного массива по строкам и столбцам в порядке возрастания."
   ]
  },
  {
   "cell_type": "code",
   "execution_count": null,
   "metadata": {
    "id": "cZwKee6LLrSO"
   },
   "outputs": [],
   "source": []
  },
  {
   "cell_type": "markdown",
   "metadata": {
    "id": "WQVFnJWRLrSO"
   },
   "source": [
    "53. Напишите программу `NumPy` для извлечения из заданного массива всех чисел, которые меньше и больше указанного числа."
   ]
  },
  {
   "cell_type": "code",
   "execution_count": null,
   "metadata": {
    "id": "CmBvFEFvLrSO"
   },
   "outputs": [],
   "source": []
  },
  {
   "cell_type": "markdown",
   "metadata": {
    "id": "cpK4uZkRLrSO"
   },
   "source": [
    "54. Напишите программу `NumPy` для замены всех чисел в заданном массиве, которые равны, меньше и больше заданному числу."
   ]
  },
  {
   "cell_type": "code",
   "execution_count": null,
   "metadata": {
    "id": "oLlFnYrdLrSO"
   },
   "outputs": [],
   "source": []
  },
  {
   "cell_type": "markdown",
   "metadata": {
    "id": "QGmaNuDXLrSO"
   },
   "source": [
    "55. Напишите программу `NumPy` для создания массива одинаковой формы и типа данных заданного массива."
   ]
  },
  {
   "cell_type": "code",
   "execution_count": null,
   "metadata": {
    "id": "xcDRGlUWLrSO"
   },
   "outputs": [],
   "source": []
  },
  {
   "cell_type": "markdown",
   "metadata": {
    "id": "gQUrTJ2HLrSO"
   },
   "source": [
    "56. Напишите программу `NumPy` для создания трехмерного массива формы `(3,5,4)` и установки переменной."
   ]
  },
  {
   "cell_type": "code",
   "execution_count": null,
   "metadata": {
    "id": "MBRIfUrvLrSO"
   },
   "outputs": [],
   "source": []
  },
  {
   "cell_type": "markdown",
   "metadata": {
    "id": "EXlVaeA6LrSP"
   },
   "source": [
    "57. Напишите программу `NumPy` для создания массива `4x4`, теперь создайте новый массив из указанного массива, поменяв местами первый и последний, второй и третий столбцы."
   ]
  },
  {
   "cell_type": "code",
   "execution_count": null,
   "metadata": {
    "id": "NFZdJbP9LrSP"
   },
   "outputs": [],
   "source": []
  },
  {
   "cell_type": "markdown",
   "metadata": {
    "id": "bEiyNTo_LrSP"
   },
   "source": [
    "58. Напишите программу `NumPy` для замены строк и столбцов заданного массива в обратном порядке."
   ]
  },
  {
   "cell_type": "code",
   "metadata": {
    "id": "510ZZG-kLrSP",
    "ExecuteTime": {
     "end_time": "2024-05-28T07:03:47.808538Z",
     "start_time": "2024-05-28T07:03:47.803834Z"
    }
   },
   "source": [
    "arr = np.array([[1, 2, 3],\n",
    "                [4, 5, 6],\n",
    "                [7, 8, 9]])\n",
    "print(np.flip(arr, axis=0))\n",
    "print(np.flip(arr, axis=1))"
   ],
   "outputs": [
    {
     "name": "stdout",
     "output_type": "stream",
     "text": [
      "[[7 8 9]\n",
      " [4 5 6]\n",
      " [1 2 3]]\n",
      "[[3 2 1]\n",
      " [6 5 4]\n",
      " [9 8 7]]\n"
     ]
    }
   ],
   "execution_count": 89
  },
  {
   "cell_type": "markdown",
   "metadata": {
    "id": "GCjWM7QhLrSP"
   },
   "source": [
    "59. Напишите программу `NumPy` для поэлементного умножения двух заданных массивов одинакового размера."
   ]
  },
  {
   "cell_type": "code",
   "metadata": {
    "id": "2JmisyWzLrSP",
    "ExecuteTime": {
     "end_time": "2024-05-28T07:00:49.898321Z",
     "start_time": "2024-05-28T07:00:49.882802Z"
    }
   },
   "source": "np.array([1, 2, 3]) * np.array([1, 2, 3])",
   "outputs": [
    {
     "data": {
      "text/plain": [
       "array([1, 4, 9])"
      ]
     },
     "execution_count": 88,
     "metadata": {},
     "output_type": "execute_result"
    }
   ],
   "execution_count": 88
  },
  {
   "metadata": {},
   "cell_type": "code",
   "outputs": [],
   "execution_count": null,
   "source": ""
  }
 ],
 "metadata": {
  "kernelspec": {
   "display_name": "venv",
   "language": "python",
   "name": "python3"
  },
  "language_info": {
   "name": "python",
   "version": "3.10.9 (main, Dec 19 2022, 17:35:49) [GCC 12.2.0]"
  },
  "orig_nbformat": 4,
  "vscode": {
   "interpreter": {
    "hash": "7be26e4ebda509dfbb13ab6a52ec64ebd2214f8c7086d07b65a11e04d307a817"
   }
  },
  "colab": {
   "provenance": []
  }
 },
 "nbformat": 4,
 "nbformat_minor": 0
}
